{
 "cells": [
  {
   "cell_type": "code",
   "execution_count": 1,
   "id": "f274a2e5-ad22-4246-a1e5-23814b09bc0b",
   "metadata": {},
   "outputs": [],
   "source": [
    "import pandas as pd"
   ]
  },
  {
   "cell_type": "code",
   "execution_count": 2,
   "id": "6a541d73-6327-4674-a701-0f5afedaa690",
   "metadata": {},
   "outputs": [],
   "source": [
    "import matplotlib.pyplot as plt"
   ]
  },
  {
   "cell_type": "code",
   "execution_count": 9,
   "id": "c069017d-7428-47f8-bcba-25a176ab2128",
   "metadata": {},
   "outputs": [],
   "source": [
    "import pandas as pd\n",
    "import numpy as np\n",
    "import matplotlib.pyplot as plt\n",
    "import yfinance as yf\n",
    "import plotly.graph_objects as go"
   ]
  },
  {
   "cell_type": "code",
   "execution_count": 10,
   "id": "d6bb8429-9279-42b9-ba6f-99c22b2cb15f",
   "metadata": {},
   "outputs": [
    {
     "name": "stdout",
     "output_type": "stream",
     "text": [
      "Requirement already satisfied: plotly in c:\\users\\patna\\anaconda3\\envs\\stocksentiment\\lib\\site-packages (6.2.0)\n",
      "Requirement already satisfied: narwhals>=1.15.1 in c:\\users\\patna\\anaconda3\\envs\\stocksentiment\\lib\\site-packages (from plotly) (1.46.0)\n",
      "Requirement already satisfied: packaging in c:\\users\\patna\\anaconda3\\envs\\stocksentiment\\lib\\site-packages (from plotly) (25.0)\n"
     ]
    }
   ],
   "source": [
    "!pip install plotly"
   ]
  },
  {
   "cell_type": "code",
   "execution_count": 11,
   "id": "16b9cc9d-c7f2-46ce-baee-11bdb5138a1e",
   "metadata": {},
   "outputs": [],
   "source": [
    "msft=yf.Ticker(\"MSFT\")"
   ]
  },
  {
   "cell_type": "code",
   "execution_count": 12,
   "id": "99ec6e8b-ad29-4209-8d6f-1422a1ed21be",
   "metadata": {},
   "outputs": [
    {
     "data": {
      "text/plain": [
       "yfinance.Ticker object <MSFT>"
      ]
     },
     "execution_count": 12,
     "metadata": {},
     "output_type": "execute_result"
    }
   ],
   "source": [
    "msft"
   ]
  },
  {
   "cell_type": "code",
   "execution_count": 13,
   "id": "d3f29180-4532-44bb-adcb-44c0e5622d74",
   "metadata": {},
   "outputs": [],
   "source": [
    "info = msft.info"
   ]
  },
  {
   "cell_type": "code",
   "execution_count": 14,
   "id": "68df40cd-5e01-49ea-bec1-0059c2760233",
   "metadata": {},
   "outputs": [
    {
     "data": {
      "text/plain": [
       "dict"
      ]
     },
     "execution_count": 14,
     "metadata": {},
     "output_type": "execute_result"
    }
   ],
   "source": [
    "type(info)"
   ]
  },
  {
   "cell_type": "code",
   "execution_count": 15,
   "id": "760d379c-f1a8-4748-a0ac-09828461c368",
   "metadata": {},
   "outputs": [
    {
     "data": {
      "text/plain": [
       "{'address1': 'One Microsoft Way',\n",
       " 'city': 'Redmond',\n",
       " 'state': 'WA',\n",
       " 'zip': '98052-6399',\n",
       " 'country': 'United States',\n",
       " 'phone': '425 882 8080',\n",
       " 'website': 'https://www.microsoft.com',\n",
       " 'industry': 'Software - Infrastructure',\n",
       " 'industryKey': 'software-infrastructure',\n",
       " 'industryDisp': 'Software - Infrastructure',\n",
       " 'sector': 'Technology',\n",
       " 'sectorKey': 'technology',\n",
       " 'sectorDisp': 'Technology',\n",
       " 'longBusinessSummary': 'Microsoft Corporation develops and supports software, services, devices and solutions worldwide. The Productivity and Business Processes segment offers office, exchange, SharePoint, Microsoft Teams, office 365 Security and Compliance, Microsoft viva, and Microsoft 365 copilot; and office consumer services, such as Microsoft 365 consumer subscriptions, Office licensed on-premises, and other office services. This segment also provides LinkedIn; and dynamics business solutions, including Dynamics 365, a set of intelligent, cloud-based applications across ERP, CRM, power apps, and power automate; and on-premises ERP and CRM applications. The Intelligent Cloud segment offers server products and cloud services, such as azure and other cloud services; SQL and windows server, visual studio, system center, and related client access licenses, as well as nuance and GitHub; and enterprise services including enterprise support services, industry solutions, and nuance professional services. The More Personal Computing segment offers Windows, including windows OEM licensing and other non-volume licensing of the Windows operating system; Windows commercial comprising volume licensing of the Windows operating system, windows cloud services, and other Windows commercial offerings; patent licensing; and windows Internet of Things; and devices, such as surface, HoloLens, and PC accessories. Additionally, this segment provides gaming, which includes Xbox hardware and content, and first- and third-party content; Xbox game pass and other subscriptions, cloud gaming, advertising, third-party disc royalties, and other cloud services; search and news advertising, which includes Bing, Microsoft News and Edge, and third-party affiliates; and nature-based carbon removal credits. The company sells its products through OEMs, distributors, and resellers; and directly through digital marketplaces, online, and retail stores. The company was founded in 1975 and is headquartered in Redmond, Washington.',\n",
       " 'fullTimeEmployees': 228000,\n",
       " 'companyOfficers': [{'maxAge': 1,\n",
       "   'name': 'Mr. Satya  Nadella',\n",
       "   'age': 57,\n",
       "   'title': 'Chairman & CEO',\n",
       "   'yearBorn': 1967,\n",
       "   'fiscalYear': 2024,\n",
       "   'totalPay': 7869791,\n",
       "   'exercisedValue': 0,\n",
       "   'unexercisedValue': 0},\n",
       "  {'maxAge': 1,\n",
       "   'name': 'Mr. Bradford L. Smith LCA',\n",
       "   'age': 65,\n",
       "   'title': 'President & Vice Chairman',\n",
       "   'yearBorn': 1959,\n",
       "   'fiscalYear': 2024,\n",
       "   'totalPay': 4755618,\n",
       "   'exercisedValue': 0,\n",
       "   'unexercisedValue': 0},\n",
       "  {'maxAge': 1,\n",
       "   'name': 'Ms. Amy E. Hood',\n",
       "   'age': 52,\n",
       "   'title': 'Executive VP & CFO',\n",
       "   'yearBorn': 1972,\n",
       "   'fiscalYear': 2024,\n",
       "   'totalPay': 4704250,\n",
       "   'exercisedValue': 0,\n",
       "   'unexercisedValue': 0},\n",
       "  {'maxAge': 1,\n",
       "   'name': 'Mr. Judson B. Althoff',\n",
       "   'age': 50,\n",
       "   'title': 'Executive VP & Chief Commercial Officer',\n",
       "   'yearBorn': 1974,\n",
       "   'fiscalYear': 2024,\n",
       "   'totalPay': 4534974,\n",
       "   'exercisedValue': 0,\n",
       "   'unexercisedValue': 0},\n",
       "  {'maxAge': 1,\n",
       "   'name': 'Ms. Carolina  Dybeck Happe',\n",
       "   'age': 52,\n",
       "   'title': 'Executive VP & COO',\n",
       "   'yearBorn': 1972,\n",
       "   'fiscalYear': 2024,\n",
       "   'exercisedValue': 0,\n",
       "   'unexercisedValue': 0},\n",
       "  {'maxAge': 1,\n",
       "   'name': 'Ms. Alice L. Jolla',\n",
       "   'age': 58,\n",
       "   'title': 'Corporate VP & Chief Accounting Officer',\n",
       "   'yearBorn': 1966,\n",
       "   'fiscalYear': 2024,\n",
       "   'exercisedValue': 0,\n",
       "   'unexercisedValue': 0},\n",
       "  {'maxAge': 1,\n",
       "   'name': 'Jonathan  Neilson',\n",
       "   'title': 'Vice President of Investor Relations',\n",
       "   'fiscalYear': 2024,\n",
       "   'exercisedValue': 0,\n",
       "   'unexercisedValue': 0},\n",
       "  {'maxAge': 1,\n",
       "   'name': 'Mr. Hossein  Nowbar',\n",
       "   'title': 'Chief Legal Officer',\n",
       "   'fiscalYear': 2024,\n",
       "   'exercisedValue': 0,\n",
       "   'unexercisedValue': 0},\n",
       "  {'maxAge': 1,\n",
       "   'name': 'Mr. Frank X. Shaw',\n",
       "   'title': 'Chief Communications Officer',\n",
       "   'fiscalYear': 2024,\n",
       "   'exercisedValue': 0,\n",
       "   'unexercisedValue': 0},\n",
       "  {'maxAge': 1,\n",
       "   'name': 'Mr. Takeshi  Numoto',\n",
       "   'age': 53,\n",
       "   'title': 'Executive VP & Chief Marketing Officer',\n",
       "   'yearBorn': 1971,\n",
       "   'fiscalYear': 2024,\n",
       "   'exercisedValue': 0,\n",
       "   'unexercisedValue': 0}],\n",
       " 'auditRisk': 9,\n",
       " 'boardRisk': 5,\n",
       " 'compensationRisk': 4,\n",
       " 'shareHolderRightsRisk': 2,\n",
       " 'overallRisk': 3,\n",
       " 'governanceEpochDate': 1748736000,\n",
       " 'compensationAsOfEpochDate': 1735603200,\n",
       " 'irWebsite': 'http://www.microsoft.com/investor/default.aspx',\n",
       " 'executiveTeam': [],\n",
       " 'maxAge': 86400,\n",
       " 'priceHint': 2,\n",
       " 'previousClose': 503.51,\n",
       " 'open': 503.05,\n",
       " 'dayLow': 497.75,\n",
       " 'dayHigh': 504.44,\n",
       " 'regularMarketPreviousClose': 503.51,\n",
       " 'regularMarketOpen': 503.05,\n",
       " 'regularMarketDayLow': 497.75,\n",
       " 'regularMarketDayHigh': 504.44,\n",
       " 'dividendRate': 3.32,\n",
       " 'dividendYield': 0.67,\n",
       " 'exDividendDate': 1755734400,\n",
       " 'payoutRatio': 0.2442,\n",
       " 'fiveYearAvgDividendYield': 0.83,\n",
       " 'beta': 1.026,\n",
       " 'trailingPE': 38.754253,\n",
       " 'forwardPE': 33.543816,\n",
       " 'volume': 16435194,\n",
       " 'regularMarketVolume': 16435194,\n",
       " 'averageVolume': 20769605,\n",
       " 'averageVolume10days': 19670140,\n",
       " 'averageDailyVolume10Day': 19670140,\n",
       " 'bid': 500.9,\n",
       " 'ask': 501.74,\n",
       " 'bidSize': 1,\n",
       " 'askSize': 1,\n",
       " 'marketCap': 3727270346752,\n",
       " 'fiftyTwoWeekLow': 344.79,\n",
       " 'fiftyTwoWeekHigh': 506.78,\n",
       " 'priceToSalesTrailing12Months': 13.8041935,\n",
       " 'fiftyDayAverage': 462.8434,\n",
       " 'twoHundredDayAverage': 425.4301,\n",
       " 'trailingAnnualDividendRate': 3.24,\n",
       " 'trailingAnnualDividendYield': 0.0064348276,\n",
       " 'currency': 'USD',\n",
       " 'tradeable': False,\n",
       " 'enterpriseValue': 3722422517760,\n",
       " 'profitMargins': 0.35789,\n",
       " 'floatShares': 7422063978,\n",
       " 'sharesOutstanding': 7432540160,\n",
       " 'sharesShort': 51170267,\n",
       " 'sharesShortPriorMonth': 57074580,\n",
       " 'sharesShortPreviousMonthDate': 1747267200,\n",
       " 'dateShortInterest': 1749772800,\n",
       " 'sharesPercentSharesOut': 0.0069,\n",
       " 'heldPercentInsiders': 0.00062,\n",
       " 'heldPercentInstitutions': 0.74637,\n",
       " 'shortRatio': 2.72,\n",
       " 'shortPercentOfFloat': 0.0069,\n",
       " 'impliedSharesOutstanding': 7449010176,\n",
       " 'bookValue': 43.3,\n",
       " 'priceToBook': 11.581525,\n",
       " 'lastFiscalYearEnd': 1719705600,\n",
       " 'nextFiscalYearEnd': 1751241600,\n",
       " 'mostRecentQuarter': 1743379200,\n",
       " 'earningsQuarterlyGrowth': 0.177,\n",
       " 'netIncomeToCommon': 96635002880,\n",
       " 'trailingEps': 12.94,\n",
       " 'forwardEps': 14.95,\n",
       " 'lastSplitFactor': '2:1',\n",
       " 'lastSplitDate': 1045526400,\n",
       " 'enterpriseToRevenue': 13.786,\n",
       " 'enterpriseToEbitda': 24.954,\n",
       " '52WeekChange': 0.10734546,\n",
       " 'SandP52WeekChange': 0.12153554,\n",
       " 'lastDividendValue': 0.83,\n",
       " 'lastDividendDate': 1747267200,\n",
       " 'quoteType': 'EQUITY',\n",
       " 'currentPrice': 501.48,\n",
       " 'targetHighPrice': 700.0,\n",
       " 'targetLowPrice': 432.0,\n",
       " 'targetMeanPrice': 522.2628,\n",
       " 'targetMedianPrice': 510.82,\n",
       " 'recommendationMean': 1.43333,\n",
       " 'recommendationKey': 'strong_buy',\n",
       " 'numberOfAnalystOpinions': 50,\n",
       " 'totalCash': 79617998848,\n",
       " 'totalCashPerShare': 10.712,\n",
       " 'ebitda': 149172994048,\n",
       " 'totalDebt': 105018998784,\n",
       " 'quickRatio': 1.244,\n",
       " 'currentRatio': 1.372,\n",
       " 'totalRevenue': 270010007552,\n",
       " 'debtToEquity': 32.626,\n",
       " 'revenuePerShare': 36.325,\n",
       " 'returnOnAssets': 0.14581999,\n",
       " 'returnOnEquity': 0.3361,\n",
       " 'grossProfits': 186509000704,\n",
       " 'freeCashflow': 54817001472,\n",
       " 'operatingCashflow': 130710003712,\n",
       " 'earningsGrowth': 0.177,\n",
       " 'revenueGrowth': 0.133,\n",
       " 'grossMargins': 0.69074994,\n",
       " 'ebitdaMargins': 0.55247,\n",
       " 'operatingMargins': 0.45671,\n",
       " 'financialCurrency': 'USD',\n",
       " 'symbol': 'MSFT',\n",
       " 'language': 'en-US',\n",
       " 'region': 'US',\n",
       " 'typeDisp': 'Equity',\n",
       " 'quoteSourceName': 'Nasdaq Real Time Price',\n",
       " 'triggerable': True,\n",
       " 'customPriceAlertConfidence': 'HIGH',\n",
       " 'averageDailyVolume3Month': 20769605,\n",
       " 'fiftyTwoWeekLowChange': 156.69,\n",
       " 'fiftyTwoWeekLowChangePercent': 0.45445052,\n",
       " 'fiftyTwoWeekRange': '344.79 - 506.78',\n",
       " 'fiftyTwoWeekHighChange': -5.299988,\n",
       " 'fiftyTwoWeekHighChangePercent': -0.010458163,\n",
       " 'fiftyTwoWeekChangePercent': 10.734547,\n",
       " 'dividendDate': 1757548800,\n",
       " 'earningsTimestamp': 1753905600,\n",
       " 'earningsTimestampStart': 1753905600,\n",
       " 'earningsTimestampEnd': 1753905600,\n",
       " 'earningsCallTimestampStart': 1753911000,\n",
       " 'earningsCallTimestampEnd': 1753911000,\n",
       " 'isEarningsDateEstimate': False,\n",
       " 'epsTrailingTwelveMonths': 12.94,\n",
       " 'epsForward': 14.95,\n",
       " 'epsCurrentYear': 13.40369,\n",
       " 'priceEpsCurrentYear': 37.413578,\n",
       " 'fiftyDayAverageChange': 38.636597,\n",
       " 'fiftyDayAverageChangePercent': 0.0834766,\n",
       " 'twoHundredDayAverageChange': 76.0499,\n",
       " 'twoHundredDayAverageChangePercent': 0.17876002,\n",
       " 'marketState': 'POST',\n",
       " 'sourceInterval': 15,\n",
       " 'exchangeDataDelayedBy': 0,\n",
       " 'averageAnalystRating': '1.4 - Strong Buy',\n",
       " 'cryptoTradeable': False,\n",
       " 'hasPrePostMarketData': True,\n",
       " 'firstTradeDateMilliseconds': 511108200000,\n",
       " 'postMarketChangePercent': 0.06380649,\n",
       " 'postMarketPrice': 501.8,\n",
       " 'postMarketChange': 0.3199768,\n",
       " 'regularMarketChange': -2.03,\n",
       " 'regularMarketDayRange': '497.75 - 504.44',\n",
       " 'fullExchangeName': 'NasdaqGS',\n",
       " 'shortName': 'Microsoft Corporation',\n",
       " 'corporateActions': [],\n",
       " 'postMarketTime': 1752180274,\n",
       " 'regularMarketTime': 1752177600,\n",
       " 'exchange': 'NMS',\n",
       " 'messageBoardId': 'finmb_21835',\n",
       " 'exchangeTimezoneName': 'America/New_York',\n",
       " 'exchangeTimezoneShortName': 'EDT',\n",
       " 'gmtOffSetMilliseconds': -14400000,\n",
       " 'market': 'us_market',\n",
       " 'esgPopulated': False,\n",
       " 'regularMarketChangePercent': -0.403169,\n",
       " 'regularMarketPrice': 501.48,\n",
       " 'longName': 'Microsoft Corporation',\n",
       " 'displayName': 'Microsoft',\n",
       " 'trailingPegRatio': 2.3569}"
      ]
     },
     "execution_count": 15,
     "metadata": {},
     "output_type": "execute_result"
    }
   ],
   "source": [
    "info"
   ]
  },
  {
   "cell_type": "code",
   "execution_count": 16,
   "id": "90cd7116-f921-4863-b983-589ec5e69437",
   "metadata": {},
   "outputs": [],
   "source": [
    "hist=msft.history(period=\"max\")"
   ]
  },
  {
   "cell_type": "code",
   "execution_count": 17,
   "id": "e74b6761-c9de-4780-9961-eea774e8dd81",
   "metadata": {},
   "outputs": [
    {
     "data": {
      "text/html": [
       "<div>\n",
       "<style scoped>\n",
       "    .dataframe tbody tr th:only-of-type {\n",
       "        vertical-align: middle;\n",
       "    }\n",
       "\n",
       "    .dataframe tbody tr th {\n",
       "        vertical-align: top;\n",
       "    }\n",
       "\n",
       "    .dataframe thead th {\n",
       "        text-align: right;\n",
       "    }\n",
       "</style>\n",
       "<table border=\"1\" class=\"dataframe\">\n",
       "  <thead>\n",
       "    <tr style=\"text-align: right;\">\n",
       "      <th></th>\n",
       "      <th>Open</th>\n",
       "      <th>High</th>\n",
       "      <th>Low</th>\n",
       "      <th>Close</th>\n",
       "      <th>Volume</th>\n",
       "      <th>Dividends</th>\n",
       "      <th>Stock Splits</th>\n",
       "    </tr>\n",
       "    <tr>\n",
       "      <th>Date</th>\n",
       "      <th></th>\n",
       "      <th></th>\n",
       "      <th></th>\n",
       "      <th></th>\n",
       "      <th></th>\n",
       "      <th></th>\n",
       "      <th></th>\n",
       "    </tr>\n",
       "  </thead>\n",
       "  <tbody>\n",
       "    <tr>\n",
       "      <th>1986-03-13 00:00:00-05:00</th>\n",
       "      <td>0.054277</td>\n",
       "      <td>0.062259</td>\n",
       "      <td>0.054277</td>\n",
       "      <td>0.059598</td>\n",
       "      <td>1031788800</td>\n",
       "      <td>0.0</td>\n",
       "      <td>0.0</td>\n",
       "    </tr>\n",
       "    <tr>\n",
       "      <th>1986-03-14 00:00:00-05:00</th>\n",
       "      <td>0.059598</td>\n",
       "      <td>0.062791</td>\n",
       "      <td>0.059598</td>\n",
       "      <td>0.061726</td>\n",
       "      <td>308160000</td>\n",
       "      <td>0.0</td>\n",
       "      <td>0.0</td>\n",
       "    </tr>\n",
       "    <tr>\n",
       "      <th>1986-03-17 00:00:00-05:00</th>\n",
       "      <td>0.061726</td>\n",
       "      <td>0.063323</td>\n",
       "      <td>0.061726</td>\n",
       "      <td>0.062791</td>\n",
       "      <td>133171200</td>\n",
       "      <td>0.0</td>\n",
       "      <td>0.0</td>\n",
       "    </tr>\n",
       "    <tr>\n",
       "      <th>1986-03-18 00:00:00-05:00</th>\n",
       "      <td>0.062791</td>\n",
       "      <td>0.063323</td>\n",
       "      <td>0.060662</td>\n",
       "      <td>0.061194</td>\n",
       "      <td>67766400</td>\n",
       "      <td>0.0</td>\n",
       "      <td>0.0</td>\n",
       "    </tr>\n",
       "    <tr>\n",
       "      <th>1986-03-19 00:00:00-05:00</th>\n",
       "      <td>0.061194</td>\n",
       "      <td>0.061726</td>\n",
       "      <td>0.059598</td>\n",
       "      <td>0.060130</td>\n",
       "      <td>47894400</td>\n",
       "      <td>0.0</td>\n",
       "      <td>0.0</td>\n",
       "    </tr>\n",
       "    <tr>\n",
       "      <th>...</th>\n",
       "      <td>...</td>\n",
       "      <td>...</td>\n",
       "      <td>...</td>\n",
       "      <td>...</td>\n",
       "      <td>...</td>\n",
       "      <td>...</td>\n",
       "      <td>...</td>\n",
       "    </tr>\n",
       "    <tr>\n",
       "      <th>2025-07-03 00:00:00-04:00</th>\n",
       "      <td>493.809998</td>\n",
       "      <td>500.130005</td>\n",
       "      <td>493.440002</td>\n",
       "      <td>498.839996</td>\n",
       "      <td>13984800</td>\n",
       "      <td>0.0</td>\n",
       "      <td>0.0</td>\n",
       "    </tr>\n",
       "    <tr>\n",
       "      <th>2025-07-07 00:00:00-04:00</th>\n",
       "      <td>497.380005</td>\n",
       "      <td>498.750000</td>\n",
       "      <td>495.230011</td>\n",
       "      <td>497.720001</td>\n",
       "      <td>13981600</td>\n",
       "      <td>0.0</td>\n",
       "      <td>0.0</td>\n",
       "    </tr>\n",
       "    <tr>\n",
       "      <th>2025-07-08 00:00:00-04:00</th>\n",
       "      <td>497.239990</td>\n",
       "      <td>498.200012</td>\n",
       "      <td>494.109985</td>\n",
       "      <td>496.619995</td>\n",
       "      <td>11846600</td>\n",
       "      <td>0.0</td>\n",
       "      <td>0.0</td>\n",
       "    </tr>\n",
       "    <tr>\n",
       "      <th>2025-07-09 00:00:00-04:00</th>\n",
       "      <td>500.299988</td>\n",
       "      <td>506.779999</td>\n",
       "      <td>499.739990</td>\n",
       "      <td>503.510010</td>\n",
       "      <td>18659500</td>\n",
       "      <td>0.0</td>\n",
       "      <td>0.0</td>\n",
       "    </tr>\n",
       "    <tr>\n",
       "      <th>2025-07-10 00:00:00-04:00</th>\n",
       "      <td>503.049988</td>\n",
       "      <td>504.440002</td>\n",
       "      <td>497.750000</td>\n",
       "      <td>501.480011</td>\n",
       "      <td>16435194</td>\n",
       "      <td>0.0</td>\n",
       "      <td>0.0</td>\n",
       "    </tr>\n",
       "  </tbody>\n",
       "</table>\n",
       "<p>9908 rows × 7 columns</p>\n",
       "</div>"
      ],
      "text/plain": [
       "                                 Open        High         Low       Close  \\\n",
       "Date                                                                        \n",
       "1986-03-13 00:00:00-05:00    0.054277    0.062259    0.054277    0.059598   \n",
       "1986-03-14 00:00:00-05:00    0.059598    0.062791    0.059598    0.061726   \n",
       "1986-03-17 00:00:00-05:00    0.061726    0.063323    0.061726    0.062791   \n",
       "1986-03-18 00:00:00-05:00    0.062791    0.063323    0.060662    0.061194   \n",
       "1986-03-19 00:00:00-05:00    0.061194    0.061726    0.059598    0.060130   \n",
       "...                               ...         ...         ...         ...   \n",
       "2025-07-03 00:00:00-04:00  493.809998  500.130005  493.440002  498.839996   \n",
       "2025-07-07 00:00:00-04:00  497.380005  498.750000  495.230011  497.720001   \n",
       "2025-07-08 00:00:00-04:00  497.239990  498.200012  494.109985  496.619995   \n",
       "2025-07-09 00:00:00-04:00  500.299988  506.779999  499.739990  503.510010   \n",
       "2025-07-10 00:00:00-04:00  503.049988  504.440002  497.750000  501.480011   \n",
       "\n",
       "                               Volume  Dividends  Stock Splits  \n",
       "Date                                                            \n",
       "1986-03-13 00:00:00-05:00  1031788800        0.0           0.0  \n",
       "1986-03-14 00:00:00-05:00   308160000        0.0           0.0  \n",
       "1986-03-17 00:00:00-05:00   133171200        0.0           0.0  \n",
       "1986-03-18 00:00:00-05:00    67766400        0.0           0.0  \n",
       "1986-03-19 00:00:00-05:00    47894400        0.0           0.0  \n",
       "...                               ...        ...           ...  \n",
       "2025-07-03 00:00:00-04:00    13984800        0.0           0.0  \n",
       "2025-07-07 00:00:00-04:00    13981600        0.0           0.0  \n",
       "2025-07-08 00:00:00-04:00    11846600        0.0           0.0  \n",
       "2025-07-09 00:00:00-04:00    18659500        0.0           0.0  \n",
       "2025-07-10 00:00:00-04:00    16435194        0.0           0.0  \n",
       "\n",
       "[9908 rows x 7 columns]"
      ]
     },
     "execution_count": 17,
     "metadata": {},
     "output_type": "execute_result"
    }
   ],
   "source": [
    "hist\n"
   ]
  },
  {
   "cell_type": "code",
   "execution_count": 18,
   "id": "3f0e32c5-71f2-4181-a864-29c174b89738",
   "metadata": {},
   "outputs": [
    {
     "data": {
      "text/plain": [
       "<Axes: xlabel='Date'>"
      ]
     },
     "execution_count": 18,
     "metadata": {},
     "output_type": "execute_result"
    },
    {
     "data": {
      "image/png": "[encoded data removed]",
      "text/plain": [
       "<Figure size 1500x500 with 1 Axes>"
      ]
     },
     "metadata": {},
     "output_type": "display_data"
    }
   ],
   "source": [
    "hist[\"Open\"].plot(figsize=(15,5))"
   ]
  },
  {
   "cell_type": "code",
   "execution_count": 19,
   "id": "2539a942-8479-42f5-b0cf-0816133b2d50",
   "metadata": {},
   "outputs": [],
   "source": [
    "stonks = [\n",
    "    \"AAPL\", \"MSFT\", \"GOOGL\", \"AMZN\", \"META\", \"TSLA\", \"NVDA\", \"NFLX\", \"AMD\", \"INTC\",\n",
    "    \"BRK-B\", \"JPM\", \"V\", \"MA\", \"BAC\", \"WFC\", \"C\", \"GS\", \"UNH\", \"JNJ\",\n",
    "    \"PFE\", \"MRK\", \"CVX\", \"XOM\", \"COP\", \"WMT\", \"COST\", \"TGT\", \"DIS\", \"NKE\"\n",
    "]\n"
   ]
  },
  {
   "cell_type": "code",
   "execution_count": 20,
   "id": "f9d8caa7-836a-4d26-81cc-d9250d13112b",
   "metadata": {},
   "outputs": [
    {
     "data": {
      "text/plain": [
       "30"
      ]
     },
     "execution_count": 20,
     "metadata": {},
     "output_type": "execute_result"
    }
   ],
   "source": [
    "len(stonks)"
   ]
  },
  {
   "cell_type": "code",
   "execution_count": 21,
   "id": "5b369f65-6aed-4198-a177-5788546c226a",
   "metadata": {},
   "outputs": [],
   "source": [
    "for s in stonks:\n",
    "    tkr = yf.Ticker(s)\n",
    "    break"
   ]
  },
  {
   "cell_type": "code",
   "execution_count": 22,
   "id": "917e66b8-d7d6-4097-9e3a-2a3b01e791a6",
   "metadata": {},
   "outputs": [],
   "source": [
    "h = tkr.history(period='3y')"
   ]
  },
  {
   "cell_type": "code",
   "execution_count": 23,
   "id": "885200f4-7de4-484d-9778-aba03a93c57c",
   "metadata": {},
   "outputs": [
    {
     "data": {
      "text/html": [
       "<div>\n",
       "<style scoped>\n",
       "    .dataframe tbody tr th:only-of-type {\n",
       "        vertical-align: middle;\n",
       "    }\n",
       "\n",
       "    .dataframe tbody tr th {\n",
       "        vertical-align: top;\n",
       "    }\n",
       "\n",
       "    .dataframe thead th {\n",
       "        text-align: right;\n",
       "    }\n",
       "</style>\n",
       "<table border=\"1\" class=\"dataframe\">\n",
       "  <thead>\n",
       "    <tr style=\"text-align: right;\">\n",
       "      <th></th>\n",
       "      <th>Open</th>\n",
       "      <th>High</th>\n",
       "      <th>Low</th>\n",
       "      <th>Close</th>\n",
       "      <th>Volume</th>\n",
       "      <th>Dividends</th>\n",
       "      <th>Stock Splits</th>\n",
       "    </tr>\n",
       "    <tr>\n",
       "      <th>Date</th>\n",
       "      <th></th>\n",
       "      <th></th>\n",
       "      <th></th>\n",
       "      <th></th>\n",
       "      <th></th>\n",
       "      <th></th>\n",
       "      <th></th>\n",
       "    </tr>\n",
       "  </thead>\n",
       "  <tbody>\n",
       "    <tr>\n",
       "      <th>2022-07-11 00:00:00-04:00</th>\n",
       "      <td>143.369860</td>\n",
       "      <td>144.324545</td>\n",
       "      <td>141.509704</td>\n",
       "      <td>142.582489</td>\n",
       "      <td>63141600</td>\n",
       "      <td>0.0</td>\n",
       "      <td>0.0</td>\n",
       "    </tr>\n",
       "    <tr>\n",
       "      <th>2022-07-12 00:00:00-04:00</th>\n",
       "      <td>143.458443</td>\n",
       "      <td>146.105970</td>\n",
       "      <td>142.759662</td>\n",
       "      <td>143.556870</td>\n",
       "      <td>77588800</td>\n",
       "      <td>0.0</td>\n",
       "      <td>0.0</td>\n",
       "    </tr>\n",
       "    <tr>\n",
       "      <th>2022-07-13 00:00:00-04:00</th>\n",
       "      <td>140.732223</td>\n",
       "      <td>144.137582</td>\n",
       "      <td>139.875950</td>\n",
       "      <td>143.192749</td>\n",
       "      <td>71185600</td>\n",
       "      <td>0.0</td>\n",
       "      <td>0.0</td>\n",
       "    </tr>\n",
       "    <tr>\n",
       "      <th>2022-07-14 00:00:00-04:00</th>\n",
       "      <td>141.804960</td>\n",
       "      <td>146.598057</td>\n",
       "      <td>140.988064</td>\n",
       "      <td>146.125641</td>\n",
       "      <td>78140700</td>\n",
       "      <td>0.0</td>\n",
       "      <td>0.0</td>\n",
       "    </tr>\n",
       "    <tr>\n",
       "      <th>2022-07-15 00:00:00-04:00</th>\n",
       "      <td>147.414972</td>\n",
       "      <td>148.477920</td>\n",
       "      <td>145.859918</td>\n",
       "      <td>147.798813</td>\n",
       "      <td>76259900</td>\n",
       "      <td>0.0</td>\n",
       "      <td>0.0</td>\n",
       "    </tr>\n",
       "    <tr>\n",
       "      <th>...</th>\n",
       "      <td>...</td>\n",
       "      <td>...</td>\n",
       "      <td>...</td>\n",
       "      <td>...</td>\n",
       "      <td>...</td>\n",
       "      <td>...</td>\n",
       "      <td>...</td>\n",
       "    </tr>\n",
       "    <tr>\n",
       "      <th>2025-07-03 00:00:00-04:00</th>\n",
       "      <td>212.149994</td>\n",
       "      <td>214.649994</td>\n",
       "      <td>211.809998</td>\n",
       "      <td>213.550003</td>\n",
       "      <td>34955800</td>\n",
       "      <td>0.0</td>\n",
       "      <td>0.0</td>\n",
       "    </tr>\n",
       "    <tr>\n",
       "      <th>2025-07-07 00:00:00-04:00</th>\n",
       "      <td>212.679993</td>\n",
       "      <td>216.229996</td>\n",
       "      <td>208.800003</td>\n",
       "      <td>209.949997</td>\n",
       "      <td>50229000</td>\n",
       "      <td>0.0</td>\n",
       "      <td>0.0</td>\n",
       "    </tr>\n",
       "    <tr>\n",
       "      <th>2025-07-08 00:00:00-04:00</th>\n",
       "      <td>210.100006</td>\n",
       "      <td>211.429993</td>\n",
       "      <td>208.449997</td>\n",
       "      <td>210.009995</td>\n",
       "      <td>42848900</td>\n",
       "      <td>0.0</td>\n",
       "      <td>0.0</td>\n",
       "    </tr>\n",
       "    <tr>\n",
       "      <th>2025-07-09 00:00:00-04:00</th>\n",
       "      <td>209.529999</td>\n",
       "      <td>211.330002</td>\n",
       "      <td>207.220001</td>\n",
       "      <td>211.139999</td>\n",
       "      <td>48749400</td>\n",
       "      <td>0.0</td>\n",
       "      <td>0.0</td>\n",
       "    </tr>\n",
       "    <tr>\n",
       "      <th>2025-07-10 00:00:00-04:00</th>\n",
       "      <td>210.505005</td>\n",
       "      <td>213.479996</td>\n",
       "      <td>210.119995</td>\n",
       "      <td>212.410004</td>\n",
       "      <td>43770740</td>\n",
       "      <td>0.0</td>\n",
       "      <td>0.0</td>\n",
       "    </tr>\n",
       "  </tbody>\n",
       "</table>\n",
       "<p>753 rows × 7 columns</p>\n",
       "</div>"
      ],
      "text/plain": [
       "                                 Open        High         Low       Close  \\\n",
       "Date                                                                        \n",
       "2022-07-11 00:00:00-04:00  143.369860  144.324545  141.509704  142.582489   \n",
       "2022-07-12 00:00:00-04:00  143.458443  146.105970  142.759662  143.556870   \n",
       "2022-07-13 00:00:00-04:00  140.732223  144.137582  139.875950  143.192749   \n",
       "2022-07-14 00:00:00-04:00  141.804960  146.598057  140.988064  146.125641   \n",
       "2022-07-15 00:00:00-04:00  147.414972  148.477920  145.859918  147.798813   \n",
       "...                               ...         ...         ...         ...   \n",
       "2025-07-03 00:00:00-04:00  212.149994  214.649994  211.809998  213.550003   \n",
       "2025-07-07 00:00:00-04:00  212.679993  216.229996  208.800003  209.949997   \n",
       "2025-07-08 00:00:00-04:00  210.100006  211.429993  208.449997  210.009995   \n",
       "2025-07-09 00:00:00-04:00  209.529999  211.330002  207.220001  211.139999   \n",
       "2025-07-10 00:00:00-04:00  210.505005  213.479996  210.119995  212.410004   \n",
       "\n",
       "                             Volume  Dividends  Stock Splits  \n",
       "Date                                                          \n",
       "2022-07-11 00:00:00-04:00  63141600        0.0           0.0  \n",
       "2022-07-12 00:00:00-04:00  77588800        0.0           0.0  \n",
       "2022-07-13 00:00:00-04:00  71185600        0.0           0.0  \n",
       "2022-07-14 00:00:00-04:00  78140700        0.0           0.0  \n",
       "2022-07-15 00:00:00-04:00  76259900        0.0           0.0  \n",
       "...                             ...        ...           ...  \n",
       "2025-07-03 00:00:00-04:00  34955800        0.0           0.0  \n",
       "2025-07-07 00:00:00-04:00  50229000        0.0           0.0  \n",
       "2025-07-08 00:00:00-04:00  42848900        0.0           0.0  \n",
       "2025-07-09 00:00:00-04:00  48749400        0.0           0.0  \n",
       "2025-07-10 00:00:00-04:00  43770740        0.0           0.0  \n",
       "\n",
       "[753 rows x 7 columns]"
      ]
     },
     "execution_count": 23,
     "metadata": {},
     "output_type": "execute_result"
    }
   ],
   "source": [
    "h"
   ]
  },
  {
   "cell_type": "code",
   "execution_count": 24,
   "id": "bec1364c-731c-4274-b9ff-1d2c0d7bb277",
   "metadata": {},
   "outputs": [],
   "source": [
    "hists = {}\n",
    "for s in stonks:\n",
    "    tkr = yf.Ticker(s)\n",
    "    history = tkr.history(period='3y')\n",
    "    hists[s]=history"
   ]
  },
  {
   "cell_type": "code",
   "execution_count": 25,
   "id": "d49bac96-f0d5-4c1c-b38c-9082bc00134e",
   "metadata": {},
   "outputs": [
    {
     "data": {
      "text/html": [
       "<div>\n",
       "<style scoped>\n",
       "    .dataframe tbody tr th:only-of-type {\n",
       "        vertical-align: middle;\n",
       "    }\n",
       "\n",
       "    .dataframe tbody tr th {\n",
       "        vertical-align: top;\n",
       "    }\n",
       "\n",
       "    .dataframe thead th {\n",
       "        text-align: right;\n",
       "    }\n",
       "</style>\n",
       "<table border=\"1\" class=\"dataframe\">\n",
       "  <thead>\n",
       "    <tr style=\"text-align: right;\">\n",
       "      <th></th>\n",
       "      <th>Open</th>\n",
       "      <th>High</th>\n",
       "      <th>Low</th>\n",
       "      <th>Close</th>\n",
       "      <th>Volume</th>\n",
       "      <th>Dividends</th>\n",
       "      <th>Stock Splits</th>\n",
       "    </tr>\n",
       "    <tr>\n",
       "      <th>Date</th>\n",
       "      <th></th>\n",
       "      <th></th>\n",
       "      <th></th>\n",
       "      <th></th>\n",
       "      <th></th>\n",
       "      <th></th>\n",
       "      <th></th>\n",
       "    </tr>\n",
       "  </thead>\n",
       "  <tbody>\n",
       "    <tr>\n",
       "      <th>2022-07-11 00:00:00-04:00</th>\n",
       "      <td>114.080002</td>\n",
       "      <td>114.300003</td>\n",
       "      <td>110.870003</td>\n",
       "      <td>111.750000</td>\n",
       "      <td>53487600</td>\n",
       "      <td>0.0</td>\n",
       "      <td>0.0</td>\n",
       "    </tr>\n",
       "    <tr>\n",
       "      <th>2022-07-12 00:00:00-04:00</th>\n",
       "      <td>112.160004</td>\n",
       "      <td>113.230003</td>\n",
       "      <td>108.339996</td>\n",
       "      <td>109.220001</td>\n",
       "      <td>54280300</td>\n",
       "      <td>0.0</td>\n",
       "      <td>0.0</td>\n",
       "    </tr>\n",
       "    <tr>\n",
       "      <th>2022-07-13 00:00:00-04:00</th>\n",
       "      <td>107.029999</td>\n",
       "      <td>111.779999</td>\n",
       "      <td>106.010002</td>\n",
       "      <td>110.400002</td>\n",
       "      <td>61353800</td>\n",
       "      <td>0.0</td>\n",
       "      <td>0.0</td>\n",
       "    </tr>\n",
       "    <tr>\n",
       "      <th>2022-07-14 00:00:00-04:00</th>\n",
       "      <td>110.239998</td>\n",
       "      <td>111.180000</td>\n",
       "      <td>107.580002</td>\n",
       "      <td>110.629997</td>\n",
       "      <td>51163100</td>\n",
       "      <td>0.0</td>\n",
       "      <td>0.0</td>\n",
       "    </tr>\n",
       "    <tr>\n",
       "      <th>2022-07-15 00:00:00-04:00</th>\n",
       "      <td>112.500000</td>\n",
       "      <td>115.589996</td>\n",
       "      <td>111.589996</td>\n",
       "      <td>113.550003</td>\n",
       "      <td>84317800</td>\n",
       "      <td>0.0</td>\n",
       "      <td>0.0</td>\n",
       "    </tr>\n",
       "    <tr>\n",
       "      <th>...</th>\n",
       "      <td>...</td>\n",
       "      <td>...</td>\n",
       "      <td>...</td>\n",
       "      <td>...</td>\n",
       "      <td>...</td>\n",
       "      <td>...</td>\n",
       "      <td>...</td>\n",
       "    </tr>\n",
       "    <tr>\n",
       "      <th>2025-07-03 00:00:00-04:00</th>\n",
       "      <td>221.820007</td>\n",
       "      <td>224.009995</td>\n",
       "      <td>221.360001</td>\n",
       "      <td>223.410004</td>\n",
       "      <td>29632400</td>\n",
       "      <td>0.0</td>\n",
       "      <td>0.0</td>\n",
       "    </tr>\n",
       "    <tr>\n",
       "      <th>2025-07-07 00:00:00-04:00</th>\n",
       "      <td>223.000000</td>\n",
       "      <td>224.289993</td>\n",
       "      <td>222.369995</td>\n",
       "      <td>223.470001</td>\n",
       "      <td>36604100</td>\n",
       "      <td>0.0</td>\n",
       "      <td>0.0</td>\n",
       "    </tr>\n",
       "    <tr>\n",
       "      <th>2025-07-08 00:00:00-04:00</th>\n",
       "      <td>223.919998</td>\n",
       "      <td>224.000000</td>\n",
       "      <td>218.429993</td>\n",
       "      <td>219.360001</td>\n",
       "      <td>45692000</td>\n",
       "      <td>0.0</td>\n",
       "      <td>0.0</td>\n",
       "    </tr>\n",
       "    <tr>\n",
       "      <th>2025-07-09 00:00:00-04:00</th>\n",
       "      <td>221.070007</td>\n",
       "      <td>224.289993</td>\n",
       "      <td>220.470001</td>\n",
       "      <td>222.539993</td>\n",
       "      <td>38155100</td>\n",
       "      <td>0.0</td>\n",
       "      <td>0.0</td>\n",
       "    </tr>\n",
       "    <tr>\n",
       "      <th>2025-07-10 00:00:00-04:00</th>\n",
       "      <td>221.669998</td>\n",
       "      <td>222.789993</td>\n",
       "      <td>219.699997</td>\n",
       "      <td>222.259995</td>\n",
       "      <td>29693432</td>\n",
       "      <td>0.0</td>\n",
       "      <td>0.0</td>\n",
       "    </tr>\n",
       "  </tbody>\n",
       "</table>\n",
       "<p>753 rows × 7 columns</p>\n",
       "</div>"
      ],
      "text/plain": [
       "                                 Open        High         Low       Close  \\\n",
       "Date                                                                        \n",
       "2022-07-11 00:00:00-04:00  114.080002  114.300003  110.870003  111.750000   \n",
       "2022-07-12 00:00:00-04:00  112.160004  113.230003  108.339996  109.220001   \n",
       "2022-07-13 00:00:00-04:00  107.029999  111.779999  106.010002  110.400002   \n",
       "2022-07-14 00:00:00-04:00  110.239998  111.180000  107.580002  110.629997   \n",
       "2022-07-15 00:00:00-04:00  112.500000  115.589996  111.589996  113.550003   \n",
       "...                               ...         ...         ...         ...   \n",
       "2025-07-03 00:00:00-04:00  221.820007  224.009995  221.360001  223.410004   \n",
       "2025-07-07 00:00:00-04:00  223.000000  224.289993  222.369995  223.470001   \n",
       "2025-07-08 00:00:00-04:00  223.919998  224.000000  218.429993  219.360001   \n",
       "2025-07-09 00:00:00-04:00  221.070007  224.289993  220.470001  222.539993   \n",
       "2025-07-10 00:00:00-04:00  221.669998  222.789993  219.699997  222.259995   \n",
       "\n",
       "                             Volume  Dividends  Stock Splits  \n",
       "Date                                                          \n",
       "2022-07-11 00:00:00-04:00  53487600        0.0           0.0  \n",
       "2022-07-12 00:00:00-04:00  54280300        0.0           0.0  \n",
       "2022-07-13 00:00:00-04:00  61353800        0.0           0.0  \n",
       "2022-07-14 00:00:00-04:00  51163100        0.0           0.0  \n",
       "2022-07-15 00:00:00-04:00  84317800        0.0           0.0  \n",
       "...                             ...        ...           ...  \n",
       "2025-07-03 00:00:00-04:00  29632400        0.0           0.0  \n",
       "2025-07-07 00:00:00-04:00  36604100        0.0           0.0  \n",
       "2025-07-08 00:00:00-04:00  45692000        0.0           0.0  \n",
       "2025-07-09 00:00:00-04:00  38155100        0.0           0.0  \n",
       "2025-07-10 00:00:00-04:00  29693432        0.0           0.0  \n",
       "\n",
       "[753 rows x 7 columns]"
      ]
     },
     "execution_count": 25,
     "metadata": {},
     "output_type": "execute_result"
    }
   ],
   "source": [
    "hists[\"AMZN\"]"
   ]
  },
  {
   "cell_type": "markdown",
   "id": "61a4e587-bea0-4595-afe6-261e9e4d2499",
   "metadata": {},
   "source": [
    "## Plot the stock price\n"
   ]
  },
  {
   "cell_type": "code",
   "execution_count": 26,
   "id": "65c81305-c7aa-411a-81ed-e6cf8fcb0291",
   "metadata": {},
   "outputs": [],
   "source": [
    "temp_df = hists[\"AMZN\"].copy()"
   ]
  },
  {
   "cell_type": "code",
   "execution_count": 27,
   "id": "bc2756a6-5b1e-4d2f-86a8-2391dd58feb5",
   "metadata": {},
   "outputs": [
    {
     "ename": "NameError",
     "evalue": "name 'stock' is not defined",
     "output_type": "error",
     "traceback": [
      "\u001b[1;31m---------------------------------------------------------------------------\u001b[0m",
      "\u001b[1;31mNameError\u001b[0m                                 Traceback (most recent call last)",
      "Cell \u001b[1;32mIn[27], line 12\u001b[0m\n\u001b[0;32m      1\u001b[0m fig \u001b[38;5;241m=\u001b[39m go\u001b[38;5;241m.\u001b[39mFigure(data\u001b[38;5;241m=\u001b[39m[go\u001b[38;5;241m.\u001b[39mCandlestick(x\u001b[38;5;241m=\u001b[39mtemp_df\u001b[38;5;241m.\u001b[39mindex,\n\u001b[0;32m      2\u001b[0m                 \u001b[38;5;28mopen\u001b[39m\u001b[38;5;241m=\u001b[39mtemp_df[\u001b[38;5;124m'\u001b[39m\u001b[38;5;124mOpen\u001b[39m\u001b[38;5;124m'\u001b[39m],\n\u001b[0;32m      3\u001b[0m                 high\u001b[38;5;241m=\u001b[39mtemp_df[\u001b[38;5;124m'\u001b[39m\u001b[38;5;124mHigh\u001b[39m\u001b[38;5;124m'\u001b[39m],\n\u001b[0;32m      4\u001b[0m                 low\u001b[38;5;241m=\u001b[39mtemp_df[\u001b[38;5;124m'\u001b[39m\u001b[38;5;124mLow\u001b[39m\u001b[38;5;124m'\u001b[39m],\n\u001b[0;32m      5\u001b[0m                 close\u001b[38;5;241m=\u001b[39mtemp_df[\u001b[38;5;124m'\u001b[39m\u001b[38;5;124mClose\u001b[39m\u001b[38;5;124m'\u001b[39m])])\n\u001b[0;32m      6\u001b[0m fig\u001b[38;5;241m.\u001b[39mupdate_layout(\n\u001b[0;32m      7\u001b[0m     margin\u001b[38;5;241m=\u001b[39m\u001b[38;5;28mdict\u001b[39m(l\u001b[38;5;241m=\u001b[39m\u001b[38;5;241m20\u001b[39m, r\u001b[38;5;241m=\u001b[39m\u001b[38;5;241m20\u001b[39m, t\u001b[38;5;241m=\u001b[39m\u001b[38;5;241m60\u001b[39m, b\u001b[38;5;241m=\u001b[39m\u001b[38;5;241m20\u001b[39m),\n\u001b[0;32m      8\u001b[0m     height\u001b[38;5;241m=\u001b[39m\u001b[38;5;241m300\u001b[39m,\n\u001b[0;32m      9\u001b[0m     paper_bgcolor\u001b[38;5;241m=\u001b[39m\u001b[38;5;124m\"\u001b[39m\u001b[38;5;124mLightSteelBlue\u001b[39m\u001b[38;5;124m\"\u001b[39m,\n\u001b[0;32m     10\u001b[0m     plot_bgcolor\u001b[38;5;241m=\u001b[39m\u001b[38;5;124m\"\u001b[39m\u001b[38;5;124mwhite\u001b[39m\u001b[38;5;124m\"\u001b[39m,\n\u001b[0;32m     11\u001b[0m     title\u001b[38;5;241m=\u001b[39m\u001b[38;5;28mdict\u001b[39m(\n\u001b[1;32m---> 12\u001b[0m         text\u001b[38;5;241m=\u001b[39m\u001b[38;5;124mf\u001b[39m\u001b[38;5;124m\"\u001b[39m\u001b[38;5;132;01m{\u001b[39;00mstock\u001b[38;5;132;01m}\u001b[39;00m\u001b[38;5;124m - Candlestick Chart\u001b[39m\u001b[38;5;124m\"\u001b[39m,\n\u001b[0;32m     13\u001b[0m         x\u001b[38;5;241m=\u001b[39m\u001b[38;5;241m0.5\u001b[39m,\n\u001b[0;32m     14\u001b[0m         xanchor\u001b[38;5;241m=\u001b[39m\u001b[38;5;124m\"\u001b[39m\u001b[38;5;124mcenter\u001b[39m\u001b[38;5;124m\"\u001b[39m,\n\u001b[0;32m     15\u001b[0m         font\u001b[38;5;241m=\u001b[39m\u001b[38;5;28mdict\u001b[39m(size\u001b[38;5;241m=\u001b[39m\u001b[38;5;241m20\u001b[39m, family\u001b[38;5;241m=\u001b[39m\u001b[38;5;124m\"\u001b[39m\u001b[38;5;124mArial\u001b[39m\u001b[38;5;124m\"\u001b[39m)\n\u001b[0;32m     16\u001b[0m     ),\n\u001b[0;32m     17\u001b[0m     xaxis_rangeslider_visible\u001b[38;5;241m=\u001b[39m\u001b[38;5;28;01mFalse\u001b[39;00m,\n\u001b[0;32m     18\u001b[0m     xaxis_title\u001b[38;5;241m=\u001b[39m\u001b[38;5;124m\"\u001b[39m\u001b[38;5;124mDate\u001b[39m\u001b[38;5;124m\"\u001b[39m,\n\u001b[0;32m     19\u001b[0m     yaxis_title\u001b[38;5;241m=\u001b[39m\u001b[38;5;124m\"\u001b[39m\u001b[38;5;124mPrice (USD)\u001b[39m\u001b[38;5;124m\"\u001b[39m,\n\u001b[0;32m     20\u001b[0m )\n\u001b[0;32m     21\u001b[0m fig\u001b[38;5;241m.\u001b[39mshow()\n",
      "\u001b[1;31mNameError\u001b[0m: name 'stock' is not defined"
     ]
    }
   ],
   "source": [
    "\n",
    "fig = go.Figure(data=[go.Candlestick(x=temp_df.index,\n",
    "                open=temp_df['Open'],\n",
    "                high=temp_df['High'],\n",
    "                low=temp_df['Low'],\n",
    "                close=temp_df['Close'])])\n",
    "fig.update_layout(\n",
    "    margin=dict(l=20, r=20, t=60, b=20),\n",
    "    height=300,\n",
    "    paper_bgcolor=\"LightSteelBlue\",\n",
    "    plot_bgcolor=\"white\",\n",
    "    title=dict(\n",
    "        text=f\"{stock} - Candlestick Chart\",\n",
    "        x=0.5,\n",
    "        xanchor=\"center\",\n",
    "        font=dict(size=20, family=\"Arial\")\n",
    "    ),\n",
    "    xaxis_rangeslider_visible=False,\n",
    "    xaxis_title=\"Date\",\n",
    "    yaxis_title=\"Price (USD)\",\n",
    ")\n",
    "fig.show()"
   ]
  },
  {
   "cell_type": "code",
   "execution_count": null,
   "id": "2e74fc9b-82f7-4e1d-aa17-c12ff1a536ca",
   "metadata": {},
   "outputs": [],
   "source": [
    "from datetime import datetime, timedelta"
   ]
  },
  {
   "cell_type": "code",
   "execution_count": 67,
   "id": "3c3aa0aa-5947-4cf5-8401-ee9a1e68d36a",
   "metadata": {},
   "outputs": [
    {
     "name": "stdin",
     "output_type": "stream",
     "text": [
      "Enter stock symbol:  AMZN\n"
     ]
    },
    {
     "data": {
      "application/vnd.plotly.v1+json": {
       "config": {
        "plotlyServerURL": "https://plot.ly"
       },
       "data": [
        {
         "close": {
          "bdata": "AAAAAADwW0AAAACAFE5bQAAAAKCZmVtAAAAA4FGoW0AAAABAM2NcQAAAAOCjcFxAAAAAoHCNXUAAAACgR7FeQAAAAOBRKF9AAAAAQOGaXkAAAADA9UheQAAAAADXs1xAAAAAgBQ+XkAAAACA65FeQAAAAGBm3mBAAAAA4HrsYEAAAADAHsVgQAAAAOCjcGFAAAAAgD3SYUAAAACgmZlhQAAAAMAebWFAAAAAYI86YUAAAACAFNZhQAAAAOB6lGFAAAAAoJnxYUAAAACAwuVhQAAAAMD1GGJAAAAAQDPDYUAAAACgmclhQAAAACBcR2FAAAAAQAqnYEAAAAAA17NgQAAAAKCZuWBAAAAAwPUoYUAAAAAAAFhgQAAAAKBHOWBAAAAAIFwXYEAAAACgR7FfQAAAAOB69F9AAAAA4KPgX0AAAABACodfQAAAACBcL2BAAAAAgD06YEAAAADgo6hgQAAAAGBmDmFAAAAA4Hq0X0AAAACgmRFgQAAAAIDrkV9AAAAAgOvhXkAAAACAPSpfQAAAAAApjF5AAAAAYI+iXUAAAAAA11NdQAAAAIDrcVxAAAAAoJnJXEAAAACAPZpcQAAAAOCjgF1AAAAAQDOzXEAAAAAAAEBcQAAAAOBR+FxAAAAAgMJFXkAAAADAzDxeQAAAAEAzE15AAAAAANejXEAAAABA4WpcQAAAAKBwDVxAAAAAoJk5XEAAAACA6yFcQAAAAKCZuVpAAAAAYI9yXEAAAABAChddQAAAAOB6xFxAAAAAAADQXEAAAADgetRdQAAAAOB69F1AAAAAYGYmXkAAAACAPepcQAAAAKBwvVtAAAAAgD3aWUAAAAAAKZxZQAAAAGCPMlhAAAAAIK4HV0AAAABAM1NWQAAAAGC4vlZAAAAAgOuhVkAAAABguH5WQAAAAMD1iFVAAAAA4FEoWEAAAABgjzJZQAAAACBcn1hAAAAAACm8WEAAAAAgrkdYQAAAAGBmtldAAAAAwPWIV0AAAACgcB1XQAAAAMDMTFdAAAAA4FGIV0AAAACAPVpXQAAAAMDMfFdAAAAAQOEaV0AAAABgjyJYQAAAAAAA4FdAAAAA4FGIV0AAAADgo8BWQAAAAAAAEFZAAAAAoHAdVkAAAABgZpZWQAAAAIDCRVZAAAAAQDOjVkAAAAAgXB9XQAAAAMAe5VZAAAAAwMwcVkAAAABACvdVQAAAAEDhOlVAAAAAAClMVUAAAACgR7FVQAAAAGCP8lRAAAAAAABQVUAAAABgj8JUQAAAAOB6dFRAAAAAIIULVUAAAAAAAABVQAAAAOB6dFVAAAAAwPVIVUAAAAAgrsdUQAAAAMAehVVAAAAAQArXVUAAAAAgrndWQAAAAIDCxVdAAAAAoEfRV0AAAAAgrodYQAAAAEAzA1hAAAAAoHDdV0AAAAAghWtXQAAAAAAAUFhAAAAAoEdhWEAAAADgehRYQAAAACCFS1hAAAAAgBTOWEAAAAAgXI9ZQAAAAEAzI1lAAAAA4FHIWUAAAACgmUlaQAAAAIA9OlxAAAAAwPXYWUAAAAAghYtZQAAAAEAKh1lAAAAAQDMDWUAAAAAgXI9YQAAAAEAKZ1hAAAAAYI/iWEAAAADAzOxYQAAAAIA9SllAAAAAoJmJWEAAAADAzExYQAAAAMAepVdAAAAAYI/yV0AAAADgevRXQAAAAAAAYFdAAAAA4KNwV0AAAABguI5XQAAAAEDhCldAAAAA4FEIV0AAAACgmblXQAAAAAAAcFdAAAAAQDNjV0AAAABA4XpXQAAAAAAAEFdAAAAAYLiuVkAAAAAghRtXQAAAAOBRuFdAAAAAwMwMWEAAAABgjwJZQAAAAMDMvFhAAAAAoHBtWEAAAABACidZQAAAAMDMrFhAAAAAoHCtWEAAAADgUYhYQAAAAGCPglhAAAAAIFxPWEAAAAAAABBZQAAAAAAAgFlAAAAAYI/SWUAAAACAPZpZQAAAAMDM/FlAAAAAYGZGWUAAAAAA14NZQAAAAEDhillAAAAAQOH6WEAAAADAHnVYQAAAAKCZmVlAAAAA4KOgWUAAAAAgXK9ZQAAAAEAzk1lAAAAAQDMTWkAAAAAA1/NZQAAAAKBwvVpAAAAAoHCNWkAAAADgeqRZQAAAAGC4PlpAAAAA4Hp0W0AAAADAzFxaQAAAAEAzg1lAAAAA4FHoWUAAAACgmelZQAAAAAAAAFpAAAAAgD1qWkAAAADAHnVaQAAAACCup1pAAAAAACmMW0AAAAAghQtcQAAAAOCjkFtAAAAAwMzMW0AAAACgmVlcQAAAAAAA4FxAAAAAoJmJXUAAAAAAABBdQAAAAOCjwFxAAAAAIFy/XEAAAAAAADBdQAAAAAAAwFxAAAAAQAoHXkAAAACAPWpeQAAAAMAeJV5AAAAAoEexXkAAAAAAABBfQAAAAEAzU19AAAAAQAqnX0AAAABguE5eQAAAAAAAEF9AAAAAIIXbXkAAAADgeqRfQAAAAIA9ql9AAAAAQOGaX0AAAABACsdfQAAAACBcX19AAAAAgOtxX0AAAADAHjVfQAAAAMDMRGBAAAAAYI8qYEAAAADAHtVfQAAAAIDCJWBAAAAAoEchYEAAAACgmflfQAAAACCFS2BAAAAAQApHYEAAAAAAKUxgQAAAACCFC2BAAAAAwPU4YEAAAADgUchfQAAAAMD1GGBAAAAAoJlZYEAAAACgmclgQAAAAIDC1WBAAAAAgOuxYEAAAABgj5pgQAAAACCF62BAAAAAYLg+YEAAAAAAAEBgQAAAAKCZGWBAAAAAACkkYEAAAADAzARgQAAAAAAACGBAAAAAYLiGYEAAAACAwrVgQAAAAIAUdmBAAAAAYLgGYEAAAADAHh1gQAAAAIA9cmFAAAAAQArHYUAAAACAFH5hQAAAAEAzO2FAAAAAgOtRYUAAAADAHk1hQAAAAIA9kmFAAAAAoHA1YUAAAACAPeJgQAAAACBcv2BAAAAAQAqnYEAAAACAwtVgQAAAAAAAyGBAAAAA4KPwYEAAAABA4XpgQAAAAOBRqGBAAAAA4HqkYEAAAADAHt1gQAAAAIA94mBAAAAA4FFAYUAAAAAA10NhQAAAAOCjKGFAAAAAIIXrYEAAAABAMzthQAAAACBcR2FAAAAAQDPjYUAAAAAgXKdhQAAAAEAzG2JAAAAAQAoXYkAAAADgeoxhQAAAACBcf2FAAAAAACk0YUAAAACgR+lgQAAAAGCPKmBAAAAAANcjYEAAAADgo2hgQAAAAGC4fl9AAAAAYLh+X0AAAABguH5fQAAAACCux19AAAAAYLguYEAAAACAFC5fQAAAAAAAwF9AAAAAoHB9X0AAAACgcP1fQAAAAOBRCGBAAAAAIFwvYEAAAABgj3pgQAAAAGCPimBAAAAAoEc5YEAAAACgmZFgQAAAAEAKb2BAAAAAACkEYEAAAADAzAxgQAAAAEDhSl9AAAAAANejX0AAAACA6xFgQAAAAMD1WF5AAAAA4HrkXUAAAAAgXO9fQAAAAGC4lmBAAAAAQOGiYEAAAAAAACBhQAAAAIA9QmFAAAAAQDNTYUAAAAAgrndhQAAAAGC41mFAAAAAYI/CYUAAAABAM5NhQAAAAIDr8WFAAAAAQOHSYUAAAACgmTliQAAAAGBm5mFAAAAAYI/aYUAAAACAwiViQAAAAAApRGJAAAAAwMz8YUAAAABguFZiQAAAACCuV2JAAAAAIFx3YkAAAADA9WBiQAAAAIA9SmJAAAAAQOFCYkAAAADA9WBiQAAAAEDhGmJAAAAAAClcYkAAAADgoxBiQAAAAAApXGJAAAAAoHBtYkAAAADgejxiQAAAACBcb2JAAAAAQOGaYkAAAACgcG1iQAAAAEAKv2JAAAAAgD1CY0AAAACgRzljQAAAAADXA2NAAAAAQOE6Y0AAAACgcC1jQAAAAMAeLWNAAAAAQOEqY0AAAAAAKSxjQAAAAIAU/mJAAAAAgMK9YkAAAABACo9iQAAAAIA9EmJAAAAAIK4nYkAAAABAM6NiQAAAAADX62JAAAAAIFw3Y0AAAACAwmVjQAAAAADXU2NAAAAAwB4lY0AAAABguPZiQAAAAAAAMGNAAAAAQOFqY0AAAADA9VhjQAAAAOCjgGNAAAAAANebY0AAAAAAALhjQAAAAADX42NAAAAA4FEoZEAAAAAAAOBjQAAAAGBmZmNAAAAAwPXoY0AAAACA63llQAAAAIDrSWVAAAAAwMwkZUAAAADA9VBlQAAAAEDhOmVAAAAAYGbOZUAAAABA4YplQAAAAOB6FGVAAAAAIFxfZUAAAACgmTllQAAAAOBRMGVAAAAAYI/iZEAAAABA4RJlQAAAAGCP0mVAAAAAIK7fZUAAAAAgXNdlQAAAAKBHsWVAAAAAwB6lZUAAAADgURhmQAAAAEAKR2ZAAAAAYI8yZkAAAAAA18NlQAAAAOBRsGVAAAAAgD0aZkAAAABAM+tlQAAAAGC4fmVAAAAA4HrsZUAAAACA6xFmQAAAAAAAWGZAAAAAoHDNZUAAAAAgXM9lQAAAAMDM/GVAAAAAwMxEZkAAAADAzERmQAAAAADXW2ZAAAAAYLh2ZkAAAACgmUlmQAAAAGCPemZAAAAAACmMZkAAAABACp9mQAAAAIAUlmZAAAAAwB7NZkAAAAAAAIBmQAAAAIA9ImdAAAAAgBQmZ0AAAACgcDVnQAAAAGBmPmdAAAAAoJmhZ0AAAAAAKURnQAAAAADX82ZAAAAAgD3qZkAAAADA9ahmQAAAAEAKZ2ZAAAAAACnUZUAAAAAgXCdmQAAAAKBHcWZAAAAAQOESZkAAAACgcLVlQAAAAADXc2ZAAAAAYLieZkAAAAAAAOBlQAAAAAAAYGZAAAAAQAoXZ0AAAABguEZnQAAAAGBmlmdAAAAA4FGYZ0AAAAAAAIBnQAAAAAAAsGdAAAAAIFxvZ0AAAACAPVJnQAAAAIA9YmdAAAAAIK4/Z0AAAAAAKfRmQAAAAGBmFmdAAAAAoEfxZkAAAADAzORmQAAAAAAp5GZAAAAAoJmhZkAAAAAAAJhmQAAAAMDMxGZAAAAA4KPAZkAAAACAPWpmQAAAAIAUDmZAAAAAQOFKZkAAAABA4WpmQAAAAMD1qGZAAAAAAAAgZ0AAAACgmQlnQAAAAIDrYWdAAAAAIFxnZ0AAAADgelxnQAAAAGCP+mZAAAAAwB71ZkAAAACA6wFnQAAAAIDr2WZAAAAAQDNDZ0AAAABgj6JnQAAAAIA9MmdAAAAAQOFKZ0AAAAAghTNoQAAAAEAzu2hAAAAAAAAoaEAAAABgZqZoQAAAAAAAAGlAAAAAQOGyaEAAAAAAAABpQAAAAKBH6WhAAAAAQOHqaEAAAACgR/loQAAAAKCZYWhAAAAAIK5PaEAAAABAChdoQAAAAOCjIGhAAAAAgMJ9Z0AAAAAAAPhmQAAAAAAp5GZAAAAAoJnRZkAAAADAHk1nQAAAAGCPmmZAAAAAQDN7ZkAAAAAAANBmQAAAAGBm5mZAAAAAYLi2ZkAAAAAgXF9nQAAAAIA9AmdAAAAAwMz8ZEAAAADgoyBkQAAAAIDCPWRAAAAA4KNYZEAAAACgmblkQAAAAIAU3mRAAAAAoJnZZEAAAAAgXEdlQAAAAEAzQ2VAAAAAQOEyZkAAAACA6yFmQAAAAEAKR2ZAAAAAAClcZkAAAAAghYNmQAAAAAApBGZAAAAAoEchZkAAAAAAAPBlQAAAAADXo2VAAAAAoJlZZUAAAAAA14NlQAAAAAAAUGZAAAAAAAAIZkAAAABgj6plQAAAAOB6PGZAAAAA4HpsZUAAAADAzOxlQAAAAKCZcWZAAAAA4KMQZ0AAAAAAAGBnQAAAACCuT2dAAAAA4HocZ0AAAAAAKVxnQAAAAIDCTWdAAAAAANe7Z0AAAABAM/NnQAAAAAApPGhAAAAAYLg+aEAAAADA9RBoQAAAAMAe5WdAAAAAQAp/Z0AAAABgj0pnQAAAAAApJGdAAAAA4FEYZ0AAAABguL5mQAAAAOBRUGdAAAAAoJmZZkAAAABACtdmQAAAAKBwJWdAAAAAwMxUZ0AAAACAPZpnQAAAAKBHcWdAAAAAgBR2Z0AAAADgelxnQAAAAMD1cGdAAAAAIK6fZ0AAAACAPaJnQAAAAGBmtmdAAAAAYLgWZ0AAAAAAKUxnQAAAAGCPemdAAAAA4HqMZ0AAAABgj9pnQAAAACBcF2hAAAAAwMxMZ0AAAACAwr1oQAAAAMD1eGhAAAAAAADwaEAAAABA4eJpQAAAAKCZQWpAAAAAgMIFakAAAABA4dppQAAAAMAeHWpAAAAAQDPDakAAAAAgXG9qQAAAACCFU2lAAAAAYGY2aUAAAAAghZNpQAAAAAApXGlAAAAAACnMaEAAAAAA16NoQAAAAGBmLmlAAAAAIIX7aUAAAAAgrrdpQAAAAOB6/GlAAAAAYLhWakAAAACAFK5qQAAAAMAeRWtAAAAAoJmRa0AAAADA9WBsQAAAAEDhQmxAAAAAoEchbEAAAADgUchsQAAAAEAKn2xAAAAAYLhubEAAAACAwh1tQAAAAMDM5GxAAAAA4KOQa0AAAACgR+lrQAAAAKBwHWxAAAAAgOshbEAAAACgmaFsQAAAAKCZYWxAAAAAAAD4a0AAAACgmalrQAAAAOB6bGtAAAAAQAqHa0AAAACAFAZsQAAAACCFc2xAAAAAIIXDa0AAAAAAKcRrQAAAAIAUXmtAAAAAYLhOa0AAAADgUThrQAAAAEAz62tAAAAAwB6Va0AAAACAFD5sQAAAAGC41mxAAAAA4FFgbUAAAACgcG1tQAAAAEAzW21AAAAAoHBtbUAAAADAzMRtQAAAAIA9om1AAAAA4HpUbUAAAACAwrVtQAAAAKBwrW1AAAAAgOtBbkAAAACgcIVtQAAAAGCP2m1AAAAAwMykbEAAAADgeiRtQAAAAOBRGG1AAAAAgMKdbEAAAAAA18tsQAAAAIDClWxAAAAAwMxUbEAAAAAAKVRsQAAAAAAp3GtAAAAAYI8Sa0AAAABguJZqQAAAAKCZmWpAAAAAQDPLakAAAAAgrhdqQAAAAMD1iGpAAAAA4KOgaUAAAACgmXlpQAAAACCFC2pAAAAAYGYWaUAAAAAAAOhoQAAAAKBHUWhAAAAAQOGSaEAAAADgetxoQAAAAOB6PGhAAAAAYGa+aEAAAAAgrndoQAAAAIA9GmhAAAAAoEdxaEAAAABgZl5oQAAAAGC4hmhAAAAA4FFoaUAAAABguLZpQAAAAAApJGlAAAAAIIUraUAAAABAChdoQAAAAOBRyGdAAAAAoHAFaEAAAADgUYBoQAAAAMAeTWZAAAAAAABgZUAAAADgUehlQAAAAMAeVWVAAAAAQDPjZ0AAAABACqdmQAAAAADXG2dAAAAAANfDZkAAAABA4XJmQAAAAGCPymVAAAAAIIWTZUAAAACAPepkQAAAAIDCpWVAAAAAQDOTZkAAAACgR1FnQAAAACCun2dAAAAAYGZ2Z0AAAADgemxnQAAAAKBwDWdAAAAAYGbGZ0AAAAAgXL9nQAAAAEAzS2dAAAAA4FEgZ0AAAABguJZnQAAAAGCPAmhAAAAAgOshaEAAAADgehRqQAAAAADXa2pAAAAAAABIakAAAACgcKVpQAAAAEDhsmlAAAAAwB7FaUAAAACAPYJpQAAAAADXI2lAAAAAQDNjaUAAAAAgrh9pQAAAAOCjwGlAAAAAQAqXaUAAAABgZrZpQAAAAOBRoGlAAAAAwMzUaUAAAABguLZpQAAAACBc52lAAAAAwB79aUAAAACAPbJqQAAAACBcH2tAAAAAIIUza0AAAABgZqZqQAAAACCup2pAAAAAQDODakAAAABAMwNrQAAAAIA92mpAAAAA4KOQakAAAACAFDZqQAAAAEAKD2pAAAAA4KOYakAAAAAgrn9qQAAAAADXI2tAAAAAoJnpa0AAAADgemxrQAAAAGC4jmtAAAAAoHB9a0AAAADAHu1rQAAAAEAK72tAAAAAIIVra0AAAACgR9FrQAAAAOBRyGtA",
          "dtype": "f8"
         },
         "high": {
          "bdata": "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",
          "dtype": "f8"
         },
         "low": {
          "bdata": "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",
          "dtype": "f8"
         },
         "open": {
          "bdata": "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",
          "dtype": "f8"
         },
         "type": "candlestick",
         "x": [
          "2022-07-11T00:00:00-04:00",
          "2022-07-12T00:00:00-04:00",
          "2022-07-13T00:00:00-04:00",
          "2022-07-14T00:00:00-04:00",
          "2022-07-15T00:00:00-04:00",
          "2022-07-18T00:00:00-04:00",
          "2022-07-19T00:00:00-04:00",
          "2022-07-20T00:00:00-04:00",
          "2022-07-21T00:00:00-04:00",
          "2022-07-22T00:00:00-04:00",
          "2022-07-25T00:00:00-04:00",
          "2022-07-26T00:00:00-04:00",
          "2022-07-27T00:00:00-04:00",
          "2022-07-28T00:00:00-04:00",
          "2022-07-29T00:00:00-04:00",
          "2022-08-01T00:00:00-04:00",
          "2022-08-02T00:00:00-04:00",
          "2022-08-03T00:00:00-04:00",
          "2022-08-04T00:00:00-04:00",
          "2022-08-05T00:00:00-04:00",
          "2022-08-08T00:00:00-04:00",
          "2022-08-09T00:00:00-04:00",
          "2022-08-10T00:00:00-04:00",
          "2022-08-11T00:00:00-04:00",
          "2022-08-12T00:00:00-04:00",
          "2022-08-15T00:00:00-04:00",
          "2022-08-16T00:00:00-04:00",
          "2022-08-17T00:00:00-04:00",
          "2022-08-18T00:00:00-04:00",
          "2022-08-19T00:00:00-04:00",
          "2022-08-22T00:00:00-04:00",
          "2022-08-23T00:00:00-04:00",
          "2022-08-24T00:00:00-04:00",
          "2022-08-25T00:00:00-04:00",
          "2022-08-26T00:00:00-04:00",
          "2022-08-29T00:00:00-04:00",
          "2022-08-30T00:00:00-04:00",
          "2022-08-31T00:00:00-04:00",
          "2022-09-01T00:00:00-04:00",
          "2022-09-02T00:00:00-04:00",
          "2022-09-06T00:00:00-04:00",
          "2022-09-07T00:00:00-04:00",
          "2022-09-08T00:00:00-04:00",
          "2022-09-09T00:00:00-04:00",
          "2022-09-12T00:00:00-04:00",
          "2022-09-13T00:00:00-04:00",
          "2022-09-14T00:00:00-04:00",
          "2022-09-15T00:00:00-04:00",
          "2022-09-16T00:00:00-04:00",
          "2022-09-19T00:00:00-04:00",
          "2022-09-20T00:00:00-04:00",
          "2022-09-21T00:00:00-04:00",
          "2022-09-22T00:00:00-04:00",
          "2022-09-23T00:00:00-04:00",
          "2022-09-26T00:00:00-04:00",
          "2022-09-27T00:00:00-04:00",
          "2022-09-28T00:00:00-04:00",
          "2022-09-29T00:00:00-04:00",
          "2022-09-30T00:00:00-04:00",
          "2022-10-03T00:00:00-04:00",
          "2022-10-04T00:00:00-04:00",
          "2022-10-05T00:00:00-04:00",
          "2022-10-06T00:00:00-04:00",
          "2022-10-07T00:00:00-04:00",
          "2022-10-10T00:00:00-04:00",
          "2022-10-11T00:00:00-04:00",
          "2022-10-12T00:00:00-04:00",
          "2022-10-13T00:00:00-04:00",
          "2022-10-14T00:00:00-04:00",
          "2022-10-17T00:00:00-04:00",
          "2022-10-18T00:00:00-04:00",
          "2022-10-19T00:00:00-04:00",
          "2022-10-20T00:00:00-04:00",
          "2022-10-21T00:00:00-04:00",
          "2022-10-24T00:00:00-04:00",
          "2022-10-25T00:00:00-04:00",
          "2022-10-26T00:00:00-04:00",
          "2022-10-27T00:00:00-04:00",
          "2022-10-28T00:00:00-04:00",
          "2022-10-31T00:00:00-04:00",
          "2022-11-01T00:00:00-04:00",
          "2022-11-02T00:00:00-04:00",
          "2022-11-03T00:00:00-04:00",
          "2022-11-04T00:00:00-04:00",
          "2022-11-07T00:00:00-05:00",
          "2022-11-08T00:00:00-05:00",
          "2022-11-09T00:00:00-05:00",
          "2022-11-10T00:00:00-05:00",
          "2022-11-11T00:00:00-05:00",
          "2022-11-14T00:00:00-05:00",
          "2022-11-15T00:00:00-05:00",
          "2022-11-16T00:00:00-05:00",
          "2022-11-17T00:00:00-05:00",
          "2022-11-18T00:00:00-05:00",
          "2022-11-21T00:00:00-05:00",
          "2022-11-22T00:00:00-05:00",
          "2022-11-23T00:00:00-05:00",
          "2022-11-25T00:00:00-05:00",
          "2022-11-28T00:00:00-05:00",
          "2022-11-29T00:00:00-05:00",
          "2022-11-30T00:00:00-05:00",
          "2022-12-01T00:00:00-05:00",
          "2022-12-02T00:00:00-05:00",
          "2022-12-05T00:00:00-05:00",
          "2022-12-06T00:00:00-05:00",
          "2022-12-07T00:00:00-05:00",
          "2022-12-08T00:00:00-05:00",
          "2022-12-09T00:00:00-05:00",
          "2022-12-12T00:00:00-05:00",
          "2022-12-13T00:00:00-05:00",
          "2022-12-14T00:00:00-05:00",
          "2022-12-15T00:00:00-05:00",
          "2022-12-16T00:00:00-05:00",
          "2022-12-19T00:00:00-05:00",
          "2022-12-20T00:00:00-05:00",
          "2022-12-21T00:00:00-05:00",
          "2022-12-22T00:00:00-05:00",
          "2022-12-23T00:00:00-05:00",
          "2022-12-27T00:00:00-05:00",
          "2022-12-28T00:00:00-05:00",
          "2022-12-29T00:00:00-05:00",
          "2022-12-30T00:00:00-05:00",
          "2023-01-03T00:00:00-05:00",
          "2023-01-04T00:00:00-05:00",
          "2023-01-05T00:00:00-05:00",
          "2023-01-06T00:00:00-05:00",
          "2023-01-09T00:00:00-05:00",
          "2023-01-10T00:00:00-05:00",
          "2023-01-11T00:00:00-05:00",
          "2023-01-12T00:00:00-05:00",
          "2023-01-13T00:00:00-05:00",
          "2023-01-17T00:00:00-05:00",
          "2023-01-18T00:00:00-05:00",
          "2023-01-19T00:00:00-05:00",
          "2023-01-20T00:00:00-05:00",
          "2023-01-23T00:00:00-05:00",
          "2023-01-24T00:00:00-05:00",
          "2023-01-25T00:00:00-05:00",
          "2023-01-26T00:00:00-05:00",
          "2023-01-27T00:00:00-05:00",
          "2023-01-30T00:00:00-05:00",
          "2023-01-31T00:00:00-05:00",
          "2023-02-01T00:00:00-05:00",
          "2023-02-02T00:00:00-05:00",
          "2023-02-03T00:00:00-05:00",
          "2023-02-06T00:00:00-05:00",
          "2023-02-07T00:00:00-05:00",
          "2023-02-08T00:00:00-05:00",
          "2023-02-09T00:00:00-05:00",
          "2023-02-10T00:00:00-05:00",
          "2023-02-13T00:00:00-05:00",
          "2023-02-14T00:00:00-05:00",
          "2023-02-15T00:00:00-05:00",
          "2023-02-16T00:00:00-05:00",
          "2023-02-17T00:00:00-05:00",
          "2023-02-21T00:00:00-05:00",
          "2023-02-22T00:00:00-05:00",
          "2023-02-23T00:00:00-05:00",
          "2023-02-24T00:00:00-05:00",
          "2023-02-27T00:00:00-05:00",
          "2023-02-28T00:00:00-05:00",
          "2023-03-01T00:00:00-05:00",
          "2023-03-02T00:00:00-05:00",
          "2023-03-03T00:00:00-05:00",
          "2023-03-06T00:00:00-05:00",
          "2023-03-07T00:00:00-05:00",
          "2023-03-08T00:00:00-05:00",
          "2023-03-09T00:00:00-05:00",
          "2023-03-10T00:00:00-05:00",
          "2023-03-13T00:00:00-04:00",
          "2023-03-14T00:00:00-04:00",
          "2023-03-15T00:00:00-04:00",
          "2023-03-16T00:00:00-04:00",
          "2023-03-17T00:00:00-04:00",
          "2023-03-20T00:00:00-04:00",
          "2023-03-21T00:00:00-04:00",
          "2023-03-22T00:00:00-04:00",
          "2023-03-23T00:00:00-04:00",
          "2023-03-24T00:00:00-04:00",
          "2023-03-27T00:00:00-04:00",
          "2023-03-28T00:00:00-04:00",
          "2023-03-29T00:00:00-04:00",
          "2023-03-30T00:00:00-04:00",
          "2023-03-31T00:00:00-04:00",
          "2023-04-03T00:00:00-04:00",
          "2023-04-04T00:00:00-04:00",
          "2023-04-05T00:00:00-04:00",
          "2023-04-06T00:00:00-04:00",
          "2023-04-10T00:00:00-04:00",
          "2023-04-11T00:00:00-04:00",
          "2023-04-12T00:00:00-04:00",
          "2023-04-13T00:00:00-04:00",
          "2023-04-14T00:00:00-04:00",
          "2023-04-17T00:00:00-04:00",
          "2023-04-18T00:00:00-04:00",
          "2023-04-19T00:00:00-04:00",
          "2023-04-20T00:00:00-04:00",
          "2023-04-21T00:00:00-04:00",
          "2023-04-24T00:00:00-04:00",
          "2023-04-25T00:00:00-04:00",
          "2023-04-26T00:00:00-04:00",
          "2023-04-27T00:00:00-04:00",
          "2023-04-28T00:00:00-04:00",
          "2023-05-01T00:00:00-04:00",
          "2023-05-02T00:00:00-04:00",
          "2023-05-03T00:00:00-04:00",
          "2023-05-04T00:00:00-04:00",
          "2023-05-05T00:00:00-04:00",
          "2023-05-08T00:00:00-04:00",
          "2023-05-09T00:00:00-04:00",
          "2023-05-10T00:00:00-04:00",
          "2023-05-11T00:00:00-04:00",
          "2023-05-12T00:00:00-04:00",
          "2023-05-15T00:00:00-04:00",
          "2023-05-16T00:00:00-04:00",
          "2023-05-17T00:00:00-04:00",
          "2023-05-18T00:00:00-04:00",
          "2023-05-19T00:00:00-04:00",
          "2023-05-22T00:00:00-04:00",
          "2023-05-23T00:00:00-04:00",
          "2023-05-24T00:00:00-04:00",
          "2023-05-25T00:00:00-04:00",
          "2023-05-26T00:00:00-04:00",
          "2023-05-30T00:00:00-04:00",
          "2023-05-31T00:00:00-04:00",
          "2023-06-01T00:00:00-04:00",
          "2023-06-02T00:00:00-04:00",
          "2023-06-05T00:00:00-04:00",
          "2023-06-06T00:00:00-04:00",
          "2023-06-07T00:00:00-04:00",
          "2023-06-08T00:00:00-04:00",
          "2023-06-09T00:00:00-04:00",
          "2023-06-12T00:00:00-04:00",
          "2023-06-13T00:00:00-04:00",
          "2023-06-14T00:00:00-04:00",
          "2023-06-15T00:00:00-04:00",
          "2023-06-16T00:00:00-04:00",
          "2023-06-20T00:00:00-04:00",
          "2023-06-21T00:00:00-04:00",
          "2023-06-22T00:00:00-04:00",
          "2023-06-23T00:00:00-04:00",
          "2023-06-26T00:00:00-04:00",
          "2023-06-27T00:00:00-04:00",
          "2023-06-28T00:00:00-04:00",
          "2023-06-29T00:00:00-04:00",
          "2023-06-30T00:00:00-04:00",
          "2023-07-03T00:00:00-04:00",
          "2023-07-05T00:00:00-04:00",
          "2023-07-06T00:00:00-04:00",
          "2023-07-07T00:00:00-04:00",
          "2023-07-10T00:00:00-04:00",
          "2023-07-11T00:00:00-04:00",
          "2023-07-12T00:00:00-04:00",
          "2023-07-13T00:00:00-04:00",
          "2023-07-14T00:00:00-04:00",
          "2023-07-17T00:00:00-04:00",
          "2023-07-18T00:00:00-04:00",
          "2023-07-19T00:00:00-04:00",
          "2023-07-20T00:00:00-04:00",
          "2023-07-21T00:00:00-04:00",
          "2023-07-24T00:00:00-04:00",
          "2023-07-25T00:00:00-04:00",
          "2023-07-26T00:00:00-04:00",
          "2023-07-27T00:00:00-04:00",
          "2023-07-28T00:00:00-04:00",
          "2023-07-31T00:00:00-04:00",
          "2023-08-01T00:00:00-04:00",
          "2023-08-02T00:00:00-04:00",
          "2023-08-03T00:00:00-04:00",
          "2023-08-04T00:00:00-04:00",
          "2023-08-07T00:00:00-04:00",
          "2023-08-08T00:00:00-04:00",
          "2023-08-09T00:00:00-04:00",
          "2023-08-10T00:00:00-04:00",
          "2023-08-11T00:00:00-04:00",
          "2023-08-14T00:00:00-04:00",
          "2023-08-15T00:00:00-04:00",
          "2023-08-16T00:00:00-04:00",
          "2023-08-17T00:00:00-04:00",
          "2023-08-18T00:00:00-04:00",
          "2023-08-21T00:00:00-04:00",
          "2023-08-22T00:00:00-04:00",
          "2023-08-23T00:00:00-04:00",
          "2023-08-24T00:00:00-04:00",
          "2023-08-25T00:00:00-04:00",
          "2023-08-28T00:00:00-04:00",
          "2023-08-29T00:00:00-04:00",
          "2023-08-30T00:00:00-04:00",
          "2023-08-31T00:00:00-04:00",
          "2023-09-01T00:00:00-04:00",
          "2023-09-05T00:00:00-04:00",
          "2023-09-06T00:00:00-04:00",
          "2023-09-07T00:00:00-04:00",
          "2023-09-08T00:00:00-04:00",
          "2023-09-11T00:00:00-04:00",
          "2023-09-12T00:00:00-04:00",
          "2023-09-13T00:00:00-04:00",
          "2023-09-14T00:00:00-04:00",
          "2023-09-15T00:00:00-04:00",
          "2023-09-18T00:00:00-04:00",
          "2023-09-19T00:00:00-04:00",
          "2023-09-20T00:00:00-04:00",
          "2023-09-21T00:00:00-04:00",
          "2023-09-22T00:00:00-04:00",
          "2023-09-25T00:00:00-04:00",
          "2023-09-26T00:00:00-04:00",
          "2023-09-27T00:00:00-04:00",
          "2023-09-28T00:00:00-04:00",
          "2023-09-29T00:00:00-04:00",
          "2023-10-02T00:00:00-04:00",
          "2023-10-03T00:00:00-04:00",
          "2023-10-04T00:00:00-04:00",
          "2023-10-05T00:00:00-04:00",
          "2023-10-06T00:00:00-04:00",
          "2023-10-09T00:00:00-04:00",
          "2023-10-10T00:00:00-04:00",
          "2023-10-11T00:00:00-04:00",
          "2023-10-12T00:00:00-04:00",
          "2023-10-13T00:00:00-04:00",
          "2023-10-16T00:00:00-04:00",
          "2023-10-17T00:00:00-04:00",
          "2023-10-18T00:00:00-04:00",
          "2023-10-19T00:00:00-04:00",
          "2023-10-20T00:00:00-04:00",
          "2023-10-23T00:00:00-04:00",
          "2023-10-24T00:00:00-04:00",
          "2023-10-25T00:00:00-04:00",
          "2023-10-26T00:00:00-04:00",
          "2023-10-27T00:00:00-04:00",
          "2023-10-30T00:00:00-04:00",
          "2023-10-31T00:00:00-04:00",
          "2023-11-01T00:00:00-04:00",
          "2023-11-02T00:00:00-04:00",
          "2023-11-03T00:00:00-04:00",
          "2023-11-06T00:00:00-05:00",
          "2023-11-07T00:00:00-05:00",
          "2023-11-08T00:00:00-05:00",
          "2023-11-09T00:00:00-05:00",
          "2023-11-10T00:00:00-05:00",
          "2023-11-13T00:00:00-05:00",
          "2023-11-14T00:00:00-05:00",
          "2023-11-15T00:00:00-05:00",
          "2023-11-16T00:00:00-05:00",
          "2023-11-17T00:00:00-05:00",
          "2023-11-20T00:00:00-05:00",
          "2023-11-21T00:00:00-05:00",
          "2023-11-22T00:00:00-05:00",
          "2023-11-24T00:00:00-05:00",
          "2023-11-27T00:00:00-05:00",
          "2023-11-28T00:00:00-05:00",
          "2023-11-29T00:00:00-05:00",
          "2023-11-30T00:00:00-05:00",
          "2023-12-01T00:00:00-05:00",
          "2023-12-04T00:00:00-05:00",
          "2023-12-05T00:00:00-05:00",
          "2023-12-06T00:00:00-05:00",
          "2023-12-07T00:00:00-05:00",
          "2023-12-08T00:00:00-05:00",
          "2023-12-11T00:00:00-05:00",
          "2023-12-12T00:00:00-05:00",
          "2023-12-13T00:00:00-05:00",
          "2023-12-14T00:00:00-05:00",
          "2023-12-15T00:00:00-05:00",
          "2023-12-18T00:00:00-05:00",
          "2023-12-19T00:00:00-05:00",
          "2023-12-20T00:00:00-05:00",
          "2023-12-21T00:00:00-05:00",
          "2023-12-22T00:00:00-05:00",
          "2023-12-26T00:00:00-05:00",
          "2023-12-27T00:00:00-05:00",
          "2023-12-28T00:00:00-05:00",
          "2023-12-29T00:00:00-05:00",
          "2024-01-02T00:00:00-05:00",
          "2024-01-03T00:00:00-05:00",
          "2024-01-04T00:00:00-05:00",
          "2024-01-05T00:00:00-05:00",
          "2024-01-08T00:00:00-05:00",
          "2024-01-09T00:00:00-05:00",
          "2024-01-10T00:00:00-05:00",
          "2024-01-11T00:00:00-05:00",
          "2024-01-12T00:00:00-05:00",
          "2024-01-16T00:00:00-05:00",
          "2024-01-17T00:00:00-05:00",
          "2024-01-18T00:00:00-05:00",
          "2024-01-19T00:00:00-05:00",
          "2024-01-22T00:00:00-05:00",
          "2024-01-23T00:00:00-05:00",
          "2024-01-24T00:00:00-05:00",
          "2024-01-25T00:00:00-05:00",
          "2024-01-26T00:00:00-05:00",
          "2024-01-29T00:00:00-05:00",
          "2024-01-30T00:00:00-05:00",
          "2024-01-31T00:00:00-05:00",
          "2024-02-01T00:00:00-05:00",
          "2024-02-02T00:00:00-05:00",
          "2024-02-05T00:00:00-05:00",
          "2024-02-06T00:00:00-05:00",
          "2024-02-07T00:00:00-05:00",
          "2024-02-08T00:00:00-05:00",
          "2024-02-09T00:00:00-05:00",
          "2024-02-12T00:00:00-05:00",
          "2024-02-13T00:00:00-05:00",
          "2024-02-14T00:00:00-05:00",
          "2024-02-15T00:00:00-05:00",
          "2024-02-16T00:00:00-05:00",
          "2024-02-20T00:00:00-05:00",
          "2024-02-21T00:00:00-05:00",
          "2024-02-22T00:00:00-05:00",
          "2024-02-23T00:00:00-05:00",
          "2024-02-26T00:00:00-05:00",
          "2024-02-27T00:00:00-05:00",
          "2024-02-28T00:00:00-05:00",
          "2024-02-29T00:00:00-05:00",
          "2024-03-01T00:00:00-05:00",
          "2024-03-04T00:00:00-05:00",
          "2024-03-05T00:00:00-05:00",
          "2024-03-06T00:00:00-05:00",
          "2024-03-07T00:00:00-05:00",
          "2024-03-08T00:00:00-05:00",
          "2024-03-11T00:00:00-04:00",
          "2024-03-12T00:00:00-04:00",
          "2024-03-13T00:00:00-04:00",
          "2024-03-14T00:00:00-04:00",
          "2024-03-15T00:00:00-04:00",
          "2024-03-18T00:00:00-04:00",
          "2024-03-19T00:00:00-04:00",
          "2024-03-20T00:00:00-04:00",
          "2024-03-21T00:00:00-04:00",
          "2024-03-22T00:00:00-04:00",
          "2024-03-25T00:00:00-04:00",
          "2024-03-26T00:00:00-04:00",
          "2024-03-27T00:00:00-04:00",
          "2024-03-28T00:00:00-04:00",
          "2024-04-01T00:00:00-04:00",
          "2024-04-02T00:00:00-04:00",
          "2024-04-03T00:00:00-04:00",
          "2024-04-04T00:00:00-04:00",
          "2024-04-05T00:00:00-04:00",
          "2024-04-08T00:00:00-04:00",
          "2024-04-09T00:00:00-04:00",
          "2024-04-10T00:00:00-04:00",
          "2024-04-11T00:00:00-04:00",
          "2024-04-12T00:00:00-04:00",
          "2024-04-15T00:00:00-04:00",
          "2024-04-16T00:00:00-04:00",
          "2024-04-17T00:00:00-04:00",
          "2024-04-18T00:00:00-04:00",
          "2024-04-19T00:00:00-04:00",
          "2024-04-22T00:00:00-04:00",
          "2024-04-23T00:00:00-04:00",
          "2024-04-24T00:00:00-04:00",
          "2024-04-25T00:00:00-04:00",
          "2024-04-26T00:00:00-04:00",
          "2024-04-29T00:00:00-04:00",
          "2024-04-30T00:00:00-04:00",
          "2024-05-01T00:00:00-04:00",
          "2024-05-02T00:00:00-04:00",
          "2024-05-03T00:00:00-04:00",
          "2024-05-06T00:00:00-04:00",
          "2024-05-07T00:00:00-04:00",
          "2024-05-08T00:00:00-04:00",
          "2024-05-09T00:00:00-04:00",
          "2024-05-10T00:00:00-04:00",
          "2024-05-13T00:00:00-04:00",
          "2024-05-14T00:00:00-04:00",
          "2024-05-15T00:00:00-04:00",
          "2024-05-16T00:00:00-04:00",
          "2024-05-17T00:00:00-04:00",
          "2024-05-20T00:00:00-04:00",
          "2024-05-21T00:00:00-04:00",
          "2024-05-22T00:00:00-04:00",
          "2024-05-23T00:00:00-04:00",
          "2024-05-24T00:00:00-04:00",
          "2024-05-28T00:00:00-04:00",
          "2024-05-29T00:00:00-04:00",
          "2024-05-30T00:00:00-04:00",
          "2024-05-31T00:00:00-04:00",
          "2024-06-03T00:00:00-04:00",
          "2024-06-04T00:00:00-04:00",
          "2024-06-05T00:00:00-04:00",
          "2024-06-06T00:00:00-04:00",
          "2024-06-07T00:00:00-04:00",
          "2024-06-10T00:00:00-04:00",
          "2024-06-11T00:00:00-04:00",
          "2024-06-12T00:00:00-04:00",
          "2024-06-13T00:00:00-04:00",
          "2024-06-14T00:00:00-04:00",
          "2024-06-17T00:00:00-04:00",
          "2024-06-18T00:00:00-04:00",
          "2024-06-20T00:00:00-04:00",
          "2024-06-21T00:00:00-04:00",
          "2024-06-24T00:00:00-04:00",
          "2024-06-25T00:00:00-04:00",
          "2024-06-26T00:00:00-04:00",
          "2024-06-27T00:00:00-04:00",
          "2024-06-28T00:00:00-04:00",
          "2024-07-01T00:00:00-04:00",
          "2024-07-02T00:00:00-04:00",
          "2024-07-03T00:00:00-04:00",
          "2024-07-05T00:00:00-04:00",
          "2024-07-08T00:00:00-04:00",
          "2024-07-09T00:00:00-04:00",
          "2024-07-10T00:00:00-04:00",
          "2024-07-11T00:00:00-04:00",
          "2024-07-12T00:00:00-04:00",
          "2024-07-15T00:00:00-04:00",
          "2024-07-16T00:00:00-04:00",
          "2024-07-17T00:00:00-04:00",
          "2024-07-18T00:00:00-04:00",
          "2024-07-19T00:00:00-04:00",
          "2024-07-22T00:00:00-04:00",
          "2024-07-23T00:00:00-04:00",
          "2024-07-24T00:00:00-04:00",
          "2024-07-25T00:00:00-04:00",
          "2024-07-26T00:00:00-04:00",
          "2024-07-29T00:00:00-04:00",
          "2024-07-30T00:00:00-04:00",
          "2024-07-31T00:00:00-04:00",
          "2024-08-01T00:00:00-04:00",
          "2024-08-02T00:00:00-04:00",
          "2024-08-05T00:00:00-04:00",
          "2024-08-06T00:00:00-04:00",
          "2024-08-07T00:00:00-04:00",
          "2024-08-08T00:00:00-04:00",
          "2024-08-09T00:00:00-04:00",
          "2024-08-12T00:00:00-04:00",
          "2024-08-13T00:00:00-04:00",
          "2024-08-14T00:00:00-04:00",
          "2024-08-15T00:00:00-04:00",
          "2024-08-16T00:00:00-04:00",
          "2024-08-19T00:00:00-04:00",
          "2024-08-20T00:00:00-04:00",
          "2024-08-21T00:00:00-04:00",
          "2024-08-22T00:00:00-04:00",
          "2024-08-23T00:00:00-04:00",
          "2024-08-26T00:00:00-04:00",
          "2024-08-27T00:00:00-04:00",
          "2024-08-28T00:00:00-04:00",
          "2024-08-29T00:00:00-04:00",
          "2024-08-30T00:00:00-04:00",
          "2024-09-03T00:00:00-04:00",
          "2024-09-04T00:00:00-04:00",
          "2024-09-05T00:00:00-04:00",
          "2024-09-06T00:00:00-04:00",
          "2024-09-09T00:00:00-04:00",
          "2024-09-10T00:00:00-04:00",
          "2024-09-11T00:00:00-04:00",
          "2024-09-12T00:00:00-04:00",
          "2024-09-13T00:00:00-04:00",
          "2024-09-16T00:00:00-04:00",
          "2024-09-17T00:00:00-04:00",
          "2024-09-18T00:00:00-04:00",
          "2024-09-19T00:00:00-04:00",
          "2024-09-20T00:00:00-04:00",
          "2024-09-23T00:00:00-04:00",
          "2024-09-24T00:00:00-04:00",
          "2024-09-25T00:00:00-04:00",
          "2024-09-26T00:00:00-04:00",
          "2024-09-27T00:00:00-04:00",
          "2024-09-30T00:00:00-04:00",
          "2024-10-01T00:00:00-04:00",
          "2024-10-02T00:00:00-04:00",
          "2024-10-03T00:00:00-04:00",
          "2024-10-04T00:00:00-04:00",
          "2024-10-07T00:00:00-04:00",
          "2024-10-08T00:00:00-04:00",
          "2024-10-09T00:00:00-04:00",
          "2024-10-10T00:00:00-04:00",
          "2024-10-11T00:00:00-04:00",
          "2024-10-14T00:00:00-04:00",
          "2024-10-15T00:00:00-04:00",
          "2024-10-16T00:00:00-04:00",
          "2024-10-17T00:00:00-04:00",
          "2024-10-18T00:00:00-04:00",
          "2024-10-21T00:00:00-04:00",
          "2024-10-22T00:00:00-04:00",
          "2024-10-23T00:00:00-04:00",
          "2024-10-24T00:00:00-04:00",
          "2024-10-25T00:00:00-04:00",
          "2024-10-28T00:00:00-04:00",
          "2024-10-29T00:00:00-04:00",
          "2024-10-30T00:00:00-04:00",
          "2024-10-31T00:00:00-04:00",
          "2024-11-01T00:00:00-04:00",
          "2024-11-04T00:00:00-05:00",
          "2024-11-05T00:00:00-05:00",
          "2024-11-06T00:00:00-05:00",
          "2024-11-07T00:00:00-05:00",
          "2024-11-08T00:00:00-05:00",
          "2024-11-11T00:00:00-05:00",
          "2024-11-12T00:00:00-05:00",
          "2024-11-13T00:00:00-05:00",
          "2024-11-14T00:00:00-05:00",
          "2024-11-15T00:00:00-05:00",
          "2024-11-18T00:00:00-05:00",
          "2024-11-19T00:00:00-05:00",
          "2024-11-20T00:00:00-05:00",
          "2024-11-21T00:00:00-05:00",
          "2024-11-22T00:00:00-05:00",
          "2024-11-25T00:00:00-05:00",
          "2024-11-26T00:00:00-05:00",
          "2024-11-27T00:00:00-05:00",
          "2024-11-29T00:00:00-05:00",
          "2024-12-02T00:00:00-05:00",
          "2024-12-03T00:00:00-05:00",
          "2024-12-04T00:00:00-05:00",
          "2024-12-05T00:00:00-05:00",
          "2024-12-06T00:00:00-05:00",
          "2024-12-09T00:00:00-05:00",
          "2024-12-10T00:00:00-05:00",
          "2024-12-11T00:00:00-05:00",
          "2024-12-12T00:00:00-05:00",
          "2024-12-13T00:00:00-05:00",
          "2024-12-16T00:00:00-05:00",
          "2024-12-17T00:00:00-05:00",
          "2024-12-18T00:00:00-05:00",
          "2024-12-19T00:00:00-05:00",
          "2024-12-20T00:00:00-05:00",
          "2024-12-23T00:00:00-05:00",
          "2024-12-24T00:00:00-05:00",
          "2024-12-26T00:00:00-05:00",
          "2024-12-27T00:00:00-05:00",
          "2024-12-30T00:00:00-05:00",
          "2024-12-31T00:00:00-05:00",
          "2025-01-02T00:00:00-05:00",
          "2025-01-03T00:00:00-05:00",
          "2025-01-06T00:00:00-05:00",
          "2025-01-07T00:00:00-05:00",
          "2025-01-08T00:00:00-05:00",
          "2025-01-10T00:00:00-05:00",
          "2025-01-13T00:00:00-05:00",
          "2025-01-14T00:00:00-05:00",
          "2025-01-15T00:00:00-05:00",
          "2025-01-16T00:00:00-05:00",
          "2025-01-17T00:00:00-05:00",
          "2025-01-21T00:00:00-05:00",
          "2025-01-22T00:00:00-05:00",
          "2025-01-23T00:00:00-05:00",
          "2025-01-24T00:00:00-05:00",
          "2025-01-27T00:00:00-05:00",
          "2025-01-28T00:00:00-05:00",
          "2025-01-29T00:00:00-05:00",
          "2025-01-30T00:00:00-05:00",
          "2025-01-31T00:00:00-05:00",
          "2025-02-03T00:00:00-05:00",
          "2025-02-04T00:00:00-05:00",
          "2025-02-05T00:00:00-05:00",
          "2025-02-06T00:00:00-05:00",
          "2025-02-07T00:00:00-05:00",
          "2025-02-10T00:00:00-05:00",
          "2025-02-11T00:00:00-05:00",
          "2025-02-12T00:00:00-05:00",
          "2025-02-13T00:00:00-05:00",
          "2025-02-14T00:00:00-05:00",
          "2025-02-18T00:00:00-05:00",
          "2025-02-19T00:00:00-05:00",
          "2025-02-20T00:00:00-05:00",
          "2025-02-21T00:00:00-05:00",
          "2025-02-24T00:00:00-05:00",
          "2025-02-25T00:00:00-05:00",
          "2025-02-26T00:00:00-05:00",
          "2025-02-27T00:00:00-05:00",
          "2025-02-28T00:00:00-05:00",
          "2025-03-03T00:00:00-05:00",
          "2025-03-04T00:00:00-05:00",
          "2025-03-05T00:00:00-05:00",
          "2025-03-06T00:00:00-05:00",
          "2025-03-07T00:00:00-05:00",
          "2025-03-10T00:00:00-04:00",
          "2025-03-11T00:00:00-04:00",
          "2025-03-12T00:00:00-04:00",
          "2025-03-13T00:00:00-04:00",
          "2025-03-14T00:00:00-04:00",
          "2025-03-17T00:00:00-04:00",
          "2025-03-18T00:00:00-04:00",
          "2025-03-19T00:00:00-04:00",
          "2025-03-20T00:00:00-04:00",
          "2025-03-21T00:00:00-04:00",
          "2025-03-24T00:00:00-04:00",
          "2025-03-25T00:00:00-04:00",
          "2025-03-26T00:00:00-04:00",
          "2025-03-27T00:00:00-04:00",
          "2025-03-28T00:00:00-04:00",
          "2025-03-31T00:00:00-04:00",
          "2025-04-01T00:00:00-04:00",
          "2025-04-02T00:00:00-04:00",
          "2025-04-03T00:00:00-04:00",
          "2025-04-04T00:00:00-04:00",
          "2025-04-07T00:00:00-04:00",
          "2025-04-08T00:00:00-04:00",
          "2025-04-09T00:00:00-04:00",
          "2025-04-10T00:00:00-04:00",
          "2025-04-11T00:00:00-04:00",
          "2025-04-14T00:00:00-04:00",
          "2025-04-15T00:00:00-04:00",
          "2025-04-16T00:00:00-04:00",
          "2025-04-17T00:00:00-04:00",
          "2025-04-21T00:00:00-04:00",
          "2025-04-22T00:00:00-04:00",
          "2025-04-23T00:00:00-04:00",
          "2025-04-24T00:00:00-04:00",
          "2025-04-25T00:00:00-04:00",
          "2025-04-28T00:00:00-04:00",
          "2025-04-29T00:00:00-04:00",
          "2025-04-30T00:00:00-04:00",
          "2025-05-01T00:00:00-04:00",
          "2025-05-02T00:00:00-04:00",
          "2025-05-05T00:00:00-04:00",
          "2025-05-06T00:00:00-04:00",
          "2025-05-07T00:00:00-04:00",
          "2025-05-08T00:00:00-04:00",
          "2025-05-09T00:00:00-04:00",
          "2025-05-12T00:00:00-04:00",
          "2025-05-13T00:00:00-04:00",
          "2025-05-14T00:00:00-04:00",
          "2025-05-15T00:00:00-04:00",
          "2025-05-16T00:00:00-04:00",
          "2025-05-19T00:00:00-04:00",
          "2025-05-20T00:00:00-04:00",
          "2025-05-21T00:00:00-04:00",
          "2025-05-22T00:00:00-04:00",
          "2025-05-23T00:00:00-04:00",
          "2025-05-27T00:00:00-04:00",
          "2025-05-28T00:00:00-04:00",
          "2025-05-29T00:00:00-04:00",
          "2025-05-30T00:00:00-04:00",
          "2025-06-02T00:00:00-04:00",
          "2025-06-03T00:00:00-04:00",
          "2025-06-04T00:00:00-04:00",
          "2025-06-05T00:00:00-04:00",
          "2025-06-06T00:00:00-04:00",
          "2025-06-09T00:00:00-04:00",
          "2025-06-10T00:00:00-04:00",
          "2025-06-11T00:00:00-04:00",
          "2025-06-12T00:00:00-04:00",
          "2025-06-13T00:00:00-04:00",
          "2025-06-16T00:00:00-04:00",
          "2025-06-17T00:00:00-04:00",
          "2025-06-18T00:00:00-04:00",
          "2025-06-20T00:00:00-04:00",
          "2025-06-23T00:00:00-04:00",
          "2025-06-24T00:00:00-04:00",
          "2025-06-25T00:00:00-04:00",
          "2025-06-26T00:00:00-04:00",
          "2025-06-27T00:00:00-04:00",
          "2025-06-30T00:00:00-04:00",
          "2025-07-01T00:00:00-04:00",
          "2025-07-02T00:00:00-04:00",
          "2025-07-03T00:00:00-04:00",
          "2025-07-07T00:00:00-04:00",
          "2025-07-08T00:00:00-04:00",
          "2025-07-09T00:00:00-04:00",
          "2025-07-10T00:00:00-04:00"
         ]
        }
       ],
       "layout": {
        "height": 400,
        "margin": {
         "b": 20,
         "l": 20,
         "r": 20,
         "t": 60
        },
        "paper_bgcolor": "LightSteelBlue",
        "plot_bgcolor": "white",
        "template": {
         "data": {
          "bar": [
           {
            "error_x": {
             "color": "#2a3f5f"
            },
            "error_y": {
             "color": "#2a3f5f"
            },
            "marker": {
             "line": {
              "color": "#E5ECF6",
              "width": 0.5
             },
             "pattern": {
              "fillmode": "overlay",
              "size": 10,
              "solidity": 0.2
             }
            },
            "type": "bar"
           }
          ],
          "barpolar": [
           {
            "marker": {
             "line": {
              "color": "#E5ECF6",
              "width": 0.5
             },
             "pattern": {
              "fillmode": "overlay",
              "size": 10,
              "solidity": 0.2
             }
            },
            "type": "barpolar"
           }
          ],
          "carpet": [
           {
            "aaxis": {
             "endlinecolor": "#2a3f5f",
             "gridcolor": "white",
             "linecolor": "white",
             "minorgridcolor": "white",
             "startlinecolor": "#2a3f5f"
            },
            "baxis": {
             "endlinecolor": "#2a3f5f",
             "gridcolor": "white",
             "linecolor": "white",
             "minorgridcolor": "white",
             "startlinecolor": "#2a3f5f"
            },
            "type": "carpet"
           }
          ],
          "choropleth": [
           {
            "colorbar": {
             "outlinewidth": 0,
             "ticks": ""
            },
            "type": "choropleth"
           }
          ],
          "contour": [
           {
            "colorbar": {
             "outlinewidth": 0,
             "ticks": ""
            },
            "colorscale": [
             [
              0,
              "#0d0887"
             ],
             [
              0.1111111111111111,
              "#46039f"
             ],
             [
              0.2222222222222222,
              "#7201a8"
             ],
             [
              0.3333333333333333,
              "#9c179e"
             ],
             [
              0.4444444444444444,
              "#bd3786"
             ],
             [
              0.5555555555555556,
              "#d8576b"
             ],
             [
              0.6666666666666666,
              "#ed7953"
             ],
             [
              0.7777777777777778,
              "#fb9f3a"
             ],
             [
              0.8888888888888888,
              "#fdca26"
             ],
             [
              1,
              "#f0f921"
             ]
            ],
            "type": "contour"
           }
          ],
          "contourcarpet": [
           {
            "colorbar": {
             "outlinewidth": 0,
             "ticks": ""
            },
            "type": "contourcarpet"
           }
          ],
          "heatmap": [
           {
            "colorbar": {
             "outlinewidth": 0,
             "ticks": ""
            },
            "colorscale": [
             [
              0,
              "#0d0887"
             ],
             [
              0.1111111111111111,
              "#46039f"
             ],
             [
              0.2222222222222222,
              "#7201a8"
             ],
             [
              0.3333333333333333,
              "#9c179e"
             ],
             [
              0.4444444444444444,
              "#bd3786"
             ],
             [
              0.5555555555555556,
              "#d8576b"
             ],
             [
              0.6666666666666666,
              "#ed7953"
             ],
             [
              0.7777777777777778,
              "#fb9f3a"
             ],
             [
              0.8888888888888888,
              "#fdca26"
             ],
             [
              1,
              "#f0f921"
             ]
            ],
            "type": "heatmap"
           }
          ],
          "histogram": [
           {
            "marker": {
             "pattern": {
              "fillmode": "overlay",
              "size": 10,
              "solidity": 0.2
             }
            },
            "type": "histogram"
           }
          ],
          "histogram2d": [
           {
            "colorbar": {
             "outlinewidth": 0,
             "ticks": ""
            },
            "colorscale": [
             [
              0,
              "#0d0887"
             ],
             [
              0.1111111111111111,
              "#46039f"
             ],
             [
              0.2222222222222222,
              "#7201a8"
             ],
             [
              0.3333333333333333,
              "#9c179e"
             ],
             [
              0.4444444444444444,
              "#bd3786"
             ],
             [
              0.5555555555555556,
              "#d8576b"
             ],
             [
              0.6666666666666666,
              "#ed7953"
             ],
             [
              0.7777777777777778,
              "#fb9f3a"
             ],
             [
              0.8888888888888888,
              "#fdca26"
             ],
             [
              1,
              "#f0f921"
             ]
            ],
            "type": "histogram2d"
           }
          ],
          "histogram2dcontour": [
           {
            "colorbar": {
             "outlinewidth": 0,
             "ticks": ""
            },
            "colorscale": [
             [
              0,
              "#0d0887"
             ],
             [
              0.1111111111111111,
              "#46039f"
             ],
             [
              0.2222222222222222,
              "#7201a8"
             ],
             [
              0.3333333333333333,
              "#9c179e"
             ],
             [
              0.4444444444444444,
              "#bd3786"
             ],
             [
              0.5555555555555556,
              "#d8576b"
             ],
             [
              0.6666666666666666,
              "#ed7953"
             ],
             [
              0.7777777777777778,
              "#fb9f3a"
             ],
             [
              0.8888888888888888,
              "#fdca26"
             ],
             [
              1,
              "#f0f921"
             ]
            ],
            "type": "histogram2dcontour"
           }
          ],
          "mesh3d": [
           {
            "colorbar": {
             "outlinewidth": 0,
             "ticks": ""
            },
            "type": "mesh3d"
           }
          ],
          "parcoords": [
           {
            "line": {
             "colorbar": {
              "outlinewidth": 0,
              "ticks": ""
             }
            },
            "type": "parcoords"
           }
          ],
          "pie": [
           {
            "automargin": true,
            "type": "pie"
           }
          ],
          "scatter": [
           {
            "fillpattern": {
             "fillmode": "overlay",
             "size": 10,
             "solidity": 0.2
            },
            "type": "scatter"
           }
          ],
          "scatter3d": [
           {
            "line": {
             "colorbar": {
              "outlinewidth": 0,
              "ticks": ""
             }
            },
            "marker": {
             "colorbar": {
              "outlinewidth": 0,
              "ticks": ""
             }
            },
            "type": "scatter3d"
           }
          ],
          "scattercarpet": [
           {
            "marker": {
             "colorbar": {
              "outlinewidth": 0,
              "ticks": ""
             }
            },
            "type": "scattercarpet"
           }
          ],
          "scattergeo": [
           {
            "marker": {
             "colorbar": {
              "outlinewidth": 0,
              "ticks": ""
             }
            },
            "type": "scattergeo"
           }
          ],
          "scattergl": [
           {
            "marker": {
             "colorbar": {
              "outlinewidth": 0,
              "ticks": ""
             }
            },
            "type": "scattergl"
           }
          ],
          "scattermap": [
           {
            "marker": {
             "colorbar": {
              "outlinewidth": 0,
              "ticks": ""
             }
            },
            "type": "scattermap"
           }
          ],
          "scattermapbox": [
           {
            "marker": {
             "colorbar": {
              "outlinewidth": 0,
              "ticks": ""
             }
            },
            "type": "scattermapbox"
           }
          ],
          "scatterpolar": [
           {
            "marker": {
             "colorbar": {
              "outlinewidth": 0,
              "ticks": ""
             }
            },
            "type": "scatterpolar"
           }
          ],
          "scatterpolargl": [
           {
            "marker": {
             "colorbar": {
              "outlinewidth": 0,
              "ticks": ""
             }
            },
            "type": "scatterpolargl"
           }
          ],
          "scatterternary": [
           {
            "marker": {
             "colorbar": {
              "outlinewidth": 0,
              "ticks": ""
             }
            },
            "type": "scatterternary"
           }
          ],
          "surface": [
           {
            "colorbar": {
             "outlinewidth": 0,
             "ticks": ""
            },
            "colorscale": [
             [
              0,
              "#0d0887"
             ],
             [
              0.1111111111111111,
              "#46039f"
             ],
             [
              0.2222222222222222,
              "#7201a8"
             ],
             [
              0.3333333333333333,
              "#9c179e"
             ],
             [
              0.4444444444444444,
              "#bd3786"
             ],
             [
              0.5555555555555556,
              "#d8576b"
             ],
             [
              0.6666666666666666,
              "#ed7953"
             ],
             [
              0.7777777777777778,
              "#fb9f3a"
             ],
             [
              0.8888888888888888,
              "#fdca26"
             ],
             [
              1,
              "#f0f921"
             ]
            ],
            "type": "surface"
           }
          ],
          "table": [
           {
            "cells": {
             "fill": {
              "color": "#EBF0F8"
             },
             "line": {
              "color": "white"
             }
            },
            "header": {
             "fill": {
              "color": "#C8D4E3"
             },
             "line": {
              "color": "white"
             }
            },
            "type": "table"
           }
          ]
         },
         "layout": {
          "annotationdefaults": {
           "arrowcolor": "#2a3f5f",
           "arrowhead": 0,
           "arrowwidth": 1
          },
          "autotypenumbers": "strict",
          "coloraxis": {
           "colorbar": {
            "outlinewidth": 0,
            "ticks": ""
           }
          },
          "colorscale": {
           "diverging": [
            [
             0,
             "#8e0152"
            ],
            [
             0.1,
             "#c51b7d"
            ],
            [
             0.2,
             "#de77ae"
            ],
            [
             0.3,
             "#f1b6da"
            ],
            [
             0.4,
             "#fde0ef"
            ],
            [
             0.5,
             "#f7f7f7"
            ],
            [
             0.6,
             "#e6f5d0"
            ],
            [
             0.7,
             "#b8e186"
            ],
            [
             0.8,
             "#7fbc41"
            ],
            [
             0.9,
             "#4d9221"
            ],
            [
             1,
             "#276419"
            ]
           ],
           "sequential": [
            [
             0,
             "#0d0887"
            ],
            [
             0.1111111111111111,
             "#46039f"
            ],
            [
             0.2222222222222222,
             "#7201a8"
            ],
            [
             0.3333333333333333,
             "#9c179e"
            ],
            [
             0.4444444444444444,
             "#bd3786"
            ],
            [
             0.5555555555555556,
             "#d8576b"
            ],
            [
             0.6666666666666666,
             "#ed7953"
            ],
            [
             0.7777777777777778,
             "#fb9f3a"
            ],
            [
             0.8888888888888888,
             "#fdca26"
            ],
            [
             1,
             "#f0f921"
            ]
           ],
           "sequentialminus": [
            [
             0,
             "#0d0887"
            ],
            [
             0.1111111111111111,
             "#46039f"
            ],
            [
             0.2222222222222222,
             "#7201a8"
            ],
            [
             0.3333333333333333,
             "#9c179e"
            ],
            [
             0.4444444444444444,
             "#bd3786"
            ],
            [
             0.5555555555555556,
             "#d8576b"
            ],
            [
             0.6666666666666666,
             "#ed7953"
            ],
            [
             0.7777777777777778,
             "#fb9f3a"
            ],
            [
             0.8888888888888888,
             "#fdca26"
            ],
            [
             1,
             "#f0f921"
            ]
           ]
          },
          "colorway": [
           "#636efa",
           "#EF553B",
           "#00cc96",
           "#ab63fa",
           "#FFA15A",
           "#19d3f3",
           "#FF6692",
           "#B6E880",
           "#FF97FF",
           "#FECB52"
          ],
          "font": {
           "color": "#2a3f5f"
          },
          "geo": {
           "bgcolor": "white",
           "lakecolor": "white",
           "landcolor": "#E5ECF6",
           "showlakes": true,
           "showland": true,
           "subunitcolor": "white"
          },
          "hoverlabel": {
           "align": "left"
          },
          "hovermode": "closest",
          "mapbox": {
           "style": "light"
          },
          "paper_bgcolor": "white",
          "plot_bgcolor": "#E5ECF6",
          "polar": {
           "angularaxis": {
            "gridcolor": "white",
            "linecolor": "white",
            "ticks": ""
           },
           "bgcolor": "#E5ECF6",
           "radialaxis": {
            "gridcolor": "white",
            "linecolor": "white",
            "ticks": ""
           }
          },
          "scene": {
           "xaxis": {
            "backgroundcolor": "#E5ECF6",
            "gridcolor": "white",
            "gridwidth": 2,
            "linecolor": "white",
            "showbackground": true,
            "ticks": "",
            "zerolinecolor": "white"
           },
           "yaxis": {
            "backgroundcolor": "#E5ECF6",
            "gridcolor": "white",
            "gridwidth": 2,
            "linecolor": "white",
            "showbackground": true,
            "ticks": "",
            "zerolinecolor": "white"
           },
           "zaxis": {
            "backgroundcolor": "#E5ECF6",
            "gridcolor": "white",
            "gridwidth": 2,
            "linecolor": "white",
            "showbackground": true,
            "ticks": "",
            "zerolinecolor": "white"
           }
          },
          "shapedefaults": {
           "line": {
            "color": "#2a3f5f"
           }
          },
          "ternary": {
           "aaxis": {
            "gridcolor": "white",
            "linecolor": "white",
            "ticks": ""
           },
           "baxis": {
            "gridcolor": "white",
            "linecolor": "white",
            "ticks": ""
           },
           "bgcolor": "#E5ECF6",
           "caxis": {
            "gridcolor": "white",
            "linecolor": "white",
            "ticks": ""
           }
          },
          "title": {
           "x": 0.05
          },
          "xaxis": {
           "automargin": true,
           "gridcolor": "white",
           "linecolor": "white",
           "ticks": "",
           "title": {
            "standoff": 15
           },
           "zerolinecolor": "white",
           "zerolinewidth": 2
          },
          "yaxis": {
           "automargin": true,
           "gridcolor": "white",
           "linecolor": "white",
           "ticks": "",
           "title": {
            "standoff": 15
           },
           "zerolinecolor": "white",
           "zerolinewidth": 2
          }
         }
        },
        "title": {
         "font": {
          "family": "Arial Black",
          "size": 22
         },
         "text": "AMZN - 3-Year Candlestick Chart",
         "x": 0.5,
         "xanchor": "center"
        },
        "xaxis": {
         "rangeslider": {
          "visible": false
         },
         "title": {
          "text": "Date"
         }
        },
        "yaxis": {
         "title": {
          "text": "Price (USD)"
         }
        }
       }
      },
      "image/png": "[encoded data removed]"
     },
     "metadata": {},
     "output_type": "display_data"
    }
   ],
   "source": [
    "stock = input(\"Enter stock symbol: \").upper()\n",
    "\n",
    "# Use cached data or fetch fresh\n",
    "if stock in hists:\n",
    "    temp_df = hists[stock].copy()\n",
    "else:\n",
    "    print(\"Fetching fresh data...\")\n",
    "    tkr = yf.Ticker(stock)\n",
    "    temp_df = tkr.history(period=\"1y\")\n",
    "\n",
    "# Plot\n",
    "fig = go.Figure(data=[go.Candlestick(\n",
    "    x=temp_df.index,\n",
    "    open=temp_df['Open'],\n",
    "    high=temp_df['High'],\n",
    "    low=temp_df['Low'],\n",
    "    close=temp_df['Close']\n",
    ")])\n",
    "\n",
    "fig.update_layout(\n",
    "    margin=dict(l=20, r=20, t=60, b=20),\n",
    "    height=400,\n",
    "    paper_bgcolor=\"LightSteelBlue\",\n",
    "    plot_bgcolor=\"white\",\n",
    "    title=dict(\n",
    "        text=f\"{stock} - 3-Year Candlestick Chart\",\n",
    "        x=0.5,\n",
    "        xanchor=\"center\",\n",
    "        font=dict(size=22, family=\"Arial Black\")\n",
    "    ),\n",
    "    xaxis_rangeslider_visible=False,\n",
    "    xaxis_title=\"Date\",\n",
    "    yaxis_title=\"Price (USD)\",\n",
    ")\n",
    "\n",
    "fig.show()"
   ]
  },
  {
   "cell_type": "markdown",
   "id": "c2f58fbd-0f1d-4eb2-b52d-c6bb6e1d599c",
   "metadata": {},
   "source": [
    "## Pull tweets about each stock"
   ]
  },
  {
   "cell_type": "code",
   "execution_count": null,
   "id": "58fe44cd-64c9-40d1-a9c4-46eae0b5ae9d",
   "metadata": {},
   "outputs": [],
   "source": [
    "!pip install tweepy\n"
   ]
  },
  {
   "cell_type": "code",
   "execution_count": null,
   "id": "07173cdd-41c2-4d37-ae64-1c9bddd43a09",
   "metadata": {},
   "outputs": [],
   "source": [
    "import tweepy\n",
    "import pandas as pd\n",
    "\n",
    "# Set your Bearer Token here\n",
    "BEARER_TOKEN = \"AAAAAAAAAAAAAAAAAAAAAA8D3AEAAAAAqpO5pse%2BBtjmngCb4m0sDL9cnOA%3DbEUhLl6VEvg8GgfXSh22PqBey1IOXnlo21iTtQoxjOckHS9h6A\"\n",
    "\n",
    "# Create Tweepy client\n",
    "client = tweepy.Client(bearer_token=BEARER_TOKEN)\n"
   ]
  },
  {
   "cell_type": "code",
   "execution_count": 41,
   "id": "aee54eb8-93e5-4e2c-bc90-c87b3a359bdf",
   "metadata": {},
   "outputs": [
    {
     "ename": "NameError",
     "evalue": "name 'client' is not defined",
     "output_type": "error",
     "traceback": [
      "\u001b[1;31m---------------------------------------------------------------------------\u001b[0m",
      "\u001b[1;31mNameError\u001b[0m                                 Traceback (most recent call last)",
      "Cell \u001b[1;32mIn[41], line 3\u001b[0m\n\u001b[0;32m      1\u001b[0m query \u001b[38;5;241m=\u001b[39m \u001b[38;5;124m\"\u001b[39m\u001b[38;5;124mTesla stock -is:retweet lang:en\u001b[39m\u001b[38;5;124m\"\u001b[39m\n\u001b[1;32m----> 3\u001b[0m tweets \u001b[38;5;241m=\u001b[39m \u001b[43mclient\u001b[49m\u001b[38;5;241m.\u001b[39msearch_recent_tweets(\n\u001b[0;32m      4\u001b[0m     query\u001b[38;5;241m=\u001b[39mquery,\n\u001b[0;32m      5\u001b[0m     max_results\u001b[38;5;241m=\u001b[39m\u001b[38;5;241m100\u001b[39m,\n\u001b[0;32m      6\u001b[0m     tweet_fields\u001b[38;5;241m=\u001b[39m[\u001b[38;5;124m\"\u001b[39m\u001b[38;5;124mcreated_at\u001b[39m\u001b[38;5;124m\"\u001b[39m, \u001b[38;5;124m\"\u001b[39m\u001b[38;5;124mtext\u001b[39m\u001b[38;5;124m\"\u001b[39m, \u001b[38;5;124m\"\u001b[39m\u001b[38;5;124mauthor_id\u001b[39m\u001b[38;5;124m\"\u001b[39m],\n\u001b[0;32m      7\u001b[0m     expansions\u001b[38;5;241m=\u001b[39m[\u001b[38;5;124m\"\u001b[39m\u001b[38;5;124mauthor_id\u001b[39m\u001b[38;5;124m\"\u001b[39m],\n\u001b[0;32m      8\u001b[0m     user_fields\u001b[38;5;241m=\u001b[39m[\u001b[38;5;124m\"\u001b[39m\u001b[38;5;124musername\u001b[39m\u001b[38;5;124m\"\u001b[39m]\n\u001b[0;32m      9\u001b[0m )\n\u001b[0;32m     11\u001b[0m \u001b[38;5;66;03m# Build map of author_id → username\u001b[39;00m\n\u001b[0;32m     12\u001b[0m users \u001b[38;5;241m=\u001b[39m {user\u001b[38;5;241m.\u001b[39mid: user\u001b[38;5;241m.\u001b[39musername \u001b[38;5;28;01mfor\u001b[39;00m user \u001b[38;5;129;01min\u001b[39;00m tweets\u001b[38;5;241m.\u001b[39mincludes[\u001b[38;5;124m'\u001b[39m\u001b[38;5;124musers\u001b[39m\u001b[38;5;124m'\u001b[39m]}\n",
      "\u001b[1;31mNameError\u001b[0m: name 'client' is not defined"
     ]
    }
   ],
   "source": [
    "query = \"Tesla stock -is:retweet lang:en\"\n",
    "\n",
    "tweets = client.search_recent_tweets(\n",
    "    query=query,\n",
    "    max_results=100,\n",
    "    tweet_fields=[\"created_at\", \"text\", \"author_id\"],\n",
    "    expansions=[\"author_id\"],\n",
    "    user_fields=[\"username\"]\n",
    ")\n",
    "\n",
    "# Build map of author_id → username\n",
    "users = {user.id: user.username for user in tweets.includes['users']}\n",
    "\n",
    "# Extract tweet data\n",
    "data = []\n",
    "for tweet in tweets.data:\n",
    "    username = users.get(tweet.author_id, \"N/A\")\n",
    "    data.append([tweet.created_at, tweet.author_id, username, tweet.text])\n",
    "\n",
    "# Store in DataFrame\n",
    "df = pd.DataFrame(data, columns=[\"Datetime\", \"Author ID\", \"Username\", \"Text\"])\n",
    "df.head()\n"
   ]
  },
  {
   "cell_type": "code",
   "execution_count": null,
   "id": "10735e2a-36a0-47df-bb2f-1d24208cb3be",
   "metadata": {},
   "outputs": [],
   "source": [
    "!pip install snscrape\n"
   ]
  },
  {
   "cell_type": "code",
   "execution_count": 43,
   "id": "07279173-42d5-47c5-9b3f-ebb5a1f6e03f",
   "metadata": {},
   "outputs": [
    {
     "name": "stderr",
     "output_type": "stream",
     "text": [
      "Error retrieving https://twitter.com/search?f=live&lang=en&q=Tesla+stock+since%3A2024-07-01+until%3A2024-07-10&src=spelling_expansion_revert_click: SSLError(MaxRetryError(\"HTTPSConnectionPool(host='twitter.com', port=443): Max retries exceeded with url: /search?f=live&lang=en&q=Tesla+stock+since%3A2024-07-01+until%3A2024-07-10&src=spelling_expansion_revert_click (Caused by SSLError(SSLCertVerificationError(1, '[SSL: CERTIFICATE_VERIFY_FAILED] certificate verify failed: unable to get local issuer certificate (_ssl.c:1147)')))\"))\n",
      "4 requests to https://twitter.com/search?f=live&lang=en&q=Tesla+stock+since%3A2024-07-01+until%3A2024-07-10&src=spelling_expansion_revert_click failed, giving up.\n",
      "Errors: SSLError(MaxRetryError(\"HTTPSConnectionPool(host='twitter.com', port=443): Max retries exceeded with url: /search?f=live&lang=en&q=Tesla+stock+since%3A2024-07-01+until%3A2024-07-10&src=spelling_expansion_revert_click (Caused by SSLError(SSLCertVerificationError(1, '[SSL: CERTIFICATE_VERIFY_FAILED] certificate verify failed: unable to get local issuer certificate (_ssl.c:1147)')))\")), SSLError(MaxRetryError(\"HTTPSConnectionPool(host='twitter.com', port=443): Max retries exceeded with url: /search?f=live&lang=en&q=Tesla+stock+since%3A2024-07-01+until%3A2024-07-10&src=spelling_expansion_revert_click (Caused by SSLError(SSLCertVerificationError(1, '[SSL: CERTIFICATE_VERIFY_FAILED] certificate verify failed: unable to get local issuer certificate (_ssl.c:1147)')))\")), SSLError(MaxRetryError(\"HTTPSConnectionPool(host='twitter.com', port=443): Max retries exceeded with url: /search?f=live&lang=en&q=Tesla+stock+since%3A2024-07-01+until%3A2024-07-10&src=spelling_expansion_revert_click (Caused by SSLError(SSLCertVerificationError(1, '[SSL: CERTIFICATE_VERIFY_FAILED] certificate verify failed: unable to get local issuer certificate (_ssl.c:1147)')))\")), SSLError(MaxRetryError(\"HTTPSConnectionPool(host='twitter.com', port=443): Max retries exceeded with url: /search?f=live&lang=en&q=Tesla+stock+since%3A2024-07-01+until%3A2024-07-10&src=spelling_expansion_revert_click (Caused by SSLError(SSLCertVerificationError(1, '[SSL: CERTIFICATE_VERIFY_FAILED] certificate verify failed: unable to get local issuer certificate (_ssl.c:1147)')))\"))\n"
     ]
    },
    {
     "ename": "ScraperException",
     "evalue": "4 requests to https://twitter.com/search?f=live&lang=en&q=Tesla+stock+since%3A2024-07-01+until%3A2024-07-10&src=spelling_expansion_revert_click failed, giving up.",
     "output_type": "error",
     "traceback": [
      "\u001b[1;31m---------------------------------------------------------------------------\u001b[0m",
      "\u001b[1;31mScraperException\u001b[0m                          Traceback (most recent call last)",
      "Cell \u001b[1;32mIn[43], line 7\u001b[0m\n\u001b[0;32m      4\u001b[0m query \u001b[38;5;241m=\u001b[39m \u001b[38;5;124m\"\u001b[39m\u001b[38;5;124mTesla stock since:2024-07-01 until:2024-07-10\u001b[39m\u001b[38;5;124m\"\u001b[39m\n\u001b[0;32m      6\u001b[0m tweets \u001b[38;5;241m=\u001b[39m []\n\u001b[1;32m----> 7\u001b[0m \u001b[38;5;28;01mfor\u001b[39;00m i, tweet \u001b[38;5;129;01min\u001b[39;00m \u001b[38;5;28menumerate\u001b[39m(sntwitter\u001b[38;5;241m.\u001b[39mTwitterSearchScraper(query)\u001b[38;5;241m.\u001b[39mget_items()):\n\u001b[0;32m      8\u001b[0m     \u001b[38;5;28;01mif\u001b[39;00m i \u001b[38;5;241m>\u001b[39m \u001b[38;5;241m100\u001b[39m:\n\u001b[0;32m      9\u001b[0m         \u001b[38;5;28;01mbreak\u001b[39;00m\n",
      "File \u001b[1;32m~\\anaconda3\\envs\\stocksentiment\\lib\\site-packages\\snscrape\\modules\\twitter.py:1763\u001b[0m, in \u001b[0;36mTwitterSearchScraper.get_items\u001b[1;34m(self)\u001b[0m\n\u001b[0;32m   1760\u001b[0m params \u001b[38;5;241m=\u001b[39m {\u001b[38;5;124m'\u001b[39m\u001b[38;5;124mvariables\u001b[39m\u001b[38;5;124m'\u001b[39m: variables, \u001b[38;5;124m'\u001b[39m\u001b[38;5;124mfeatures\u001b[39m\u001b[38;5;124m'\u001b[39m: features}\n\u001b[0;32m   1761\u001b[0m paginationParams \u001b[38;5;241m=\u001b[39m {\u001b[38;5;124m'\u001b[39m\u001b[38;5;124mvariables\u001b[39m\u001b[38;5;124m'\u001b[39m: paginationVariables, \u001b[38;5;124m'\u001b[39m\u001b[38;5;124mfeatures\u001b[39m\u001b[38;5;124m'\u001b[39m: features}\n\u001b[1;32m-> 1763\u001b[0m \u001b[38;5;28;01mfor\u001b[39;00m obj \u001b[38;5;129;01min\u001b[39;00m \u001b[38;5;28mself\u001b[39m\u001b[38;5;241m.\u001b[39m_iter_api_data(\u001b[38;5;124m'\u001b[39m\u001b[38;5;124mhttps://twitter.com/i/api/graphql/7jT5GT59P8IFjgxwqnEdQw/SearchTimeline\u001b[39m\u001b[38;5;124m'\u001b[39m, _TwitterAPIType\u001b[38;5;241m.\u001b[39mGRAPHQL, params, paginationParams, cursor \u001b[38;5;241m=\u001b[39m \u001b[38;5;28mself\u001b[39m\u001b[38;5;241m.\u001b[39m_cursor, instructionsPath \u001b[38;5;241m=\u001b[39m [\u001b[38;5;124m'\u001b[39m\u001b[38;5;124mdata\u001b[39m\u001b[38;5;124m'\u001b[39m, \u001b[38;5;124m'\u001b[39m\u001b[38;5;124msearch_by_raw_query\u001b[39m\u001b[38;5;124m'\u001b[39m, \u001b[38;5;124m'\u001b[39m\u001b[38;5;124msearch_timeline\u001b[39m\u001b[38;5;124m'\u001b[39m, \u001b[38;5;124m'\u001b[39m\u001b[38;5;124mtimeline\u001b[39m\u001b[38;5;124m'\u001b[39m, \u001b[38;5;124m'\u001b[39m\u001b[38;5;124minstructions\u001b[39m\u001b[38;5;124m'\u001b[39m]):\n\u001b[0;32m   1764\u001b[0m \t\u001b[38;5;28;01myield from\u001b[39;00m \u001b[38;5;28mself\u001b[39m\u001b[38;5;241m.\u001b[39m_graphql_timeline_instructions_to_tweets(obj[\u001b[38;5;124m'\u001b[39m\u001b[38;5;124mdata\u001b[39m\u001b[38;5;124m'\u001b[39m][\u001b[38;5;124m'\u001b[39m\u001b[38;5;124msearch_by_raw_query\u001b[39m\u001b[38;5;124m'\u001b[39m][\u001b[38;5;124m'\u001b[39m\u001b[38;5;124msearch_timeline\u001b[39m\u001b[38;5;124m'\u001b[39m][\u001b[38;5;124m'\u001b[39m\u001b[38;5;124mtimeline\u001b[39m\u001b[38;5;124m'\u001b[39m][\u001b[38;5;124m'\u001b[39m\u001b[38;5;124minstructions\u001b[39m\u001b[38;5;124m'\u001b[39m])\n",
      "File \u001b[1;32m~\\anaconda3\\envs\\stocksentiment\\lib\\site-packages\\snscrape\\modules\\twitter.py:915\u001b[0m, in \u001b[0;36m_TwitterAPIScraper._iter_api_data\u001b[1;34m(self, endpoint, apiType, params, paginationParams, cursor, direction, instructionsPath)\u001b[0m\n\u001b[0;32m    913\u001b[0m \u001b[38;5;28;01mwhile\u001b[39;00m \u001b[38;5;28;01mTrue\u001b[39;00m:\n\u001b[0;32m    914\u001b[0m \t_logger\u001b[38;5;241m.\u001b[39minfo(\u001b[38;5;124mf\u001b[39m\u001b[38;5;124m'\u001b[39m\u001b[38;5;124mRetrieving scroll page \u001b[39m\u001b[38;5;132;01m{\u001b[39;00mcursor\u001b[38;5;132;01m}\u001b[39;00m\u001b[38;5;124m'\u001b[39m)\n\u001b[1;32m--> 915\u001b[0m \tobj \u001b[38;5;241m=\u001b[39m \u001b[38;5;28;43mself\u001b[39;49m\u001b[38;5;241;43m.\u001b[39;49m\u001b[43m_get_api_data\u001b[49m\u001b[43m(\u001b[49m\u001b[43mendpoint\u001b[49m\u001b[43m,\u001b[49m\u001b[43m \u001b[49m\u001b[43mapiType\u001b[49m\u001b[43m,\u001b[49m\u001b[43m \u001b[49m\u001b[43mreqParams\u001b[49m\u001b[43m,\u001b[49m\u001b[43m \u001b[49m\u001b[43minstructionsPath\u001b[49m\u001b[43m \u001b[49m\u001b[38;5;241;43m=\u001b[39;49m\u001b[43m \u001b[49m\u001b[43minstructionsPath\u001b[49m\u001b[43m)\u001b[49m\n\u001b[0;32m    916\u001b[0m \t\u001b[38;5;28;01myield\u001b[39;00m obj\n\u001b[0;32m    918\u001b[0m \t\u001b[38;5;66;03m# No data format test, just a hard and loud crash if anything's wrong :-)\u001b[39;00m\n",
      "File \u001b[1;32m~\\anaconda3\\envs\\stocksentiment\\lib\\site-packages\\snscrape\\modules\\twitter.py:883\u001b[0m, in \u001b[0;36m_TwitterAPIScraper._get_api_data\u001b[1;34m(self, endpoint, apiType, params, instructionsPath)\u001b[0m\n\u001b[0;32m    882\u001b[0m \u001b[38;5;28;01mdef\u001b[39;00m\u001b[38;5;250m \u001b[39m\u001b[38;5;21m_get_api_data\u001b[39m(\u001b[38;5;28mself\u001b[39m, endpoint, apiType, params, instructionsPath \u001b[38;5;241m=\u001b[39m \u001b[38;5;28;01mNone\u001b[39;00m):\n\u001b[1;32m--> 883\u001b[0m \t\u001b[38;5;28;43mself\u001b[39;49m\u001b[38;5;241;43m.\u001b[39;49m\u001b[43m_ensure_guest_token\u001b[49m\u001b[43m(\u001b[49m\u001b[43m)\u001b[49m\n\u001b[0;32m    884\u001b[0m \t\u001b[38;5;28;01mif\u001b[39;00m apiType \u001b[38;5;129;01mis\u001b[39;00m _TwitterAPIType\u001b[38;5;241m.\u001b[39mGRAPHQL:\n\u001b[0;32m    885\u001b[0m \t\tparams \u001b[38;5;241m=\u001b[39m urllib\u001b[38;5;241m.\u001b[39mparse\u001b[38;5;241m.\u001b[39murlencode({k: json\u001b[38;5;241m.\u001b[39mdumps(v, separators \u001b[38;5;241m=\u001b[39m (\u001b[38;5;124m'\u001b[39m\u001b[38;5;124m,\u001b[39m\u001b[38;5;124m'\u001b[39m, \u001b[38;5;124m'\u001b[39m\u001b[38;5;124m:\u001b[39m\u001b[38;5;124m'\u001b[39m)) \u001b[38;5;28;01mfor\u001b[39;00m k, v \u001b[38;5;129;01min\u001b[39;00m params\u001b[38;5;241m.\u001b[39mitems()}, quote_via \u001b[38;5;241m=\u001b[39m urllib\u001b[38;5;241m.\u001b[39mparse\u001b[38;5;241m.\u001b[39mquote)\n",
      "File \u001b[1;32m~\\anaconda3\\envs\\stocksentiment\\lib\\site-packages\\snscrape\\modules\\twitter.py:825\u001b[0m, in \u001b[0;36m_TwitterAPIScraper._ensure_guest_token\u001b[1;34m(self, url)\u001b[0m\n\u001b[0;32m    823\u001b[0m \u001b[38;5;28;01mif\u001b[39;00m \u001b[38;5;28mself\u001b[39m\u001b[38;5;241m.\u001b[39m_guestTokenManager\u001b[38;5;241m.\u001b[39mtoken \u001b[38;5;129;01mis\u001b[39;00m \u001b[38;5;28;01mNone\u001b[39;00m:\n\u001b[0;32m    824\u001b[0m \t_logger\u001b[38;5;241m.\u001b[39minfo(\u001b[38;5;124m'\u001b[39m\u001b[38;5;124mRetrieving guest token\u001b[39m\u001b[38;5;124m'\u001b[39m)\n\u001b[1;32m--> 825\u001b[0m \tr \u001b[38;5;241m=\u001b[39m \u001b[38;5;28;43mself\u001b[39;49m\u001b[38;5;241;43m.\u001b[39;49m\u001b[43m_get\u001b[49m\u001b[43m(\u001b[49m\u001b[38;5;28;43mself\u001b[39;49m\u001b[38;5;241;43m.\u001b[39;49m\u001b[43m_baseUrl\u001b[49m\u001b[43m \u001b[49m\u001b[38;5;28;43;01mif\u001b[39;49;00m\u001b[43m \u001b[49m\u001b[43murl\u001b[49m\u001b[43m \u001b[49m\u001b[38;5;129;43;01mis\u001b[39;49;00m\u001b[43m \u001b[49m\u001b[38;5;28;43;01mNone\u001b[39;49;00m\u001b[43m \u001b[49m\u001b[38;5;28;43;01melse\u001b[39;49;00m\u001b[43m \u001b[49m\u001b[43murl\u001b[49m\u001b[43m,\u001b[49m\u001b[43m \u001b[49m\u001b[43mresponseOkCallback\u001b[49m\u001b[43m \u001b[49m\u001b[38;5;241;43m=\u001b[39;49m\u001b[43m \u001b[49m\u001b[38;5;28;43mself\u001b[39;49m\u001b[38;5;241;43m.\u001b[39;49m\u001b[43m_check_guest_token_response\u001b[49m\u001b[43m)\u001b[49m\n\u001b[0;32m    826\u001b[0m \t\u001b[38;5;28;01mif\u001b[39;00m (match \u001b[38;5;241m:=\u001b[39m re\u001b[38;5;241m.\u001b[39msearch(\u001b[38;5;124mr\u001b[39m\u001b[38;5;124m'\u001b[39m\u001b[38;5;124mdocument\u001b[39m\u001b[38;5;124m\\\u001b[39m\u001b[38;5;124m.cookie = decodeURIComponent\u001b[39m\u001b[38;5;124m\\\u001b[39m\u001b[38;5;124m(\u001b[39m\u001b[38;5;124m\"\u001b[39m\u001b[38;5;124mgt=(\u001b[39m\u001b[38;5;124m\\\u001b[39m\u001b[38;5;124md+); Max-Age=10800; Domain=\u001b[39m\u001b[38;5;124m\\\u001b[39m\u001b[38;5;124m.twitter\u001b[39m\u001b[38;5;124m\\\u001b[39m\u001b[38;5;124m.com; Path=/; Secure\u001b[39m\u001b[38;5;124m\"\u001b[39m\u001b[38;5;124m\\\u001b[39m\u001b[38;5;124m);\u001b[39m\u001b[38;5;124m'\u001b[39m, r\u001b[38;5;241m.\u001b[39mtext)):\n\u001b[0;32m    827\u001b[0m \t\t_logger\u001b[38;5;241m.\u001b[39mdebug(\u001b[38;5;124m'\u001b[39m\u001b[38;5;124mFound guest token in HTML\u001b[39m\u001b[38;5;124m'\u001b[39m)\n",
      "File \u001b[1;32m~\\anaconda3\\envs\\stocksentiment\\lib\\site-packages\\snscrape\\base.py:275\u001b[0m, in \u001b[0;36mScraper._get\u001b[1;34m(self, *args, **kwargs)\u001b[0m\n\u001b[0;32m    274\u001b[0m \u001b[38;5;28;01mdef\u001b[39;00m\u001b[38;5;250m \u001b[39m\u001b[38;5;21m_get\u001b[39m(\u001b[38;5;28mself\u001b[39m, \u001b[38;5;241m*\u001b[39margs, \u001b[38;5;241m*\u001b[39m\u001b[38;5;241m*\u001b[39mkwargs):\n\u001b[1;32m--> 275\u001b[0m \t\u001b[38;5;28;01mreturn\u001b[39;00m \u001b[38;5;28mself\u001b[39m\u001b[38;5;241m.\u001b[39m_request(\u001b[38;5;124m'\u001b[39m\u001b[38;5;124mGET\u001b[39m\u001b[38;5;124m'\u001b[39m, \u001b[38;5;241m*\u001b[39margs, \u001b[38;5;241m*\u001b[39m\u001b[38;5;241m*\u001b[39mkwargs)\n",
      "File \u001b[1;32m~\\anaconda3\\envs\\stocksentiment\\lib\\site-packages\\snscrape\\base.py:271\u001b[0m, in \u001b[0;36mScraper._request\u001b[1;34m(self, method, url, params, data, headers, timeout, responseOkCallback, allowRedirects, proxies)\u001b[0m\n\u001b[0;32m    269\u001b[0m \t_logger\u001b[38;5;241m.\u001b[39mfatal(msg)\n\u001b[0;32m    270\u001b[0m \t_logger\u001b[38;5;241m.\u001b[39mfatal(\u001b[38;5;124mf\u001b[39m\u001b[38;5;124m'\u001b[39m\u001b[38;5;124mErrors: \u001b[39m\u001b[38;5;132;01m{\u001b[39;00m\u001b[38;5;124m\"\u001b[39m\u001b[38;5;124m, \u001b[39m\u001b[38;5;124m\"\u001b[39m\u001b[38;5;241m.\u001b[39mjoin(errors)\u001b[38;5;132;01m}\u001b[39;00m\u001b[38;5;124m'\u001b[39m)\n\u001b[1;32m--> 271\u001b[0m \t\u001b[38;5;28;01mraise\u001b[39;00m ScraperException(msg)\n\u001b[0;32m    272\u001b[0m \u001b[38;5;28;01mraise\u001b[39;00m \u001b[38;5;167;01mRuntimeError\u001b[39;00m(\u001b[38;5;124m'\u001b[39m\u001b[38;5;124mReached unreachable code\u001b[39m\u001b[38;5;124m'\u001b[39m)\n",
      "\u001b[1;31mScraperException\u001b[0m: 4 requests to https://twitter.com/search?f=live&lang=en&q=Tesla+stock+since%3A2024-07-01+until%3A2024-07-10&src=spelling_expansion_revert_click failed, giving up."
     ]
    }
   ],
   "source": [
    "import snscrape.modules.twitter as sntwitter\n",
    "import pandas as pd\n",
    "\n",
    "query = \"Tesla stock since:2024-07-01 until:2024-07-10\"\n",
    "\n",
    "tweets = []\n",
    "for i, tweet in enumerate(sntwitter.TwitterSearchScraper(query).get_items()):\n",
    "    if i > 100:\n",
    "        break\n",
    "    tweets.append([tweet.date, tweet.user.username, tweet.content])\n",
    "\n",
    "df = pd.DataFrame(tweets, columns=[\"Date\", \"Username\", \"Tweet\"])\n",
    "df.head()\n"
   ]
  },
  {
   "cell_type": "code",
   "execution_count": 45,
   "id": "e959aa5e-8ada-4f2c-8d8a-bc331ea832a2",
   "metadata": {},
   "outputs": [
    {
     "name": "stdout",
     "output_type": "stream",
     "text": [
      "Requirement already satisfied: praw in c:\\users\\patna\\anaconda3\\envs\\stocksentiment\\lib\\site-packages (7.8.1)\n",
      "Requirement already satisfied: prawcore<3,>=2.4 in c:\\users\\patna\\anaconda3\\envs\\stocksentiment\\lib\\site-packages (from praw) (2.4.0)\n",
      "Requirement already satisfied: update_checker>=0.18 in c:\\users\\patna\\anaconda3\\envs\\stocksentiment\\lib\\site-packages (from praw) (0.18.0)\n",
      "Requirement already satisfied: websocket-client>=0.54.0 in c:\\users\\patna\\anaconda3\\envs\\stocksentiment\\lib\\site-packages (from praw) (1.8.0)\n",
      "Requirement already satisfied: requests<3.0,>=2.6.0 in c:\\users\\patna\\anaconda3\\envs\\stocksentiment\\lib\\site-packages (from prawcore<3,>=2.4->praw) (2.32.4)\n",
      "Requirement already satisfied: charset_normalizer<4,>=2 in c:\\users\\patna\\anaconda3\\envs\\stocksentiment\\lib\\site-packages (from requests<3.0,>=2.6.0->prawcore<3,>=2.4->praw) (3.4.2)\n",
      "Requirement already satisfied: idna<4,>=2.5 in c:\\users\\patna\\anaconda3\\envs\\stocksentiment\\lib\\site-packages (from requests<3.0,>=2.6.0->prawcore<3,>=2.4->praw) (3.10)\n",
      "Requirement already satisfied: urllib3<3,>=1.21.1 in c:\\users\\patna\\anaconda3\\envs\\stocksentiment\\lib\\site-packages (from requests<3.0,>=2.6.0->prawcore<3,>=2.4->praw) (2.5.0)\n",
      "Requirement already satisfied: certifi>=2017.4.17 in c:\\users\\patna\\anaconda3\\envs\\stocksentiment\\lib\\site-packages (from requests<3.0,>=2.6.0->prawcore<3,>=2.4->praw) (2025.7.9)\n"
     ]
    }
   ],
   "source": [
    "!pip install praw\n"
   ]
  },
  {
   "cell_type": "code",
   "execution_count": 48,
   "id": "7ba52d61-f282-4789-8344-f604ea55a281",
   "metadata": {},
   "outputs": [],
   "source": [
    "import praw\n",
    "\n",
    "reddit = praw.Reddit(\n",
    "    client_id='PF6ujfuuxSuDjKoLO_Kg3g',\n",
    "    client_secret='Eas4Cu_xifKv2ea2I3jIOllCd3_lyg',\n",
    "    user_agent='stock_sentiment_app'\n",
    ")\n"
   ]
  },
  {
   "cell_type": "code",
   "execution_count": 49,
   "id": "b8d4a5b1-6124-4999-8bd9-c0dbb5edd166",
   "metadata": {},
   "outputs": [
    {
     "data": {
      "text/html": [
       "<div>\n",
       "<style scoped>\n",
       "    .dataframe tbody tr th:only-of-type {\n",
       "        vertical-align: middle;\n",
       "    }\n",
       "\n",
       "    .dataframe tbody tr th {\n",
       "        vertical-align: top;\n",
       "    }\n",
       "\n",
       "    .dataframe thead th {\n",
       "        text-align: right;\n",
       "    }\n",
       "</style>\n",
       "<table border=\"1\" class=\"dataframe\">\n",
       "  <thead>\n",
       "    <tr style=\"text-align: right;\">\n",
       "      <th></th>\n",
       "      <th>Title</th>\n",
       "      <th>Body</th>\n",
       "      <th>Score</th>\n",
       "      <th>Date</th>\n",
       "      <th>Text</th>\n",
       "    </tr>\n",
       "  </thead>\n",
       "  <tbody>\n",
       "    <tr>\n",
       "      <th>0</th>\n",
       "      <td>Trump Just Dropped The 50% ‘Copper Tariff Bomb...</td>\n",
       "      <td>That's right ...Trump just announced that he w...</td>\n",
       "      <td>435</td>\n",
       "      <td>2025-07-10 18:43:28</td>\n",
       "      <td>Trump Just Dropped The 50% ‘Copper Tariff Bomb...</td>\n",
       "    </tr>\n",
       "    <tr>\n",
       "      <th>1</th>\n",
       "      <td>Replace one company from the mag 7 with anothe...</td>\n",
       "      <td>If I had to replace a mag 7 company, my vote w...</td>\n",
       "      <td>0</td>\n",
       "      <td>2025-07-10 12:11:59</td>\n",
       "      <td>Replace one company from the mag 7 with anothe...</td>\n",
       "    </tr>\n",
       "    <tr>\n",
       "      <th>2</th>\n",
       "      <td>Best short ideas</td>\n",
       "      <td>Currently markets are quite optimistic and ric...</td>\n",
       "      <td>6</td>\n",
       "      <td>2025-07-10 10:53:13</td>\n",
       "      <td>Best short ideas Currently markets are quite o...</td>\n",
       "    </tr>\n",
       "    <tr>\n",
       "      <th>3</th>\n",
       "      <td>“Ai” Bullshit</td>\n",
       "      <td>Is anyone else getting annoyed by the term “Ai...</td>\n",
       "      <td>88</td>\n",
       "      <td>2025-07-10 02:08:31</td>\n",
       "      <td>“Ai” Bullshit Is anyone else getting annoyed b...</td>\n",
       "    </tr>\n",
       "    <tr>\n",
       "      <th>4</th>\n",
       "      <td>A list of stocks(in drawdown) affected by the ...</td>\n",
       "      <td>1. $DELL - Dell Technologies Inc. \\n2. $HPQ - ...</td>\n",
       "      <td>20</td>\n",
       "      <td>2025-07-09 22:00:19</td>\n",
       "      <td>A list of stocks(in drawdown) affected by the ...</td>\n",
       "    </tr>\n",
       "  </tbody>\n",
       "</table>\n",
       "</div>"
      ],
      "text/plain": [
       "                                               Title  \\\n",
       "0  Trump Just Dropped The 50% ‘Copper Tariff Bomb...   \n",
       "1  Replace one company from the mag 7 with anothe...   \n",
       "2                                   Best short ideas   \n",
       "3                                      “Ai” Bullshit   \n",
       "4  A list of stocks(in drawdown) affected by the ...   \n",
       "\n",
       "                                                Body  Score  \\\n",
       "0  That's right ...Trump just announced that he w...    435   \n",
       "1  If I had to replace a mag 7 company, my vote w...      0   \n",
       "2  Currently markets are quite optimistic and ric...      6   \n",
       "3  Is anyone else getting annoyed by the term “Ai...     88   \n",
       "4  1. $DELL - Dell Technologies Inc. \\n2. $HPQ - ...     20   \n",
       "\n",
       "                 Date                                               Text  \n",
       "0 2025-07-10 18:43:28  Trump Just Dropped The 50% ‘Copper Tariff Bomb...  \n",
       "1 2025-07-10 12:11:59  Replace one company from the mag 7 with anothe...  \n",
       "2 2025-07-10 10:53:13  Best short ideas Currently markets are quite o...  \n",
       "3 2025-07-10 02:08:31  “Ai” Bullshit Is anyone else getting annoyed b...  \n",
       "4 2025-07-09 22:00:19  A list of stocks(in drawdown) affected by the ...  "
      ]
     },
     "execution_count": 49,
     "metadata": {},
     "output_type": "execute_result"
    }
   ],
   "source": [
    "import pandas as pd\n",
    "from datetime import datetime\n",
    "\n",
    "subreddit = reddit.subreddit(\"stocks\")\n",
    "query = \"Tesla\"\n",
    "posts = subreddit.search(query, sort='new', time_filter='week', limit=100)\n",
    "\n",
    "data = []\n",
    "for post in posts:\n",
    "    # Convert UNIX timestamp to readable datetime\n",
    "    created_date = datetime.fromtimestamp(post.created_utc)\n",
    "    data.append([post.title, post.selftext, post.score, created_date])\n",
    "\n",
    "df = pd.DataFrame(data, columns=[\"Title\", \"Body\", \"Score\", \"Date\"])\n",
    "\n",
    "# Combine title and body into one text column for sentiment analysis\n",
    "df[\"Text\"] = df[\"Title\"] + \" \" + df[\"Body\"]\n",
    "\n",
    "df.head()\n"
   ]
  },
  {
   "cell_type": "code",
   "execution_count": 50,
   "id": "34028da6-4426-4d28-be6d-bc6f6d604ff6",
   "metadata": {},
   "outputs": [
    {
     "data": {
      "text/html": [
       "<div>\n",
       "<style scoped>\n",
       "    .dataframe tbody tr th:only-of-type {\n",
       "        vertical-align: middle;\n",
       "    }\n",
       "\n",
       "    .dataframe tbody tr th {\n",
       "        vertical-align: top;\n",
       "    }\n",
       "\n",
       "    .dataframe thead th {\n",
       "        text-align: right;\n",
       "    }\n",
       "</style>\n",
       "<table border=\"1\" class=\"dataframe\">\n",
       "  <thead>\n",
       "    <tr style=\"text-align: right;\">\n",
       "      <th></th>\n",
       "      <th>Title</th>\n",
       "      <th>Body</th>\n",
       "      <th>Score</th>\n",
       "      <th>Date</th>\n",
       "      <th>Text</th>\n",
       "    </tr>\n",
       "  </thead>\n",
       "  <tbody>\n",
       "    <tr>\n",
       "      <th>0</th>\n",
       "      <td>Trump Just Dropped The 50% ‘Copper Tariff Bomb...</td>\n",
       "      <td>That's right ...Trump just announced that he w...</td>\n",
       "      <td>435</td>\n",
       "      <td>2025-07-10 18:43:28</td>\n",
       "      <td>Trump Just Dropped The 50% ‘Copper Tariff Bomb...</td>\n",
       "    </tr>\n",
       "    <tr>\n",
       "      <th>1</th>\n",
       "      <td>Replace one company from the mag 7 with anothe...</td>\n",
       "      <td>If I had to replace a mag 7 company, my vote w...</td>\n",
       "      <td>0</td>\n",
       "      <td>2025-07-10 12:11:59</td>\n",
       "      <td>Replace one company from the mag 7 with anothe...</td>\n",
       "    </tr>\n",
       "    <tr>\n",
       "      <th>2</th>\n",
       "      <td>Best short ideas</td>\n",
       "      <td>Currently markets are quite optimistic and ric...</td>\n",
       "      <td>6</td>\n",
       "      <td>2025-07-10 10:53:13</td>\n",
       "      <td>Best short ideas Currently markets are quite o...</td>\n",
       "    </tr>\n",
       "    <tr>\n",
       "      <th>3</th>\n",
       "      <td>“Ai” Bullshit</td>\n",
       "      <td>Is anyone else getting annoyed by the term “Ai...</td>\n",
       "      <td>88</td>\n",
       "      <td>2025-07-10 02:08:31</td>\n",
       "      <td>“Ai” Bullshit Is anyone else getting annoyed b...</td>\n",
       "    </tr>\n",
       "    <tr>\n",
       "      <th>4</th>\n",
       "      <td>A list of stocks(in drawdown) affected by the ...</td>\n",
       "      <td>1. $DELL - Dell Technologies Inc. \\n2. $HPQ - ...</td>\n",
       "      <td>20</td>\n",
       "      <td>2025-07-09 22:00:19</td>\n",
       "      <td>A list of stocks(in drawdown) affected by the ...</td>\n",
       "    </tr>\n",
       "    <tr>\n",
       "      <th>5</th>\n",
       "      <td>Elon Musk Called LiDAR “Lame” as Tesla Robotax...</td>\n",
       "      <td>To what extent are Elon Musk's decisions regar...</td>\n",
       "      <td>276</td>\n",
       "      <td>2025-07-09 18:36:35</td>\n",
       "      <td>Elon Musk Called LiDAR “Lame” as Tesla Robotax...</td>\n",
       "    </tr>\n",
       "    <tr>\n",
       "      <th>6</th>\n",
       "      <td>Tesla self driving urged to be banned - Tesla ...</td>\n",
       "      <td>I guess that reduces death liability.\\n\\nThe D...</td>\n",
       "      <td>288</td>\n",
       "      <td>2025-07-08 23:08:59</td>\n",
       "      <td>Tesla self driving urged to be banned - Tesla ...</td>\n",
       "    </tr>\n",
       "    <tr>\n",
       "      <th>7</th>\n",
       "      <td>Investing In Something You Believe In Rather T...</td>\n",
       "      <td>Prefix, my buddy has been right on a couple of...</td>\n",
       "      <td>0</td>\n",
       "      <td>2025-07-08 17:54:27</td>\n",
       "      <td>Investing In Something You Believe In Rather T...</td>\n",
       "    </tr>\n",
       "    <tr>\n",
       "      <th>8</th>\n",
       "      <td>This week is going to be interesting for Tesla...</td>\n",
       "      <td>https://www.politico.com/news/2025/07/06/musk-...</td>\n",
       "      <td>247</td>\n",
       "      <td>2025-07-07 05:41:00</td>\n",
       "      <td>This week is going to be interesting for Tesla...</td>\n",
       "    </tr>\n",
       "    <tr>\n",
       "      <th>9</th>\n",
       "      <td>Well, the real economy will end up tagging the...</td>\n",
       "      <td>Despite the recent resilience, the US stock ma...</td>\n",
       "      <td>66</td>\n",
       "      <td>2025-07-06 07:03:43</td>\n",
       "      <td>Well, the real economy will end up tagging the...</td>\n",
       "    </tr>\n",
       "    <tr>\n",
       "      <th>10</th>\n",
       "      <td>Who will win the upcoming robot-as-a-service war?</td>\n",
       "      <td>There are many players in this field already b...</td>\n",
       "      <td>56</td>\n",
       "      <td>2025-07-04 02:46:28</td>\n",
       "      <td>Who will win the upcoming robot-as-a-service w...</td>\n",
       "    </tr>\n",
       "    <tr>\n",
       "      <th>11</th>\n",
       "      <td>$LCID - who’s buying</td>\n",
       "      <td>Just grabbed 50 LCID 2.5C calls expiring 7/11 ...</td>\n",
       "      <td>51</td>\n",
       "      <td>2025-07-03 20:52:30</td>\n",
       "      <td>$LCID - who’s buying Just grabbed 50 LCID 2.5C...</td>\n",
       "    </tr>\n",
       "    <tr>\n",
       "      <th>12</th>\n",
       "      <td>Tesla is up? But why</td>\n",
       "      <td>It’s probably a silly question, but since Tesl...</td>\n",
       "      <td>0</td>\n",
       "      <td>2025-07-03 19:08:18</td>\n",
       "      <td>Tesla is up? But why It’s probably a silly que...</td>\n",
       "    </tr>\n",
       "  </tbody>\n",
       "</table>\n",
       "</div>"
      ],
      "text/plain": [
       "                                                Title  \\\n",
       "0   Trump Just Dropped The 50% ‘Copper Tariff Bomb...   \n",
       "1   Replace one company from the mag 7 with anothe...   \n",
       "2                                    Best short ideas   \n",
       "3                                       “Ai” Bullshit   \n",
       "4   A list of stocks(in drawdown) affected by the ...   \n",
       "5   Elon Musk Called LiDAR “Lame” as Tesla Robotax...   \n",
       "6   Tesla self driving urged to be banned - Tesla ...   \n",
       "7   Investing In Something You Believe In Rather T...   \n",
       "8   This week is going to be interesting for Tesla...   \n",
       "9   Well, the real economy will end up tagging the...   \n",
       "10  Who will win the upcoming robot-as-a-service war?   \n",
       "11                               $LCID - who’s buying   \n",
       "12                               Tesla is up? But why   \n",
       "\n",
       "                                                 Body  Score  \\\n",
       "0   That's right ...Trump just announced that he w...    435   \n",
       "1   If I had to replace a mag 7 company, my vote w...      0   \n",
       "2   Currently markets are quite optimistic and ric...      6   \n",
       "3   Is anyone else getting annoyed by the term “Ai...     88   \n",
       "4   1. $DELL - Dell Technologies Inc. \\n2. $HPQ - ...     20   \n",
       "5   To what extent are Elon Musk's decisions regar...    276   \n",
       "6   I guess that reduces death liability.\\n\\nThe D...    288   \n",
       "7   Prefix, my buddy has been right on a couple of...      0   \n",
       "8   https://www.politico.com/news/2025/07/06/musk-...    247   \n",
       "9   Despite the recent resilience, the US stock ma...     66   \n",
       "10  There are many players in this field already b...     56   \n",
       "11  Just grabbed 50 LCID 2.5C calls expiring 7/11 ...     51   \n",
       "12  It’s probably a silly question, but since Tesl...      0   \n",
       "\n",
       "                  Date                                               Text  \n",
       "0  2025-07-10 18:43:28  Trump Just Dropped The 50% ‘Copper Tariff Bomb...  \n",
       "1  2025-07-10 12:11:59  Replace one company from the mag 7 with anothe...  \n",
       "2  2025-07-10 10:53:13  Best short ideas Currently markets are quite o...  \n",
       "3  2025-07-10 02:08:31  “Ai” Bullshit Is anyone else getting annoyed b...  \n",
       "4  2025-07-09 22:00:19  A list of stocks(in drawdown) affected by the ...  \n",
       "5  2025-07-09 18:36:35  Elon Musk Called LiDAR “Lame” as Tesla Robotax...  \n",
       "6  2025-07-08 23:08:59  Tesla self driving urged to be banned - Tesla ...  \n",
       "7  2025-07-08 17:54:27  Investing In Something You Believe In Rather T...  \n",
       "8  2025-07-07 05:41:00  This week is going to be interesting for Tesla...  \n",
       "9  2025-07-06 07:03:43  Well, the real economy will end up tagging the...  \n",
       "10 2025-07-04 02:46:28  Who will win the upcoming robot-as-a-service w...  \n",
       "11 2025-07-03 20:52:30  $LCID - who’s buying Just grabbed 50 LCID 2.5C...  \n",
       "12 2025-07-03 19:08:18  Tesla is up? But why It’s probably a silly que...  "
      ]
     },
     "execution_count": 50,
     "metadata": {},
     "output_type": "execute_result"
    }
   ],
   "source": [
    "df"
   ]
  },
  {
   "cell_type": "markdown",
   "id": "17fe948d-bf8c-4b23-b02a-ffadcd6862e5",
   "metadata": {},
   "source": [
    "## Sentiment Analysis Prep"
   ]
  },
  {
   "cell_type": "code",
   "execution_count": 51,
   "id": "6c593ff7-b450-4d45-9a1e-27fea38f5da2",
   "metadata": {},
   "outputs": [
    {
     "name": "stderr",
     "output_type": "stream",
     "text": [
      "No model was supplied, defaulted to distilbert/distilbert-base-uncased-finetuned-sst-2-english and revision 714eb0f (https://huggingface.co/distilbert/distilbert-base-uncased-finetuned-sst-2-english).\n",
      "Using a pipeline without specifying a model name and revision in production is not recommended.\n",
      "Device set to use cpu\n",
      "  0%|                                                                                                                               | 0/13 [00:00<?, ?it/s]Token indices sequence length is longer than the specified maximum sequence length for this model (570 > 512). Running this sequence through the model will result in indexing errors\n",
      "  8%|█████████                                                                                                             | 1/13 [00:00<00:00, 146.60it/s]\n"
     ]
    },
    {
     "ename": "RuntimeError",
     "evalue": "The size of tensor a (570) must match the size of tensor b (512) at non-singleton dimension 1",
     "output_type": "error",
     "traceback": [
      "\u001b[1;31m---------------------------------------------------------------------------\u001b[0m",
      "\u001b[1;31mRuntimeError\u001b[0m                              Traceback (most recent call last)",
      "Cell \u001b[1;32mIn[51], line 9\u001b[0m\n\u001b[0;32m      7\u001b[0m \u001b[38;5;66;03m# Run sentiment analysis on all Reddit post texts\u001b[39;00m\n\u001b[0;32m      8\u001b[0m tqdm\u001b[38;5;241m.\u001b[39mpandas()  \u001b[38;5;66;03m# Enable progress bar with pandas\u001b[39;00m\n\u001b[1;32m----> 9\u001b[0m df[\u001b[38;5;124m\"\u001b[39m\u001b[38;5;124mSentiment\u001b[39m\u001b[38;5;124m\"\u001b[39m] \u001b[38;5;241m=\u001b[39m \u001b[43mdf\u001b[49m\u001b[43m[\u001b[49m\u001b[38;5;124;43m\"\u001b[39;49m\u001b[38;5;124;43mText\u001b[39;49m\u001b[38;5;124;43m\"\u001b[39;49m\u001b[43m]\u001b[49m\u001b[38;5;241;43m.\u001b[39;49m\u001b[43mprogress_apply\u001b[49m\u001b[43m(\u001b[49m\u001b[38;5;28;43;01mlambda\u001b[39;49;00m\u001b[43m \u001b[49m\u001b[43mx\u001b[49m\u001b[43m:\u001b[49m\u001b[43m \u001b[49m\u001b[43msentiment_task\u001b[49m\u001b[43m(\u001b[49m\u001b[43mx\u001b[49m\u001b[43m)\u001b[49m\u001b[43m[\u001b[49m\u001b[38;5;241;43m0\u001b[39;49m\u001b[43m]\u001b[49m\u001b[43m[\u001b[49m\u001b[38;5;124;43m\"\u001b[39;49m\u001b[38;5;124;43mlabel\u001b[39;49m\u001b[38;5;124;43m\"\u001b[39;49m\u001b[43m]\u001b[49m\u001b[43m)\u001b[49m\n",
      "File \u001b[1;32m~\\anaconda3\\envs\\stocksentiment\\lib\\site-packages\\tqdm\\std.py:917\u001b[0m, in \u001b[0;36mtqdm.pandas.<locals>.inner_generator.<locals>.inner\u001b[1;34m(df, func, *args, **kwargs)\u001b[0m\n\u001b[0;32m    914\u001b[0m \u001b[38;5;66;03m# Apply the provided function (in **kwargs)\u001b[39;00m\n\u001b[0;32m    915\u001b[0m \u001b[38;5;66;03m# on the df using our wrapper (which provides bar updating)\u001b[39;00m\n\u001b[0;32m    916\u001b[0m \u001b[38;5;28;01mtry\u001b[39;00m:\n\u001b[1;32m--> 917\u001b[0m     \u001b[38;5;28;01mreturn\u001b[39;00m \u001b[38;5;28mgetattr\u001b[39m(df, df_function)(wrapper, \u001b[38;5;241m*\u001b[39m\u001b[38;5;241m*\u001b[39mkwargs)\n\u001b[0;32m    918\u001b[0m \u001b[38;5;28;01mfinally\u001b[39;00m:\n\u001b[0;32m    919\u001b[0m     t\u001b[38;5;241m.\u001b[39mclose()\n",
      "File \u001b[1;32m~\\anaconda3\\envs\\stocksentiment\\lib\\site-packages\\pandas\\core\\series.py:4917\u001b[0m, in \u001b[0;36mSeries.apply\u001b[1;34m(self, func, convert_dtype, args, by_row, **kwargs)\u001b[0m\n\u001b[0;32m   4789\u001b[0m \u001b[38;5;28;01mdef\u001b[39;00m\u001b[38;5;250m \u001b[39m\u001b[38;5;21mapply\u001b[39m(\n\u001b[0;32m   4790\u001b[0m     \u001b[38;5;28mself\u001b[39m,\n\u001b[0;32m   4791\u001b[0m     func: AggFuncType,\n\u001b[1;32m   (...)\u001b[0m\n\u001b[0;32m   4796\u001b[0m     \u001b[38;5;241m*\u001b[39m\u001b[38;5;241m*\u001b[39mkwargs,\n\u001b[0;32m   4797\u001b[0m ) \u001b[38;5;241m-\u001b[39m\u001b[38;5;241m>\u001b[39m DataFrame \u001b[38;5;241m|\u001b[39m Series:\n\u001b[0;32m   4798\u001b[0m \u001b[38;5;250m    \u001b[39m\u001b[38;5;124;03m\"\"\"\u001b[39;00m\n\u001b[0;32m   4799\u001b[0m \u001b[38;5;124;03m    Invoke function on values of Series.\u001b[39;00m\n\u001b[0;32m   4800\u001b[0m \n\u001b[1;32m   (...)\u001b[0m\n\u001b[0;32m   4915\u001b[0m \u001b[38;5;124;03m    dtype: float64\u001b[39;00m\n\u001b[0;32m   4916\u001b[0m \u001b[38;5;124;03m    \"\"\"\u001b[39;00m\n\u001b[1;32m-> 4917\u001b[0m     \u001b[38;5;28;01mreturn\u001b[39;00m \u001b[43mSeriesApply\u001b[49m\u001b[43m(\u001b[49m\n\u001b[0;32m   4918\u001b[0m \u001b[43m        \u001b[49m\u001b[38;5;28;43mself\u001b[39;49m\u001b[43m,\u001b[49m\n\u001b[0;32m   4919\u001b[0m \u001b[43m        \u001b[49m\u001b[43mfunc\u001b[49m\u001b[43m,\u001b[49m\n\u001b[0;32m   4920\u001b[0m \u001b[43m        \u001b[49m\u001b[43mconvert_dtype\u001b[49m\u001b[38;5;241;43m=\u001b[39;49m\u001b[43mconvert_dtype\u001b[49m\u001b[43m,\u001b[49m\n\u001b[0;32m   4921\u001b[0m \u001b[43m        \u001b[49m\u001b[43mby_row\u001b[49m\u001b[38;5;241;43m=\u001b[39;49m\u001b[43mby_row\u001b[49m\u001b[43m,\u001b[49m\n\u001b[0;32m   4922\u001b[0m \u001b[43m        \u001b[49m\u001b[43margs\u001b[49m\u001b[38;5;241;43m=\u001b[39;49m\u001b[43margs\u001b[49m\u001b[43m,\u001b[49m\n\u001b[0;32m   4923\u001b[0m \u001b[43m        \u001b[49m\u001b[43mkwargs\u001b[49m\u001b[38;5;241;43m=\u001b[39;49m\u001b[43mkwargs\u001b[49m\u001b[43m,\u001b[49m\n\u001b[0;32m   4924\u001b[0m \u001b[43m    \u001b[49m\u001b[43m)\u001b[49m\u001b[38;5;241;43m.\u001b[39;49m\u001b[43mapply\u001b[49m\u001b[43m(\u001b[49m\u001b[43m)\u001b[49m\n",
      "File \u001b[1;32m~\\anaconda3\\envs\\stocksentiment\\lib\\site-packages\\pandas\\core\\apply.py:1427\u001b[0m, in \u001b[0;36mSeriesApply.apply\u001b[1;34m(self)\u001b[0m\n\u001b[0;32m   1424\u001b[0m     \u001b[38;5;28;01mreturn\u001b[39;00m \u001b[38;5;28mself\u001b[39m\u001b[38;5;241m.\u001b[39mapply_compat()\n\u001b[0;32m   1426\u001b[0m \u001b[38;5;66;03m# self.func is Callable\u001b[39;00m\n\u001b[1;32m-> 1427\u001b[0m \u001b[38;5;28;01mreturn\u001b[39;00m \u001b[38;5;28;43mself\u001b[39;49m\u001b[38;5;241;43m.\u001b[39;49m\u001b[43mapply_standard\u001b[49m\u001b[43m(\u001b[49m\u001b[43m)\u001b[49m\n",
      "File \u001b[1;32m~\\anaconda3\\envs\\stocksentiment\\lib\\site-packages\\pandas\\core\\apply.py:1507\u001b[0m, in \u001b[0;36mSeriesApply.apply_standard\u001b[1;34m(self)\u001b[0m\n\u001b[0;32m   1501\u001b[0m \u001b[38;5;66;03m# row-wise access\u001b[39;00m\n\u001b[0;32m   1502\u001b[0m \u001b[38;5;66;03m# apply doesn't have a `na_action` keyword and for backward compat reasons\u001b[39;00m\n\u001b[0;32m   1503\u001b[0m \u001b[38;5;66;03m# we need to give `na_action=\"ignore\"` for categorical data.\u001b[39;00m\n\u001b[0;32m   1504\u001b[0m \u001b[38;5;66;03m# TODO: remove the `na_action=\"ignore\"` when that default has been changed in\u001b[39;00m\n\u001b[0;32m   1505\u001b[0m \u001b[38;5;66;03m#  Categorical (GH51645).\u001b[39;00m\n\u001b[0;32m   1506\u001b[0m action \u001b[38;5;241m=\u001b[39m \u001b[38;5;124m\"\u001b[39m\u001b[38;5;124mignore\u001b[39m\u001b[38;5;124m\"\u001b[39m \u001b[38;5;28;01mif\u001b[39;00m \u001b[38;5;28misinstance\u001b[39m(obj\u001b[38;5;241m.\u001b[39mdtype, CategoricalDtype) \u001b[38;5;28;01melse\u001b[39;00m \u001b[38;5;28;01mNone\u001b[39;00m\n\u001b[1;32m-> 1507\u001b[0m mapped \u001b[38;5;241m=\u001b[39m \u001b[43mobj\u001b[49m\u001b[38;5;241;43m.\u001b[39;49m\u001b[43m_map_values\u001b[49m\u001b[43m(\u001b[49m\n\u001b[0;32m   1508\u001b[0m \u001b[43m    \u001b[49m\u001b[43mmapper\u001b[49m\u001b[38;5;241;43m=\u001b[39;49m\u001b[43mcurried\u001b[49m\u001b[43m,\u001b[49m\u001b[43m \u001b[49m\u001b[43mna_action\u001b[49m\u001b[38;5;241;43m=\u001b[39;49m\u001b[43maction\u001b[49m\u001b[43m,\u001b[49m\u001b[43m \u001b[49m\u001b[43mconvert\u001b[49m\u001b[38;5;241;43m=\u001b[39;49m\u001b[38;5;28;43mself\u001b[39;49m\u001b[38;5;241;43m.\u001b[39;49m\u001b[43mconvert_dtype\u001b[49m\n\u001b[0;32m   1509\u001b[0m \u001b[43m\u001b[49m\u001b[43m)\u001b[49m\n\u001b[0;32m   1511\u001b[0m \u001b[38;5;28;01mif\u001b[39;00m \u001b[38;5;28mlen\u001b[39m(mapped) \u001b[38;5;129;01mand\u001b[39;00m \u001b[38;5;28misinstance\u001b[39m(mapped[\u001b[38;5;241m0\u001b[39m], ABCSeries):\n\u001b[0;32m   1512\u001b[0m     \u001b[38;5;66;03m# GH#43986 Need to do list(mapped) in order to get treated as nested\u001b[39;00m\n\u001b[0;32m   1513\u001b[0m     \u001b[38;5;66;03m#  See also GH#25959 regarding EA support\u001b[39;00m\n\u001b[0;32m   1514\u001b[0m     \u001b[38;5;28;01mreturn\u001b[39;00m obj\u001b[38;5;241m.\u001b[39m_constructor_expanddim(\u001b[38;5;28mlist\u001b[39m(mapped), index\u001b[38;5;241m=\u001b[39mobj\u001b[38;5;241m.\u001b[39mindex)\n",
      "File \u001b[1;32m~\\anaconda3\\envs\\stocksentiment\\lib\\site-packages\\pandas\\core\\base.py:921\u001b[0m, in \u001b[0;36mIndexOpsMixin._map_values\u001b[1;34m(self, mapper, na_action, convert)\u001b[0m\n\u001b[0;32m    918\u001b[0m \u001b[38;5;28;01mif\u001b[39;00m \u001b[38;5;28misinstance\u001b[39m(arr, ExtensionArray):\n\u001b[0;32m    919\u001b[0m     \u001b[38;5;28;01mreturn\u001b[39;00m arr\u001b[38;5;241m.\u001b[39mmap(mapper, na_action\u001b[38;5;241m=\u001b[39mna_action)\n\u001b[1;32m--> 921\u001b[0m \u001b[38;5;28;01mreturn\u001b[39;00m \u001b[43malgorithms\u001b[49m\u001b[38;5;241;43m.\u001b[39;49m\u001b[43mmap_array\u001b[49m\u001b[43m(\u001b[49m\u001b[43marr\u001b[49m\u001b[43m,\u001b[49m\u001b[43m \u001b[49m\u001b[43mmapper\u001b[49m\u001b[43m,\u001b[49m\u001b[43m \u001b[49m\u001b[43mna_action\u001b[49m\u001b[38;5;241;43m=\u001b[39;49m\u001b[43mna_action\u001b[49m\u001b[43m,\u001b[49m\u001b[43m \u001b[49m\u001b[43mconvert\u001b[49m\u001b[38;5;241;43m=\u001b[39;49m\u001b[43mconvert\u001b[49m\u001b[43m)\u001b[49m\n",
      "File \u001b[1;32m~\\anaconda3\\envs\\stocksentiment\\lib\\site-packages\\pandas\\core\\algorithms.py:1743\u001b[0m, in \u001b[0;36mmap_array\u001b[1;34m(arr, mapper, na_action, convert)\u001b[0m\n\u001b[0;32m   1741\u001b[0m values \u001b[38;5;241m=\u001b[39m arr\u001b[38;5;241m.\u001b[39mastype(\u001b[38;5;28mobject\u001b[39m, copy\u001b[38;5;241m=\u001b[39m\u001b[38;5;28;01mFalse\u001b[39;00m)\n\u001b[0;32m   1742\u001b[0m \u001b[38;5;28;01mif\u001b[39;00m na_action \u001b[38;5;129;01mis\u001b[39;00m \u001b[38;5;28;01mNone\u001b[39;00m:\n\u001b[1;32m-> 1743\u001b[0m     \u001b[38;5;28;01mreturn\u001b[39;00m \u001b[43mlib\u001b[49m\u001b[38;5;241;43m.\u001b[39;49m\u001b[43mmap_infer\u001b[49m\u001b[43m(\u001b[49m\u001b[43mvalues\u001b[49m\u001b[43m,\u001b[49m\u001b[43m \u001b[49m\u001b[43mmapper\u001b[49m\u001b[43m,\u001b[49m\u001b[43m \u001b[49m\u001b[43mconvert\u001b[49m\u001b[38;5;241;43m=\u001b[39;49m\u001b[43mconvert\u001b[49m\u001b[43m)\u001b[49m\n\u001b[0;32m   1744\u001b[0m \u001b[38;5;28;01melse\u001b[39;00m:\n\u001b[0;32m   1745\u001b[0m     \u001b[38;5;28;01mreturn\u001b[39;00m lib\u001b[38;5;241m.\u001b[39mmap_infer_mask(\n\u001b[0;32m   1746\u001b[0m         values, mapper, mask\u001b[38;5;241m=\u001b[39misna(values)\u001b[38;5;241m.\u001b[39mview(np\u001b[38;5;241m.\u001b[39muint8), convert\u001b[38;5;241m=\u001b[39mconvert\n\u001b[0;32m   1747\u001b[0m     )\n",
      "File \u001b[1;32mlib.pyx:2972\u001b[0m, in \u001b[0;36mpandas._libs.lib.map_infer\u001b[1;34m()\u001b[0m\n",
      "File \u001b[1;32m~\\anaconda3\\envs\\stocksentiment\\lib\\site-packages\\tqdm\\std.py:912\u001b[0m, in \u001b[0;36mtqdm.pandas.<locals>.inner_generator.<locals>.inner.<locals>.wrapper\u001b[1;34m(*args, **kwargs)\u001b[0m\n\u001b[0;32m    906\u001b[0m \u001b[38;5;28;01mdef\u001b[39;00m\u001b[38;5;250m \u001b[39m\u001b[38;5;21mwrapper\u001b[39m(\u001b[38;5;241m*\u001b[39margs, \u001b[38;5;241m*\u001b[39m\u001b[38;5;241m*\u001b[39mkwargs):\n\u001b[0;32m    907\u001b[0m     \u001b[38;5;66;03m# update tbar correctly\u001b[39;00m\n\u001b[0;32m    908\u001b[0m     \u001b[38;5;66;03m# it seems `pandas apply` calls `func` twice\u001b[39;00m\n\u001b[0;32m    909\u001b[0m     \u001b[38;5;66;03m# on the first column/row to decide whether it can\u001b[39;00m\n\u001b[0;32m    910\u001b[0m     \u001b[38;5;66;03m# take a fast or slow code path; so stop when t.total==t.n\u001b[39;00m\n\u001b[0;32m    911\u001b[0m     t\u001b[38;5;241m.\u001b[39mupdate(n\u001b[38;5;241m=\u001b[39m\u001b[38;5;241m1\u001b[39m \u001b[38;5;28;01mif\u001b[39;00m \u001b[38;5;129;01mnot\u001b[39;00m t\u001b[38;5;241m.\u001b[39mtotal \u001b[38;5;129;01mor\u001b[39;00m t\u001b[38;5;241m.\u001b[39mn \u001b[38;5;241m<\u001b[39m t\u001b[38;5;241m.\u001b[39mtotal \u001b[38;5;28;01melse\u001b[39;00m \u001b[38;5;241m0\u001b[39m)\n\u001b[1;32m--> 912\u001b[0m     \u001b[38;5;28;01mreturn\u001b[39;00m func(\u001b[38;5;241m*\u001b[39margs, \u001b[38;5;241m*\u001b[39m\u001b[38;5;241m*\u001b[39mkwargs)\n",
      "Cell \u001b[1;32mIn[51], line 9\u001b[0m, in \u001b[0;36m<lambda>\u001b[1;34m(x)\u001b[0m\n\u001b[0;32m      7\u001b[0m \u001b[38;5;66;03m# Run sentiment analysis on all Reddit post texts\u001b[39;00m\n\u001b[0;32m      8\u001b[0m tqdm\u001b[38;5;241m.\u001b[39mpandas()  \u001b[38;5;66;03m# Enable progress bar with pandas\u001b[39;00m\n\u001b[1;32m----> 9\u001b[0m df[\u001b[38;5;124m\"\u001b[39m\u001b[38;5;124mSentiment\u001b[39m\u001b[38;5;124m\"\u001b[39m] \u001b[38;5;241m=\u001b[39m df[\u001b[38;5;124m\"\u001b[39m\u001b[38;5;124mText\u001b[39m\u001b[38;5;124m\"\u001b[39m]\u001b[38;5;241m.\u001b[39mprogress_apply(\u001b[38;5;28;01mlambda\u001b[39;00m x: \u001b[43msentiment_task\u001b[49m\u001b[43m(\u001b[49m\u001b[43mx\u001b[49m\u001b[43m)\u001b[49m[\u001b[38;5;241m0\u001b[39m][\u001b[38;5;124m\"\u001b[39m\u001b[38;5;124mlabel\u001b[39m\u001b[38;5;124m\"\u001b[39m])\n",
      "File \u001b[1;32m~\\anaconda3\\envs\\stocksentiment\\lib\\site-packages\\transformers\\pipelines\\text_classification.py:163\u001b[0m, in \u001b[0;36mTextClassificationPipeline.__call__\u001b[1;34m(self, inputs, **kwargs)\u001b[0m\n\u001b[0;32m    128\u001b[0m \u001b[38;5;250m\u001b[39m\u001b[38;5;124;03m\"\"\"\u001b[39;00m\n\u001b[0;32m    129\u001b[0m \u001b[38;5;124;03mClassify the text(s) given as inputs.\u001b[39;00m\n\u001b[0;32m    130\u001b[0m \n\u001b[1;32m   (...)\u001b[0m\n\u001b[0;32m    160\u001b[0m \u001b[38;5;124;03m    If `top_k` is used, one such dictionary is returned per label.\u001b[39;00m\n\u001b[0;32m    161\u001b[0m \u001b[38;5;124;03m\"\"\"\u001b[39;00m\n\u001b[0;32m    162\u001b[0m inputs \u001b[38;5;241m=\u001b[39m (inputs,)\n\u001b[1;32m--> 163\u001b[0m result \u001b[38;5;241m=\u001b[39m \u001b[38;5;28msuper\u001b[39m()\u001b[38;5;241m.\u001b[39m\u001b[38;5;21m__call__\u001b[39m(\u001b[38;5;241m*\u001b[39minputs, \u001b[38;5;241m*\u001b[39m\u001b[38;5;241m*\u001b[39mkwargs)\n\u001b[0;32m    164\u001b[0m \u001b[38;5;66;03m# TODO try and retrieve it in a nicer way from _sanitize_parameters.\u001b[39;00m\n\u001b[0;32m    165\u001b[0m _legacy \u001b[38;5;241m=\u001b[39m \u001b[38;5;124m\"\u001b[39m\u001b[38;5;124mtop_k\u001b[39m\u001b[38;5;124m\"\u001b[39m \u001b[38;5;129;01mnot\u001b[39;00m \u001b[38;5;129;01min\u001b[39;00m kwargs\n",
      "File \u001b[1;32m~\\anaconda3\\envs\\stocksentiment\\lib\\site-packages\\transformers\\pipelines\\base.py:1464\u001b[0m, in \u001b[0;36mPipeline.__call__\u001b[1;34m(self, inputs, num_workers, batch_size, *args, **kwargs)\u001b[0m\n\u001b[0;32m   1456\u001b[0m     \u001b[38;5;28;01mreturn\u001b[39;00m \u001b[38;5;28mnext\u001b[39m(\n\u001b[0;32m   1457\u001b[0m         \u001b[38;5;28miter\u001b[39m(\n\u001b[0;32m   1458\u001b[0m             \u001b[38;5;28mself\u001b[39m\u001b[38;5;241m.\u001b[39mget_iterator(\n\u001b[1;32m   (...)\u001b[0m\n\u001b[0;32m   1461\u001b[0m         )\n\u001b[0;32m   1462\u001b[0m     )\n\u001b[0;32m   1463\u001b[0m \u001b[38;5;28;01melse\u001b[39;00m:\n\u001b[1;32m-> 1464\u001b[0m     \u001b[38;5;28;01mreturn\u001b[39;00m \u001b[38;5;28;43mself\u001b[39;49m\u001b[38;5;241;43m.\u001b[39;49m\u001b[43mrun_single\u001b[49m\u001b[43m(\u001b[49m\u001b[43minputs\u001b[49m\u001b[43m,\u001b[49m\u001b[43m \u001b[49m\u001b[43mpreprocess_params\u001b[49m\u001b[43m,\u001b[49m\u001b[43m \u001b[49m\u001b[43mforward_params\u001b[49m\u001b[43m,\u001b[49m\u001b[43m \u001b[49m\u001b[43mpostprocess_params\u001b[49m\u001b[43m)\u001b[49m\n",
      "File \u001b[1;32m~\\anaconda3\\envs\\stocksentiment\\lib\\site-packages\\transformers\\pipelines\\base.py:1471\u001b[0m, in \u001b[0;36mPipeline.run_single\u001b[1;34m(self, inputs, preprocess_params, forward_params, postprocess_params)\u001b[0m\n\u001b[0;32m   1469\u001b[0m \u001b[38;5;28;01mdef\u001b[39;00m\u001b[38;5;250m \u001b[39m\u001b[38;5;21mrun_single\u001b[39m(\u001b[38;5;28mself\u001b[39m, inputs, preprocess_params, forward_params, postprocess_params):\n\u001b[0;32m   1470\u001b[0m     model_inputs \u001b[38;5;241m=\u001b[39m \u001b[38;5;28mself\u001b[39m\u001b[38;5;241m.\u001b[39mpreprocess(inputs, \u001b[38;5;241m*\u001b[39m\u001b[38;5;241m*\u001b[39mpreprocess_params)\n\u001b[1;32m-> 1471\u001b[0m     model_outputs \u001b[38;5;241m=\u001b[39m \u001b[38;5;28mself\u001b[39m\u001b[38;5;241m.\u001b[39mforward(model_inputs, \u001b[38;5;241m*\u001b[39m\u001b[38;5;241m*\u001b[39mforward_params)\n\u001b[0;32m   1472\u001b[0m     outputs \u001b[38;5;241m=\u001b[39m \u001b[38;5;28mself\u001b[39m\u001b[38;5;241m.\u001b[39mpostprocess(model_outputs, \u001b[38;5;241m*\u001b[39m\u001b[38;5;241m*\u001b[39mpostprocess_params)\n\u001b[0;32m   1473\u001b[0m     \u001b[38;5;28;01mreturn\u001b[39;00m outputs\n",
      "File \u001b[1;32m~\\anaconda3\\envs\\stocksentiment\\lib\\site-packages\\transformers\\pipelines\\base.py:1371\u001b[0m, in \u001b[0;36mPipeline.forward\u001b[1;34m(self, model_inputs, **forward_params)\u001b[0m\n\u001b[0;32m   1369\u001b[0m     \u001b[38;5;28;01mwith\u001b[39;00m inference_context():\n\u001b[0;32m   1370\u001b[0m         model_inputs \u001b[38;5;241m=\u001b[39m \u001b[38;5;28mself\u001b[39m\u001b[38;5;241m.\u001b[39m_ensure_tensor_on_device(model_inputs, device\u001b[38;5;241m=\u001b[39m\u001b[38;5;28mself\u001b[39m\u001b[38;5;241m.\u001b[39mdevice)\n\u001b[1;32m-> 1371\u001b[0m         model_outputs \u001b[38;5;241m=\u001b[39m \u001b[38;5;28mself\u001b[39m\u001b[38;5;241m.\u001b[39m_forward(model_inputs, \u001b[38;5;241m*\u001b[39m\u001b[38;5;241m*\u001b[39mforward_params)\n\u001b[0;32m   1372\u001b[0m         model_outputs \u001b[38;5;241m=\u001b[39m \u001b[38;5;28mself\u001b[39m\u001b[38;5;241m.\u001b[39m_ensure_tensor_on_device(model_outputs, device\u001b[38;5;241m=\u001b[39mtorch\u001b[38;5;241m.\u001b[39mdevice(\u001b[38;5;124m\"\u001b[39m\u001b[38;5;124mcpu\u001b[39m\u001b[38;5;124m\"\u001b[39m))\n\u001b[0;32m   1373\u001b[0m \u001b[38;5;28;01melse\u001b[39;00m:\n",
      "File \u001b[1;32m~\\anaconda3\\envs\\stocksentiment\\lib\\site-packages\\transformers\\pipelines\\text_classification.py:194\u001b[0m, in \u001b[0;36mTextClassificationPipeline._forward\u001b[1;34m(self, model_inputs)\u001b[0m\n\u001b[0;32m    192\u001b[0m \u001b[38;5;28;01mif\u001b[39;00m \u001b[38;5;124m\"\u001b[39m\u001b[38;5;124muse_cache\u001b[39m\u001b[38;5;124m\"\u001b[39m \u001b[38;5;129;01min\u001b[39;00m inspect\u001b[38;5;241m.\u001b[39msignature(model_forward)\u001b[38;5;241m.\u001b[39mparameters\u001b[38;5;241m.\u001b[39mkeys():\n\u001b[0;32m    193\u001b[0m     model_inputs[\u001b[38;5;124m\"\u001b[39m\u001b[38;5;124muse_cache\u001b[39m\u001b[38;5;124m\"\u001b[39m] \u001b[38;5;241m=\u001b[39m \u001b[38;5;28;01mFalse\u001b[39;00m\n\u001b[1;32m--> 194\u001b[0m \u001b[38;5;28;01mreturn\u001b[39;00m \u001b[38;5;28mself\u001b[39m\u001b[38;5;241m.\u001b[39mmodel(\u001b[38;5;241m*\u001b[39m\u001b[38;5;241m*\u001b[39mmodel_inputs)\n",
      "File \u001b[1;32m~\\anaconda3\\envs\\stocksentiment\\lib\\site-packages\\torch\\nn\\modules\\module.py:1751\u001b[0m, in \u001b[0;36mModule._wrapped_call_impl\u001b[1;34m(self, *args, **kwargs)\u001b[0m\n\u001b[0;32m   1749\u001b[0m     \u001b[38;5;28;01mreturn\u001b[39;00m \u001b[38;5;28mself\u001b[39m\u001b[38;5;241m.\u001b[39m_compiled_call_impl(\u001b[38;5;241m*\u001b[39margs, \u001b[38;5;241m*\u001b[39m\u001b[38;5;241m*\u001b[39mkwargs)  \u001b[38;5;66;03m# type: ignore[misc]\u001b[39;00m\n\u001b[0;32m   1750\u001b[0m \u001b[38;5;28;01melse\u001b[39;00m:\n\u001b[1;32m-> 1751\u001b[0m     \u001b[38;5;28;01mreturn\u001b[39;00m \u001b[38;5;28mself\u001b[39m\u001b[38;5;241m.\u001b[39m_call_impl(\u001b[38;5;241m*\u001b[39margs, \u001b[38;5;241m*\u001b[39m\u001b[38;5;241m*\u001b[39mkwargs)\n",
      "File \u001b[1;32m~\\anaconda3\\envs\\stocksentiment\\lib\\site-packages\\torch\\nn\\modules\\module.py:1762\u001b[0m, in \u001b[0;36mModule._call_impl\u001b[1;34m(self, *args, **kwargs)\u001b[0m\n\u001b[0;32m   1757\u001b[0m \u001b[38;5;66;03m# If we don't have any hooks, we want to skip the rest of the logic in\u001b[39;00m\n\u001b[0;32m   1758\u001b[0m \u001b[38;5;66;03m# this function, and just call forward.\u001b[39;00m\n\u001b[0;32m   1759\u001b[0m \u001b[38;5;28;01mif\u001b[39;00m \u001b[38;5;129;01mnot\u001b[39;00m (\u001b[38;5;28mself\u001b[39m\u001b[38;5;241m.\u001b[39m_backward_hooks \u001b[38;5;129;01mor\u001b[39;00m \u001b[38;5;28mself\u001b[39m\u001b[38;5;241m.\u001b[39m_backward_pre_hooks \u001b[38;5;129;01mor\u001b[39;00m \u001b[38;5;28mself\u001b[39m\u001b[38;5;241m.\u001b[39m_forward_hooks \u001b[38;5;129;01mor\u001b[39;00m \u001b[38;5;28mself\u001b[39m\u001b[38;5;241m.\u001b[39m_forward_pre_hooks\n\u001b[0;32m   1760\u001b[0m         \u001b[38;5;129;01mor\u001b[39;00m _global_backward_pre_hooks \u001b[38;5;129;01mor\u001b[39;00m _global_backward_hooks\n\u001b[0;32m   1761\u001b[0m         \u001b[38;5;129;01mor\u001b[39;00m _global_forward_hooks \u001b[38;5;129;01mor\u001b[39;00m _global_forward_pre_hooks):\n\u001b[1;32m-> 1762\u001b[0m     \u001b[38;5;28;01mreturn\u001b[39;00m forward_call(\u001b[38;5;241m*\u001b[39margs, \u001b[38;5;241m*\u001b[39m\u001b[38;5;241m*\u001b[39mkwargs)\n\u001b[0;32m   1764\u001b[0m result \u001b[38;5;241m=\u001b[39m \u001b[38;5;28;01mNone\u001b[39;00m\n\u001b[0;32m   1765\u001b[0m called_always_called_hooks \u001b[38;5;241m=\u001b[39m \u001b[38;5;28mset\u001b[39m()\n",
      "File \u001b[1;32m~\\anaconda3\\envs\\stocksentiment\\lib\\site-packages\\transformers\\models\\distilbert\\modeling_distilbert.py:917\u001b[0m, in \u001b[0;36mDistilBertForSequenceClassification.forward\u001b[1;34m(self, input_ids, attention_mask, head_mask, inputs_embeds, labels, output_attentions, output_hidden_states, return_dict)\u001b[0m\n\u001b[0;32m    909\u001b[0m \u001b[38;5;250m\u001b[39m\u001b[38;5;124mr\u001b[39m\u001b[38;5;124;03m\"\"\"\u001b[39;00m\n\u001b[0;32m    910\u001b[0m \u001b[38;5;124;03mlabels (`torch.LongTensor` of shape `(batch_size,)`, *optional*):\u001b[39;00m\n\u001b[0;32m    911\u001b[0m \u001b[38;5;124;03m    Labels for computing the sequence classification/regression loss. Indices should be in `[0, ...,\u001b[39;00m\n\u001b[0;32m    912\u001b[0m \u001b[38;5;124;03m    config.num_labels - 1]`. If `config.num_labels == 1` a regression loss is computed (Mean-Square loss), If\u001b[39;00m\n\u001b[0;32m    913\u001b[0m \u001b[38;5;124;03m    `config.num_labels > 1` a classification loss is computed (Cross-Entropy).\u001b[39;00m\n\u001b[0;32m    914\u001b[0m \u001b[38;5;124;03m\"\"\"\u001b[39;00m\n\u001b[0;32m    915\u001b[0m return_dict \u001b[38;5;241m=\u001b[39m return_dict \u001b[38;5;28;01mif\u001b[39;00m return_dict \u001b[38;5;129;01mis\u001b[39;00m \u001b[38;5;129;01mnot\u001b[39;00m \u001b[38;5;28;01mNone\u001b[39;00m \u001b[38;5;28;01melse\u001b[39;00m \u001b[38;5;28mself\u001b[39m\u001b[38;5;241m.\u001b[39mconfig\u001b[38;5;241m.\u001b[39muse_return_dict\n\u001b[1;32m--> 917\u001b[0m distilbert_output \u001b[38;5;241m=\u001b[39m \u001b[38;5;28;43mself\u001b[39;49m\u001b[38;5;241;43m.\u001b[39;49m\u001b[43mdistilbert\u001b[49m\u001b[43m(\u001b[49m\n\u001b[0;32m    918\u001b[0m \u001b[43m    \u001b[49m\u001b[43minput_ids\u001b[49m\u001b[38;5;241;43m=\u001b[39;49m\u001b[43minput_ids\u001b[49m\u001b[43m,\u001b[49m\n\u001b[0;32m    919\u001b[0m \u001b[43m    \u001b[49m\u001b[43mattention_mask\u001b[49m\u001b[38;5;241;43m=\u001b[39;49m\u001b[43mattention_mask\u001b[49m\u001b[43m,\u001b[49m\n\u001b[0;32m    920\u001b[0m \u001b[43m    \u001b[49m\u001b[43mhead_mask\u001b[49m\u001b[38;5;241;43m=\u001b[39;49m\u001b[43mhead_mask\u001b[49m\u001b[43m,\u001b[49m\n\u001b[0;32m    921\u001b[0m \u001b[43m    \u001b[49m\u001b[43minputs_embeds\u001b[49m\u001b[38;5;241;43m=\u001b[39;49m\u001b[43minputs_embeds\u001b[49m\u001b[43m,\u001b[49m\n\u001b[0;32m    922\u001b[0m \u001b[43m    \u001b[49m\u001b[43moutput_attentions\u001b[49m\u001b[38;5;241;43m=\u001b[39;49m\u001b[43moutput_attentions\u001b[49m\u001b[43m,\u001b[49m\n\u001b[0;32m    923\u001b[0m \u001b[43m    \u001b[49m\u001b[43moutput_hidden_states\u001b[49m\u001b[38;5;241;43m=\u001b[39;49m\u001b[43moutput_hidden_states\u001b[49m\u001b[43m,\u001b[49m\n\u001b[0;32m    924\u001b[0m \u001b[43m    \u001b[49m\u001b[43mreturn_dict\u001b[49m\u001b[38;5;241;43m=\u001b[39;49m\u001b[43mreturn_dict\u001b[49m\u001b[43m,\u001b[49m\n\u001b[0;32m    925\u001b[0m \u001b[43m\u001b[49m\u001b[43m)\u001b[49m\n\u001b[0;32m    926\u001b[0m hidden_state \u001b[38;5;241m=\u001b[39m distilbert_output[\u001b[38;5;241m0\u001b[39m]  \u001b[38;5;66;03m# (bs, seq_len, dim)\u001b[39;00m\n\u001b[0;32m    927\u001b[0m pooled_output \u001b[38;5;241m=\u001b[39m hidden_state[:, \u001b[38;5;241m0\u001b[39m]  \u001b[38;5;66;03m# (bs, dim)\u001b[39;00m\n",
      "File \u001b[1;32m~\\anaconda3\\envs\\stocksentiment\\lib\\site-packages\\torch\\nn\\modules\\module.py:1751\u001b[0m, in \u001b[0;36mModule._wrapped_call_impl\u001b[1;34m(self, *args, **kwargs)\u001b[0m\n\u001b[0;32m   1749\u001b[0m     \u001b[38;5;28;01mreturn\u001b[39;00m \u001b[38;5;28mself\u001b[39m\u001b[38;5;241m.\u001b[39m_compiled_call_impl(\u001b[38;5;241m*\u001b[39margs, \u001b[38;5;241m*\u001b[39m\u001b[38;5;241m*\u001b[39mkwargs)  \u001b[38;5;66;03m# type: ignore[misc]\u001b[39;00m\n\u001b[0;32m   1750\u001b[0m \u001b[38;5;28;01melse\u001b[39;00m:\n\u001b[1;32m-> 1751\u001b[0m     \u001b[38;5;28;01mreturn\u001b[39;00m \u001b[38;5;28mself\u001b[39m\u001b[38;5;241m.\u001b[39m_call_impl(\u001b[38;5;241m*\u001b[39margs, \u001b[38;5;241m*\u001b[39m\u001b[38;5;241m*\u001b[39mkwargs)\n",
      "File \u001b[1;32m~\\anaconda3\\envs\\stocksentiment\\lib\\site-packages\\torch\\nn\\modules\\module.py:1762\u001b[0m, in \u001b[0;36mModule._call_impl\u001b[1;34m(self, *args, **kwargs)\u001b[0m\n\u001b[0;32m   1757\u001b[0m \u001b[38;5;66;03m# If we don't have any hooks, we want to skip the rest of the logic in\u001b[39;00m\n\u001b[0;32m   1758\u001b[0m \u001b[38;5;66;03m# this function, and just call forward.\u001b[39;00m\n\u001b[0;32m   1759\u001b[0m \u001b[38;5;28;01mif\u001b[39;00m \u001b[38;5;129;01mnot\u001b[39;00m (\u001b[38;5;28mself\u001b[39m\u001b[38;5;241m.\u001b[39m_backward_hooks \u001b[38;5;129;01mor\u001b[39;00m \u001b[38;5;28mself\u001b[39m\u001b[38;5;241m.\u001b[39m_backward_pre_hooks \u001b[38;5;129;01mor\u001b[39;00m \u001b[38;5;28mself\u001b[39m\u001b[38;5;241m.\u001b[39m_forward_hooks \u001b[38;5;129;01mor\u001b[39;00m \u001b[38;5;28mself\u001b[39m\u001b[38;5;241m.\u001b[39m_forward_pre_hooks\n\u001b[0;32m   1760\u001b[0m         \u001b[38;5;129;01mor\u001b[39;00m _global_backward_pre_hooks \u001b[38;5;129;01mor\u001b[39;00m _global_backward_hooks\n\u001b[0;32m   1761\u001b[0m         \u001b[38;5;129;01mor\u001b[39;00m _global_forward_hooks \u001b[38;5;129;01mor\u001b[39;00m _global_forward_pre_hooks):\n\u001b[1;32m-> 1762\u001b[0m     \u001b[38;5;28;01mreturn\u001b[39;00m forward_call(\u001b[38;5;241m*\u001b[39margs, \u001b[38;5;241m*\u001b[39m\u001b[38;5;241m*\u001b[39mkwargs)\n\u001b[0;32m   1764\u001b[0m result \u001b[38;5;241m=\u001b[39m \u001b[38;5;28;01mNone\u001b[39;00m\n\u001b[0;32m   1765\u001b[0m called_always_called_hooks \u001b[38;5;241m=\u001b[39m \u001b[38;5;28mset\u001b[39m()\n",
      "File \u001b[1;32m~\\anaconda3\\envs\\stocksentiment\\lib\\site-packages\\transformers\\models\\distilbert\\modeling_distilbert.py:723\u001b[0m, in \u001b[0;36mDistilBertModel.forward\u001b[1;34m(self, input_ids, attention_mask, head_mask, inputs_embeds, output_attentions, output_hidden_states, return_dict)\u001b[0m\n\u001b[0;32m    720\u001b[0m \u001b[38;5;66;03m# Prepare head mask if needed\u001b[39;00m\n\u001b[0;32m    721\u001b[0m head_mask \u001b[38;5;241m=\u001b[39m \u001b[38;5;28mself\u001b[39m\u001b[38;5;241m.\u001b[39mget_head_mask(head_mask, \u001b[38;5;28mself\u001b[39m\u001b[38;5;241m.\u001b[39mconfig\u001b[38;5;241m.\u001b[39mnum_hidden_layers)\n\u001b[1;32m--> 723\u001b[0m embeddings \u001b[38;5;241m=\u001b[39m \u001b[38;5;28;43mself\u001b[39;49m\u001b[38;5;241;43m.\u001b[39;49m\u001b[43membeddings\u001b[49m\u001b[43m(\u001b[49m\u001b[43minput_ids\u001b[49m\u001b[43m,\u001b[49m\u001b[43m \u001b[49m\u001b[43minputs_embeds\u001b[49m\u001b[43m)\u001b[49m  \u001b[38;5;66;03m# (bs, seq_length, dim)\u001b[39;00m\n\u001b[0;32m    725\u001b[0m \u001b[38;5;28;01mif\u001b[39;00m \u001b[38;5;28mself\u001b[39m\u001b[38;5;241m.\u001b[39m_use_flash_attention_2:\n\u001b[0;32m    726\u001b[0m     attention_mask \u001b[38;5;241m=\u001b[39m attention_mask \u001b[38;5;28;01mif\u001b[39;00m (attention_mask \u001b[38;5;129;01mis\u001b[39;00m \u001b[38;5;129;01mnot\u001b[39;00m \u001b[38;5;28;01mNone\u001b[39;00m \u001b[38;5;129;01mand\u001b[39;00m \u001b[38;5;241m0\u001b[39m \u001b[38;5;129;01min\u001b[39;00m attention_mask) \u001b[38;5;28;01melse\u001b[39;00m \u001b[38;5;28;01mNone\u001b[39;00m\n",
      "File \u001b[1;32m~\\anaconda3\\envs\\stocksentiment\\lib\\site-packages\\torch\\nn\\modules\\module.py:1751\u001b[0m, in \u001b[0;36mModule._wrapped_call_impl\u001b[1;34m(self, *args, **kwargs)\u001b[0m\n\u001b[0;32m   1749\u001b[0m     \u001b[38;5;28;01mreturn\u001b[39;00m \u001b[38;5;28mself\u001b[39m\u001b[38;5;241m.\u001b[39m_compiled_call_impl(\u001b[38;5;241m*\u001b[39margs, \u001b[38;5;241m*\u001b[39m\u001b[38;5;241m*\u001b[39mkwargs)  \u001b[38;5;66;03m# type: ignore[misc]\u001b[39;00m\n\u001b[0;32m   1750\u001b[0m \u001b[38;5;28;01melse\u001b[39;00m:\n\u001b[1;32m-> 1751\u001b[0m     \u001b[38;5;28;01mreturn\u001b[39;00m \u001b[38;5;28mself\u001b[39m\u001b[38;5;241m.\u001b[39m_call_impl(\u001b[38;5;241m*\u001b[39margs, \u001b[38;5;241m*\u001b[39m\u001b[38;5;241m*\u001b[39mkwargs)\n",
      "File \u001b[1;32m~\\anaconda3\\envs\\stocksentiment\\lib\\site-packages\\torch\\nn\\modules\\module.py:1762\u001b[0m, in \u001b[0;36mModule._call_impl\u001b[1;34m(self, *args, **kwargs)\u001b[0m\n\u001b[0;32m   1757\u001b[0m \u001b[38;5;66;03m# If we don't have any hooks, we want to skip the rest of the logic in\u001b[39;00m\n\u001b[0;32m   1758\u001b[0m \u001b[38;5;66;03m# this function, and just call forward.\u001b[39;00m\n\u001b[0;32m   1759\u001b[0m \u001b[38;5;28;01mif\u001b[39;00m \u001b[38;5;129;01mnot\u001b[39;00m (\u001b[38;5;28mself\u001b[39m\u001b[38;5;241m.\u001b[39m_backward_hooks \u001b[38;5;129;01mor\u001b[39;00m \u001b[38;5;28mself\u001b[39m\u001b[38;5;241m.\u001b[39m_backward_pre_hooks \u001b[38;5;129;01mor\u001b[39;00m \u001b[38;5;28mself\u001b[39m\u001b[38;5;241m.\u001b[39m_forward_hooks \u001b[38;5;129;01mor\u001b[39;00m \u001b[38;5;28mself\u001b[39m\u001b[38;5;241m.\u001b[39m_forward_pre_hooks\n\u001b[0;32m   1760\u001b[0m         \u001b[38;5;129;01mor\u001b[39;00m _global_backward_pre_hooks \u001b[38;5;129;01mor\u001b[39;00m _global_backward_hooks\n\u001b[0;32m   1761\u001b[0m         \u001b[38;5;129;01mor\u001b[39;00m _global_forward_hooks \u001b[38;5;129;01mor\u001b[39;00m _global_forward_pre_hooks):\n\u001b[1;32m-> 1762\u001b[0m     \u001b[38;5;28;01mreturn\u001b[39;00m forward_call(\u001b[38;5;241m*\u001b[39margs, \u001b[38;5;241m*\u001b[39m\u001b[38;5;241m*\u001b[39mkwargs)\n\u001b[0;32m   1764\u001b[0m result \u001b[38;5;241m=\u001b[39m \u001b[38;5;28;01mNone\u001b[39;00m\n\u001b[0;32m   1765\u001b[0m called_always_called_hooks \u001b[38;5;241m=\u001b[39m \u001b[38;5;28mset\u001b[39m()\n",
      "File \u001b[1;32m~\\anaconda3\\envs\\stocksentiment\\lib\\site-packages\\transformers\\models\\distilbert\\modeling_distilbert.py:126\u001b[0m, in \u001b[0;36mEmbeddings.forward\u001b[1;34m(self, input_ids, input_embeds)\u001b[0m\n\u001b[0;32m    122\u001b[0m     position_ids \u001b[38;5;241m=\u001b[39m position_ids\u001b[38;5;241m.\u001b[39munsqueeze(\u001b[38;5;241m0\u001b[39m)\u001b[38;5;241m.\u001b[39mexpand_as(input_ids)  \u001b[38;5;66;03m# (bs, max_seq_length)\u001b[39;00m\n\u001b[0;32m    124\u001b[0m position_embeddings \u001b[38;5;241m=\u001b[39m \u001b[38;5;28mself\u001b[39m\u001b[38;5;241m.\u001b[39mposition_embeddings(position_ids)  \u001b[38;5;66;03m# (bs, max_seq_length, dim)\u001b[39;00m\n\u001b[1;32m--> 126\u001b[0m embeddings \u001b[38;5;241m=\u001b[39m \u001b[43minput_embeds\u001b[49m\u001b[43m \u001b[49m\u001b[38;5;241;43m+\u001b[39;49m\u001b[43m \u001b[49m\u001b[43mposition_embeddings\u001b[49m  \u001b[38;5;66;03m# (bs, max_seq_length, dim)\u001b[39;00m\n\u001b[0;32m    127\u001b[0m embeddings \u001b[38;5;241m=\u001b[39m \u001b[38;5;28mself\u001b[39m\u001b[38;5;241m.\u001b[39mLayerNorm(embeddings)  \u001b[38;5;66;03m# (bs, max_seq_length, dim)\u001b[39;00m\n\u001b[0;32m    128\u001b[0m embeddings \u001b[38;5;241m=\u001b[39m \u001b[38;5;28mself\u001b[39m\u001b[38;5;241m.\u001b[39mdropout(embeddings)  \u001b[38;5;66;03m# (bs, max_seq_length, dim)\u001b[39;00m\n",
      "\u001b[1;31mRuntimeError\u001b[0m: The size of tensor a (570) must match the size of tensor b (512) at non-singleton dimension 1"
     ]
    }
   ],
   "source": [
    "from transformers import pipeline\n",
    "from tqdm import tqdm  # For progress bar\n",
    "\n",
    "# Load the sentiment analysis model\n",
    "sentiment_task = pipeline(\"sentiment-analysis\")\n",
    "\n",
    "# Run sentiment analysis on all Reddit post texts\n",
    "tqdm.pandas()  # Enable progress bar with pandas\n",
    "df[\"Sentiment\"] = df[\"Text\"].progress_apply(lambda x: sentiment_task(x)[0][\"label\"])\n"
   ]
  },
  {
   "cell_type": "code",
   "execution_count": null,
   "id": "e1af3bb0-7293-4b7f-abd4-02d9184b2c3f",
   "metadata": {},
   "outputs": [],
   "source": [
    "!pip install transformers\n"
   ]
  },
  {
   "cell_type": "code",
   "execution_count": null,
   "id": "44c19cd2-937c-42ff-bbc7-a22ca4290539",
   "metadata": {},
   "outputs": [],
   "source": [
    "!pip install transformers\n"
   ]
  },
  {
   "cell_type": "code",
   "execution_count": null,
   "id": "f4b60a21-d4b4-413d-b329-a6bf8293be53",
   "metadata": {},
   "outputs": [],
   "source": [
    "!pip install tqdm\n"
   ]
  },
  {
   "cell_type": "code",
   "execution_count": null,
   "id": "87bf2ec3-dd80-4c0a-a5f6-2325b7a41c4f",
   "metadata": {},
   "outputs": [],
   "source": [
    "from transformers import pipeline\n",
    "from tqdm import tqdm\n",
    "\n",
    "sentiment_task = pipeline(\"sentiment-analysis\")\n",
    "tqdm.pandas()\n",
    "df[\"Sentiment\"] = df[\"Text\"].progress_apply(lambda x: sentiment_task(x)[0][\"label\"])\n"
   ]
  },
  {
   "cell_type": "code",
   "execution_count": null,
   "id": "4bc5a72d-c327-4ebc-bce5-86cd5c0039ff",
   "metadata": {},
   "outputs": [],
   "source": [
    "# For CPU-only\n",
    "!pip install torch"
   ]
  },
  {
   "cell_type": "code",
   "execution_count": null,
   "id": "62fe2ce5-cfb2-4825-a4f2-c264f7abbd65",
   "metadata": {},
   "outputs": [],
   "source": [
    "from transformers import pipeline\n",
    "from tqdm import tqdm\n",
    "\n",
    "sentiment_task = pipeline(\"sentiment-analysis\")\n",
    "tqdm.pandas()\n",
    "\n",
    "df[\"Sentiment\"] = df[\"Text\"].progress_apply(lambda x: sentiment_task(x)[0][\"label\"])\n"
   ]
  },
  {
   "cell_type": "code",
   "execution_count": null,
   "id": "a9384956-efee-499e-8151-a14ccf023b25",
   "metadata": {},
   "outputs": [],
   "source": [
    "import torch\n",
    "from transformers import pipeline\n",
    "\n",
    "model_name = \"cardiffnlp/twitter-roberta-base-sentiment-latest\"\n",
    "sentiment_task = pipeline(\"sentiment-analysis\", model=model_name)\n",
    "\n",
    "result = sentiment_task(\"Tesla stock is going to the moon!\")\n",
    "print(result)\n"
   ]
  },
  {
   "cell_type": "code",
   "execution_count": null,
   "id": "04f783a0-7b78-4693-8259-baa4bd291105",
   "metadata": {},
   "outputs": [],
   "source": [
    "pip cache purge\n"
   ]
  },
  {
   "cell_type": "code",
   "execution_count": null,
   "id": "1fc2fd24-51dc-49fd-9f81-b1e06afbd39e",
   "metadata": {},
   "outputs": [],
   "source": [
    "import torch\n",
    "from transformers import pipeline\n",
    "\n",
    "model_name = \"cardiffnlp/twitter-roberta-base-sentiment-latest\"\n",
    "sentiment_task = pipeline(\"sentiment-analysis\", model=model_name)\n",
    "\n",
    "result = sentiment_task(\"Tesla stock is going to the moon!\")\n",
    "print(result)"
   ]
  },
  {
   "cell_type": "code",
   "execution_count": 28,
   "id": "e7aa7120-9ab8-4994-a211-f101086304f4",
   "metadata": {},
   "outputs": [
    {
     "name": "stderr",
     "output_type": "stream",
     "text": [
      "No model was supplied, defaulted to distilbert/distilbert-base-uncased-finetuned-sst-2-english and revision 714eb0f (https://huggingface.co/distilbert/distilbert-base-uncased-finetuned-sst-2-english).\n",
      "Using a pipeline without specifying a model name and revision in production is not recommended.\n",
      "Device set to use cpu\n"
     ]
    },
    {
     "data": {
      "text/plain": [
       "[{'label': 'POSITIVE', 'score': 0.9629820585250854}]"
      ]
     },
     "execution_count": 28,
     "metadata": {},
     "output_type": "execute_result"
    }
   ],
   "source": [
    "from transformers import pipeline\n",
    "\n",
    "sentiment_task = pipeline(\"sentiment-analysis\")\n",
    "sentiment_task(\"Tesla stock is going to the moon!\")\n"
   ]
  },
  {
   "cell_type": "code",
   "execution_count": 29,
   "id": "92f9d068-51e0-464e-a086-6b4ceb891c18",
   "metadata": {},
   "outputs": [
    {
     "name": "stdout",
     "output_type": "stream",
     "text": [
      "Requirement already satisfied: torch in c:\\users\\patna\\anaconda3\\envs\\stocksentiment\\lib\\site-packages (2.7.1+cpu)\n",
      "Requirement already satisfied: filelock in c:\\users\\patna\\anaconda3\\envs\\stocksentiment\\lib\\site-packages (from torch) (3.17.0)\n",
      "Requirement already satisfied: typing-extensions>=4.10.0 in c:\\users\\patna\\anaconda3\\envs\\stocksentiment\\lib\\site-packages (from torch) (4.14.1)\n",
      "Requirement already satisfied: sympy>=1.13.3 in c:\\users\\patna\\anaconda3\\envs\\stocksentiment\\lib\\site-packages (from torch) (1.14.0)\n",
      "Requirement already satisfied: networkx in c:\\users\\patna\\anaconda3\\envs\\stocksentiment\\lib\\site-packages (from torch) (3.2.1)\n",
      "Requirement already satisfied: jinja2 in c:\\users\\patna\\anaconda3\\envs\\stocksentiment\\lib\\site-packages (from torch) (3.1.6)\n",
      "Requirement already satisfied: fsspec in c:\\users\\patna\\anaconda3\\envs\\stocksentiment\\lib\\site-packages (from torch) (2025.5.1)\n",
      "Requirement already satisfied: mpmath<1.4,>=1.1.0 in c:\\users\\patna\\anaconda3\\envs\\stocksentiment\\lib\\site-packages (from sympy>=1.13.3->torch) (1.3.0)\n",
      "Requirement already satisfied: MarkupSafe>=2.0 in c:\\users\\patna\\anaconda3\\envs\\stocksentiment\\lib\\site-packages (from jinja2->torch) (3.0.2)\n"
     ]
    }
   ],
   "source": [
    "!pip install torch --upgrade\n"
   ]
  },
  {
   "cell_type": "code",
   "execution_count": 30,
   "id": "3c97bc86-2121-4b73-b723-5bb3e19accb9",
   "metadata": {
    "scrolled": true
   },
   "outputs": [
    {
     "name": "stderr",
     "output_type": "stream",
     "text": [
      "No model was supplied, defaulted to distilbert/distilbert-base-uncased-finetuned-sst-2-english and revision 714eb0f (https://huggingface.co/distilbert/distilbert-base-uncased-finetuned-sst-2-english).\n",
      "Using a pipeline without specifying a model name and revision in production is not recommended.\n",
      "Device set to use cpu\n"
     ]
    },
    {
     "data": {
      "text/plain": [
       "[{'label': 'POSITIVE', 'score': 0.9629820585250854}]"
      ]
     },
     "execution_count": 30,
     "metadata": {},
     "output_type": "execute_result"
    }
   ],
   "source": [
    "from transformers import pipeline\n",
    "\n",
    "sentiment_task = pipeline(\"sentiment-analysis\")\n",
    "sentiment_task(\"Tesla stock is going to the moon!\")\n"
   ]
  },
  {
   "cell_type": "code",
   "execution_count": 31,
   "id": "a6cc0b24-8f1b-42c4-8a50-a6f11d52ab2b",
   "metadata": {
    "scrolled": true
   },
   "outputs": [
    {
     "name": "stdout",
     "output_type": "stream",
     "text": [
      "Found existing installation: torch 2.7.1+cpu\n",
      "Uninstalling torch-2.7.1+cpu:\n",
      "  Successfully uninstalled torch-2.7.1+cpu\n",
      "Found existing installation: torchvision 0.22.1+cpu\n",
      "Uninstalling torchvision-0.22.1+cpu:\n",
      "  Successfully uninstalled torchvision-0.22.1+cpu\n",
      "Found existing installation: torchaudio 2.7.1+cpu\n",
      "Uninstalling torchaudio-2.7.1+cpu:\n",
      "  Successfully uninstalled torchaudio-2.7.1+cpu\n"
     ]
    },
    {
     "name": "stderr",
     "output_type": "stream",
     "text": [
      "WARNING: Failed to remove contents in a temporary directory 'C:\\Users\\patna\\anaconda3\\envs\\stocksentiment\\Lib\\site-packages\\~-rch'.\n",
      "You can safely remove it manually.\n",
      "WARNING: Failed to remove contents in a temporary directory 'C:\\Users\\patna\\anaconda3\\envs\\stocksentiment\\Lib\\site-packages\\~orchvision'.\n",
      "You can safely remove it manually.\n"
     ]
    },
    {
     "name": "stdout",
     "output_type": "stream",
     "text": [
      "Files removed: 38 (225.7 MB)\n",
      "Looking in indexes: https://download.pytorch.org/whl/cpu\n",
      "Collecting torch\n",
      "  Downloading https://download.pytorch.org/whl/cpu/torch-2.7.1%2Bcpu-cp39-cp39-win_amd64.whl.metadata (27 kB)\n",
      "Collecting torchvision\n",
      "  Downloading https://download.pytorch.org/whl/cpu/torchvision-0.22.1%2Bcpu-cp39-cp39-win_amd64.whl.metadata (6.3 kB)\n",
      "Collecting torchaudio\n",
      "  Downloading https://download.pytorch.org/whl/cpu/torchaudio-2.7.1%2Bcpu-cp39-cp39-win_amd64.whl.metadata (6.8 kB)\n",
      "Requirement already satisfied: filelock in c:\\users\\patna\\anaconda3\\envs\\stocksentiment\\lib\\site-packages (from torch) (3.17.0)\n",
      "Requirement already satisfied: typing-extensions>=4.10.0 in c:\\users\\patna\\anaconda3\\envs\\stocksentiment\\lib\\site-packages (from torch) (4.14.1)\n",
      "Requirement already satisfied: sympy>=1.13.3 in c:\\users\\patna\\anaconda3\\envs\\stocksentiment\\lib\\site-packages (from torch) (1.14.0)\n",
      "Requirement already satisfied: networkx in c:\\users\\patna\\anaconda3\\envs\\stocksentiment\\lib\\site-packages (from torch) (3.2.1)\n",
      "Requirement already satisfied: jinja2 in c:\\users\\patna\\anaconda3\\envs\\stocksentiment\\lib\\site-packages (from torch) (3.1.6)\n",
      "Requirement already satisfied: fsspec in c:\\users\\patna\\anaconda3\\envs\\stocksentiment\\lib\\site-packages (from torch) (2025.5.1)\n",
      "Requirement already satisfied: numpy in c:\\users\\patna\\anaconda3\\envs\\stocksentiment\\lib\\site-packages (from torchvision) (2.0.1)\n",
      "Requirement already satisfied: pillow!=8.3.*,>=5.3.0 in c:\\users\\patna\\anaconda3\\envs\\stocksentiment\\lib\\site-packages (from torchvision) (11.1.0)\n",
      "Requirement already satisfied: mpmath<1.4,>=1.1.0 in c:\\users\\patna\\anaconda3\\envs\\stocksentiment\\lib\\site-packages (from sympy>=1.13.3->torch) (1.3.0)\n",
      "Requirement already satisfied: MarkupSafe>=2.0 in c:\\users\\patna\\anaconda3\\envs\\stocksentiment\\lib\\site-packages (from jinja2->torch) (3.0.2)\n",
      "Downloading https://download.pytorch.org/whl/cpu/torch-2.7.1%2Bcpu-cp39-cp39-win_amd64.whl (215.9 MB)\n",
      "   ---------------------------------------- 0.0/215.9 MB ? eta -:--:--\n",
      "    --------------------------------------- 3.7/215.9 MB 19.8 MB/s eta 0:00:11\n",
      "    --------------------------------------- 4.7/215.9 MB 11.9 MB/s eta 0:00:18\n",
      "   - -------------------------------------- 5.8/215.9 MB 9.3 MB/s eta 0:00:23\n",
      "   - -------------------------------------- 6.8/215.9 MB 8.2 MB/s eta 0:00:26\n",
      "   - -------------------------------------- 7.9/215.9 MB 7.4 MB/s eta 0:00:29\n",
      "   - -------------------------------------- 8.9/215.9 MB 7.1 MB/s eta 0:00:30\n",
      "   - -------------------------------------- 10.0/215.9 MB 6.7 MB/s eta 0:00:31\n",
      "   -- ------------------------------------- 11.0/215.9 MB 6.4 MB/s eta 0:00:32\n",
      "   -- ------------------------------------- 12.1/215.9 MB 6.3 MB/s eta 0:00:33\n",
      "   -- ------------------------------------- 13.1/215.9 MB 6.1 MB/s eta 0:00:34\n",
      "   -- ------------------------------------- 13.9/215.9 MB 6.0 MB/s eta 0:00:34\n",
      "   -- ------------------------------------- 14.9/215.9 MB 5.9 MB/s eta 0:00:35\n",
      "   -- ------------------------------------- 16.0/215.9 MB 5.8 MB/s eta 0:00:35\n",
      "   --- ------------------------------------ 16.8/215.9 MB 5.7 MB/s eta 0:00:35\n",
      "   --- ------------------------------------ 17.8/215.9 MB 5.7 MB/s eta 0:00:35\n",
      "   --- ------------------------------------ 18.9/215.9 MB 5.6 MB/s eta 0:00:35\n",
      "   --- ------------------------------------ 19.9/215.9 MB 5.6 MB/s eta 0:00:36\n",
      "   --- ------------------------------------ 21.0/215.9 MB 5.6 MB/s eta 0:00:36\n",
      "   ---- ----------------------------------- 22.0/215.9 MB 5.5 MB/s eta 0:00:36\n",
      "   ---- ----------------------------------- 23.1/215.9 MB 5.5 MB/s eta 0:00:36\n",
      "   ---- ----------------------------------- 24.1/215.9 MB 5.5 MB/s eta 0:00:36\n",
      "   ---- ----------------------------------- 24.9/215.9 MB 5.4 MB/s eta 0:00:36\n",
      "   ---- ----------------------------------- 26.0/215.9 MB 5.4 MB/s eta 0:00:36\n",
      "   ----- ---------------------------------- 27.0/215.9 MB 5.4 MB/s eta 0:00:36\n",
      "   ----- ---------------------------------- 28.0/215.9 MB 5.4 MB/s eta 0:00:35\n",
      "   ----- ---------------------------------- 29.1/215.9 MB 5.3 MB/s eta 0:00:35\n",
      "   ----- ---------------------------------- 30.1/215.9 MB 5.3 MB/s eta 0:00:35\n",
      "   ----- ---------------------------------- 31.2/215.9 MB 5.3 MB/s eta 0:00:35\n",
      "   ----- ---------------------------------- 32.2/215.9 MB 5.3 MB/s eta 0:00:35\n",
      "   ------ --------------------------------- 33.0/215.9 MB 5.3 MB/s eta 0:00:35\n",
      "   ------ --------------------------------- 34.1/215.9 MB 5.3 MB/s eta 0:00:35\n",
      "   ------ --------------------------------- 35.1/215.9 MB 5.3 MB/s eta 0:00:35\n",
      "   ------ --------------------------------- 36.2/215.9 MB 5.3 MB/s eta 0:00:35\n",
      "   ------ --------------------------------- 37.2/215.9 MB 5.2 MB/s eta 0:00:35\n",
      "   ------- -------------------------------- 38.0/215.9 MB 5.2 MB/s eta 0:00:35\n",
      "   ------- -------------------------------- 39.1/215.9 MB 5.2 MB/s eta 0:00:34\n",
      "   ------- -------------------------------- 40.1/215.9 MB 5.2 MB/s eta 0:00:34\n",
      "   ------- -------------------------------- 41.2/215.9 MB 5.2 MB/s eta 0:00:34\n",
      "   ------- -------------------------------- 41.9/215.9 MB 5.2 MB/s eta 0:00:34\n",
      "   ------- -------------------------------- 43.0/215.9 MB 5.2 MB/s eta 0:00:34\n",
      "   -------- ------------------------------- 44.3/215.9 MB 5.2 MB/s eta 0:00:34\n",
      "   -------- ------------------------------- 44.8/215.9 MB 5.2 MB/s eta 0:00:34\n",
      "   -------- ------------------------------- 46.1/215.9 MB 5.2 MB/s eta 0:00:33\n",
      "   -------- ------------------------------- 47.2/215.9 MB 5.2 MB/s eta 0:00:33\n",
      "   -------- ------------------------------- 48.2/215.9 MB 5.2 MB/s eta 0:00:33\n",
      "   --------- ------------------------------ 49.3/215.9 MB 5.1 MB/s eta 0:00:33\n",
      "   --------- ------------------------------ 50.3/215.9 MB 5.1 MB/s eta 0:00:33\n",
      "   --------- ------------------------------ 51.1/215.9 MB 5.1 MB/s eta 0:00:33\n",
      "   --------- ------------------------------ 52.2/215.9 MB 5.1 MB/s eta 0:00:32\n",
      "   --------- ------------------------------ 53.0/215.9 MB 5.1 MB/s eta 0:00:32\n",
      "   ---------- ----------------------------- 54.0/215.9 MB 5.1 MB/s eta 0:00:32\n",
      "   ---------- ----------------------------- 55.1/215.9 MB 5.1 MB/s eta 0:00:32\n",
      "   ---------- ----------------------------- 56.1/215.9 MB 5.1 MB/s eta 0:00:32\n",
      "   ---------- ----------------------------- 56.4/215.9 MB 5.1 MB/s eta 0:00:32\n",
      "   ---------- ----------------------------- 57.1/215.9 MB 5.0 MB/s eta 0:00:32\n",
      "   ---------- ----------------------------- 59.2/215.9 MB 5.1 MB/s eta 0:00:31\n",
      "   ----------- ---------------------------- 60.0/215.9 MB 5.1 MB/s eta 0:00:31\n",
      "   ----------- ---------------------------- 61.1/215.9 MB 5.1 MB/s eta 0:00:31\n",
      "   ----------- ---------------------------- 62.1/215.9 MB 5.1 MB/s eta 0:00:31\n",
      "   ----------- ---------------------------- 62.9/215.9 MB 5.1 MB/s eta 0:00:31\n",
      "   ----------- ---------------------------- 64.0/215.9 MB 5.1 MB/s eta 0:00:30\n",
      "   ------------ --------------------------- 65.0/215.9 MB 5.1 MB/s eta 0:00:30\n",
      "   ------------ --------------------------- 66.1/215.9 MB 5.1 MB/s eta 0:00:30\n",
      "   ------------ --------------------------- 67.1/215.9 MB 5.1 MB/s eta 0:00:30\n",
      "   ------------ --------------------------- 68.2/215.9 MB 5.1 MB/s eta 0:00:30\n",
      "   ------------ --------------------------- 68.9/215.9 MB 5.1 MB/s eta 0:00:30\n",
      "   ------------- -------------------------- 70.3/215.9 MB 5.1 MB/s eta 0:00:29\n",
      "   ------------- -------------------------- 71.0/215.9 MB 5.1 MB/s eta 0:00:29\n",
      "   ------------- -------------------------- 72.1/215.9 MB 5.1 MB/s eta 0:00:29\n",
      "   ------------- -------------------------- 73.1/215.9 MB 5.0 MB/s eta 0:00:29\n",
      "   ------------- -------------------------- 74.2/215.9 MB 5.0 MB/s eta 0:00:29\n",
      "   ------------- -------------------------- 75.2/215.9 MB 5.0 MB/s eta 0:00:28\n",
      "   -------------- ------------------------- 76.3/215.9 MB 5.0 MB/s eta 0:00:28\n",
      "   -------------- ------------------------- 77.3/215.9 MB 5.0 MB/s eta 0:00:28\n",
      "   -------------- ------------------------- 78.4/215.9 MB 5.0 MB/s eta 0:00:28\n",
      "   -------------- ------------------------- 79.4/215.9 MB 5.0 MB/s eta 0:00:28\n",
      "   -------------- ------------------------- 80.5/215.9 MB 5.0 MB/s eta 0:00:27\n",
      "   --------------- ------------------------ 81.3/215.9 MB 5.0 MB/s eta 0:00:27\n",
      "   --------------- ------------------------ 82.1/215.9 MB 5.0 MB/s eta 0:00:27\n",
      "   --------------- ------------------------ 83.1/215.9 MB 5.0 MB/s eta 0:00:27\n",
      "   --------------- ------------------------ 84.1/215.9 MB 5.0 MB/s eta 0:00:27\n",
      "   --------------- ------------------------ 85.2/215.9 MB 5.0 MB/s eta 0:00:27\n",
      "   --------------- ------------------------ 86.2/215.9 MB 5.0 MB/s eta 0:00:26\n",
      "   ---------------- ----------------------- 87.3/215.9 MB 5.0 MB/s eta 0:00:26\n",
      "   ---------------- ----------------------- 88.3/215.9 MB 5.0 MB/s eta 0:00:26\n",
      "   ---------------- ----------------------- 89.4/215.9 MB 5.0 MB/s eta 0:00:26\n",
      "   ---------------- ----------------------- 90.4/215.9 MB 5.0 MB/s eta 0:00:26\n",
      "   ---------------- ----------------------- 91.5/215.9 MB 5.0 MB/s eta 0:00:25\n",
      "   ----------------- ---------------------- 92.5/215.9 MB 5.0 MB/s eta 0:00:25\n",
      "   ----------------- ---------------------- 93.6/215.9 MB 5.0 MB/s eta 0:00:25\n",
      "   ----------------- ---------------------- 94.6/215.9 MB 5.0 MB/s eta 0:00:25\n",
      "   ----------------- ---------------------- 95.7/215.9 MB 5.0 MB/s eta 0:00:25\n",
      "   ----------------- ---------------------- 96.7/215.9 MB 5.0 MB/s eta 0:00:24\n",
      "   ------------------ --------------------- 97.8/215.9 MB 5.0 MB/s eta 0:00:24\n",
      "   ------------------ --------------------- 98.8/215.9 MB 5.0 MB/s eta 0:00:24\n",
      "   ------------------ --------------------- 99.6/215.9 MB 5.0 MB/s eta 0:00:24\n",
      "   ------------------ --------------------- 100.7/215.9 MB 5.0 MB/s eta 0:00:24\n",
      "   ------------------ --------------------- 101.7/215.9 MB 5.0 MB/s eta 0:00:23\n",
      "   ------------------ --------------------- 102.5/215.9 MB 5.0 MB/s eta 0:00:23\n",
      "   ------------------- -------------------- 103.8/215.9 MB 5.0 MB/s eta 0:00:23\n",
      "   ------------------- -------------------- 104.9/215.9 MB 5.0 MB/s eta 0:00:23\n",
      "   ------------------- -------------------- 105.9/215.9 MB 5.0 MB/s eta 0:00:23\n",
      "   ------------------- -------------------- 107.0/215.9 MB 5.0 MB/s eta 0:00:22\n",
      "   -------------------- ------------------- 108.0/215.9 MB 5.0 MB/s eta 0:00:22\n",
      "   -------------------- ------------------- 108.8/215.9 MB 5.0 MB/s eta 0:00:22\n",
      "   -------------------- ------------------- 109.8/215.9 MB 5.0 MB/s eta 0:00:22\n",
      "   -------------------- ------------------- 110.1/215.9 MB 5.0 MB/s eta 0:00:22\n",
      "   -------------------- ------------------- 111.4/215.9 MB 4.9 MB/s eta 0:00:22\n",
      "   -------------------- ------------------- 112.7/215.9 MB 5.0 MB/s eta 0:00:21\n",
      "   --------------------- ------------------ 114.0/215.9 MB 5.0 MB/s eta 0:00:21\n",
      "   --------------------- ------------------ 115.1/215.9 MB 5.0 MB/s eta 0:00:21\n",
      "   --------------------- ------------------ 116.1/215.9 MB 5.0 MB/s eta 0:00:21\n",
      "   --------------------- ------------------ 117.2/215.9 MB 5.0 MB/s eta 0:00:20\n",
      "   --------------------- ------------------ 118.2/215.9 MB 5.0 MB/s eta 0:00:20\n",
      "   ---------------------- ----------------- 119.3/215.9 MB 5.0 MB/s eta 0:00:20\n",
      "   ---------------------- ----------------- 120.3/215.9 MB 5.0 MB/s eta 0:00:20\n",
      "   ---------------------- ----------------- 121.4/215.9 MB 5.0 MB/s eta 0:00:20\n",
      "   ---------------------- ----------------- 122.2/215.9 MB 5.0 MB/s eta 0:00:19\n",
      "   ---------------------- ----------------- 123.2/215.9 MB 4.9 MB/s eta 0:00:19\n",
      "   ----------------------- ---------------- 124.3/215.9 MB 4.9 MB/s eta 0:00:19\n",
      "   ----------------------- ---------------- 125.6/215.9 MB 5.0 MB/s eta 0:00:19\n",
      "   ----------------------- ---------------- 126.6/215.9 MB 4.9 MB/s eta 0:00:19\n",
      "   ----------------------- ---------------- 127.4/215.9 MB 4.9 MB/s eta 0:00:18\n",
      "   ----------------------- ---------------- 128.2/215.9 MB 4.9 MB/s eta 0:00:18\n",
      "   ----------------------- ---------------- 128.7/215.9 MB 4.9 MB/s eta 0:00:18\n",
      "   ----------------------- ---------------- 129.5/215.9 MB 4.9 MB/s eta 0:00:18\n",
      "   ------------------------ --------------- 130.3/215.9 MB 4.9 MB/s eta 0:00:18\n",
      "   ------------------------ --------------- 130.8/215.9 MB 4.9 MB/s eta 0:00:18\n",
      "   ------------------------ --------------- 131.3/215.9 MB 4.9 MB/s eta 0:00:18\n",
      "   ------------------------ --------------- 131.9/215.9 MB 4.8 MB/s eta 0:00:18\n",
      "   ------------------------ --------------- 132.1/215.9 MB 4.8 MB/s eta 0:00:18\n",
      "   ------------------------ --------------- 132.4/215.9 MB 4.8 MB/s eta 0:00:18\n",
      "   ------------------------ --------------- 132.6/215.9 MB 4.8 MB/s eta 0:00:18\n",
      "   ------------------------ --------------- 132.9/215.9 MB 4.8 MB/s eta 0:00:18\n",
      "   ------------------------ --------------- 133.2/215.9 MB 4.7 MB/s eta 0:00:18\n",
      "   ------------------------ --------------- 133.7/215.9 MB 4.7 MB/s eta 0:00:18\n",
      "   ------------------------ --------------- 134.0/215.9 MB 4.7 MB/s eta 0:00:18\n",
      "   ------------------------ --------------- 134.2/215.9 MB 4.6 MB/s eta 0:00:18\n",
      "   ------------------------ --------------- 134.7/215.9 MB 4.6 MB/s eta 0:00:18\n",
      "   ------------------------- -------------- 135.3/215.9 MB 4.6 MB/s eta 0:00:18\n",
      "   ------------------------- -------------- 135.8/215.9 MB 4.6 MB/s eta 0:00:18\n",
      "   ------------------------- -------------- 137.1/215.9 MB 4.6 MB/s eta 0:00:18\n",
      "   ------------------------- -------------- 139.7/215.9 MB 4.7 MB/s eta 0:00:17\n",
      "   -------------------------- ------------- 141.8/215.9 MB 4.6 MB/s eta 0:00:17\n",
      "   -------------------------- ------------- 142.9/215.9 MB 4.6 MB/s eta 0:00:16\n",
      "   -------------------------- ------------- 143.9/215.9 MB 4.6 MB/s eta 0:00:16\n",
      "   -------------------------- ------------- 145.0/215.9 MB 4.6 MB/s eta 0:00:16\n",
      "   --------------------------- ------------ 146.0/215.9 MB 4.6 MB/s eta 0:00:16\n",
      "   --------------------------- ------------ 147.1/215.9 MB 4.6 MB/s eta 0:00:15\n",
      "   --------------------------- ------------ 148.1/215.9 MB 4.6 MB/s eta 0:00:15\n",
      "   --------------------------- ------------ 149.2/215.9 MB 4.6 MB/s eta 0:00:15\n",
      "   --------------------------- ------------ 150.2/215.9 MB 4.6 MB/s eta 0:00:15\n",
      "   ---------------------------- ----------- 151.3/215.9 MB 4.6 MB/s eta 0:00:15\n",
      "   ---------------------------- ----------- 152.0/215.9 MB 4.6 MB/s eta 0:00:14\n",
      "   ---------------------------- ----------- 153.4/215.9 MB 4.6 MB/s eta 0:00:14\n",
      "   ---------------------------- ----------- 154.1/215.9 MB 4.6 MB/s eta 0:00:14\n",
      "   ---------------------------- ----------- 155.5/215.9 MB 4.6 MB/s eta 0:00:14\n",
      "   ---------------------------- ----------- 156.5/215.9 MB 4.6 MB/s eta 0:00:13\n",
      "   ----------------------------- ---------- 157.3/215.9 MB 4.6 MB/s eta 0:00:13\n",
      "   ----------------------------- ---------- 158.3/215.9 MB 4.6 MB/s eta 0:00:13\n",
      "   ----------------------------- ---------- 159.4/215.9 MB 4.6 MB/s eta 0:00:13\n",
      "   ----------------------------- ---------- 160.4/215.9 MB 4.6 MB/s eta 0:00:13\n",
      "   ----------------------------- ---------- 161.5/215.9 MB 4.6 MB/s eta 0:00:12\n",
      "   ------------------------------ --------- 162.5/215.9 MB 4.6 MB/s eta 0:00:12\n",
      "   ------------------------------ --------- 163.6/215.9 MB 4.6 MB/s eta 0:00:12\n",
      "   ------------------------------ --------- 164.6/215.9 MB 4.6 MB/s eta 0:00:12\n",
      "   ------------------------------ --------- 165.7/215.9 MB 4.6 MB/s eta 0:00:11\n",
      "   ------------------------------ --------- 166.7/215.9 MB 4.6 MB/s eta 0:00:11\n",
      "   ------------------------------- -------- 167.8/215.9 MB 4.6 MB/s eta 0:00:11\n",
      "   ------------------------------- -------- 168.6/215.9 MB 4.6 MB/s eta 0:00:11\n",
      "   ------------------------------- -------- 169.6/215.9 MB 4.6 MB/s eta 0:00:11\n",
      "   ------------------------------- -------- 170.7/215.9 MB 4.6 MB/s eta 0:00:10\n",
      "   ------------------------------- -------- 171.7/215.9 MB 4.6 MB/s eta 0:00:10\n",
      "   -------------------------------- ------- 172.8/215.9 MB 4.6 MB/s eta 0:00:10\n",
      "   -------------------------------- ------- 173.8/215.9 MB 4.6 MB/s eta 0:00:10\n",
      "   -------------------------------- ------- 174.9/215.9 MB 4.6 MB/s eta 0:00:09\n",
      "   -------------------------------- ------- 175.9/215.9 MB 4.6 MB/s eta 0:00:09\n",
      "   -------------------------------- ------- 176.9/215.9 MB 4.6 MB/s eta 0:00:09\n",
      "   -------------------------------- ------- 178.0/215.9 MB 4.6 MB/s eta 0:00:09\n",
      "   --------------------------------- ------ 179.0/215.9 MB 4.6 MB/s eta 0:00:09\n",
      "   --------------------------------- ------ 180.1/215.9 MB 4.6 MB/s eta 0:00:08\n",
      "   --------------------------------- ------ 180.9/215.9 MB 4.6 MB/s eta 0:00:08\n",
      "   --------------------------------- ------ 181.7/215.9 MB 4.6 MB/s eta 0:00:08\n",
      "   --------------------------------- ------ 182.7/215.9 MB 4.6 MB/s eta 0:00:08\n",
      "   ---------------------------------- ----- 183.8/215.9 MB 4.6 MB/s eta 0:00:07\n",
      "   ---------------------------------- ----- 184.8/215.9 MB 4.6 MB/s eta 0:00:07\n",
      "   ---------------------------------- ----- 185.9/215.9 MB 4.6 MB/s eta 0:00:07\n",
      "   ---------------------------------- ----- 186.9/215.9 MB 4.6 MB/s eta 0:00:07\n",
      "   ---------------------------------- ----- 188.0/215.9 MB 4.6 MB/s eta 0:00:07\n",
      "   ----------------------------------- ---- 189.0/215.9 MB 4.6 MB/s eta 0:00:06\n",
      "   ----------------------------------- ---- 190.1/215.9 MB 4.6 MB/s eta 0:00:06\n",
      "   ----------------------------------- ---- 191.1/215.9 MB 4.6 MB/s eta 0:00:06\n",
      "   ----------------------------------- ---- 192.2/215.9 MB 4.6 MB/s eta 0:00:06\n",
      "   ----------------------------------- ---- 193.2/215.9 MB 4.6 MB/s eta 0:00:05\n",
      "   ----------------------------------- ---- 194.2/215.9 MB 4.6 MB/s eta 0:00:05\n",
      "   ------------------------------------ --- 195.3/215.9 MB 4.6 MB/s eta 0:00:05\n",
      "   ------------------------------------ --- 196.1/215.9 MB 4.6 MB/s eta 0:00:05\n",
      "   ------------------------------------ --- 197.1/215.9 MB 4.6 MB/s eta 0:00:05\n",
      "   ------------------------------------ --- 198.2/215.9 MB 4.6 MB/s eta 0:00:04\n",
      "   ------------------------------------ --- 199.2/215.9 MB 4.6 MB/s eta 0:00:04\n",
      "   ------------------------------------- -- 200.5/215.9 MB 4.6 MB/s eta 0:00:04\n",
      "   ------------------------------------- -- 201.3/215.9 MB 4.6 MB/s eta 0:00:04\n",
      "   ------------------------------------- -- 202.1/215.9 MB 4.6 MB/s eta 0:00:04\n",
      "   ------------------------------------- -- 203.2/215.9 MB 4.6 MB/s eta 0:00:03\n",
      "   ------------------------------------- -- 204.5/215.9 MB 4.6 MB/s eta 0:00:03\n",
      "   -------------------------------------- - 205.5/215.9 MB 4.6 MB/s eta 0:00:03\n",
      "   -------------------------------------- - 206.6/215.9 MB 4.6 MB/s eta 0:00:03\n",
      "   -------------------------------------- - 207.1/215.9 MB 4.6 MB/s eta 0:00:02\n",
      "   -------------------------------------- - 208.7/215.9 MB 4.6 MB/s eta 0:00:02\n",
      "   -------------------------------------- - 209.5/215.9 MB 4.6 MB/s eta 0:00:02\n",
      "   -------------------------------------- - 210.5/215.9 MB 4.6 MB/s eta 0:00:02\n",
      "   ---------------------------------------  211.6/215.9 MB 4.6 MB/s eta 0:00:01\n",
      "   ---------------------------------------  212.6/215.9 MB 4.6 MB/s eta 0:00:01\n",
      "   ---------------------------------------  213.6/215.9 MB 4.6 MB/s eta 0:00:01\n",
      "   ---------------------------------------  214.7/215.9 MB 4.6 MB/s eta 0:00:01\n",
      "   ---------------------------------------  215.7/215.9 MB 4.6 MB/s eta 0:00:01\n",
      "   ---------------------------------------  215.7/215.9 MB 4.6 MB/s eta 0:00:01\n",
      "   ---------------------------------------  215.7/215.9 MB 4.6 MB/s eta 0:00:01\n",
      "   ---------------------------------------  215.7/215.9 MB 4.6 MB/s eta 0:00:01\n",
      "   ---------------------------------------  215.7/215.9 MB 4.6 MB/s eta 0:00:01\n",
      "   ---------------------------------------  215.7/215.9 MB 4.6 MB/s eta 0:00:01\n",
      "   ---------------------------------------- 215.9/215.9 MB 4.4 MB/s eta 0:00:00\n",
      "Downloading https://download.pytorch.org/whl/cpu/torchvision-0.22.1%2Bcpu-cp39-cp39-win_amd64.whl (1.7 MB)\n",
      "   ---------------------------------------- 0.0/1.7 MB ? eta -:--:--\n",
      "   ------------------ --------------------- 0.8/1.7 MB 5.6 MB/s eta 0:00:01\n",
      "   ---------------------------------------- 1.7/1.7 MB 4.9 MB/s eta 0:00:00\n",
      "Downloading https://download.pytorch.org/whl/cpu/torchaudio-2.7.1%2Bcpu-cp39-cp39-win_amd64.whl (2.5 MB)\n",
      "   ---------------------------------------- 0.0/2.5 MB ? eta -:--:--\n",
      "   ----------------------------- ---------- 1.8/2.5 MB 9.1 MB/s eta 0:00:01\n",
      "   ---------------------------------------- 2.5/2.5 MB 8.8 MB/s eta 0:00:00\n",
      "Installing collected packages: torch, torchvision, torchaudio\n",
      "\n",
      "   ---------------------------------------- 0/3 [torch]\n",
      "   ---------------------------------------- 0/3 [torch]\n",
      "   ---------------------------------------- 0/3 [torch]\n",
      "   ---------------------------------------- 0/3 [torch]\n",
      "   ---------------------------------------- 0/3 [torch]\n",
      "   ---------------------------------------- 0/3 [torch]\n",
      "   ---------------------------------------- 0/3 [torch]\n",
      "   ---------------------------------------- 0/3 [torch]\n",
      "   ---------------------------------------- 0/3 [torch]\n",
      "   ---------------------------------------- 0/3 [torch]\n",
      "   ---------------------------------------- 0/3 [torch]\n",
      "   ---------------------------------------- 0/3 [torch]\n",
      "   ---------------------------------------- 0/3 [torch]\n",
      "   ---------------------------------------- 0/3 [torch]\n",
      "   ---------------------------------------- 0/3 [torch]\n",
      "   ---------------------------------------- 0/3 [torch]\n",
      "   ---------------------------------------- 0/3 [torch]\n",
      "   ---------------------------------------- 0/3 [torch]\n",
      "   ---------------------------------------- 0/3 [torch]\n",
      "   ---------------------------------------- 0/3 [torch]\n",
      "   ---------------------------------------- 0/3 [torch]\n",
      "   ---------------------------------------- 0/3 [torch]\n",
      "   ---------------------------------------- 0/3 [torch]\n",
      "   ---------------------------------------- 0/3 [torch]\n",
      "   ---------------------------------------- 0/3 [torch]\n",
      "   ---------------------------------------- 0/3 [torch]\n",
      "   ---------------------------------------- 0/3 [torch]\n",
      "   ---------------------------------------- 0/3 [torch]\n",
      "   ---------------------------------------- 0/3 [torch]\n",
      "   ---------------------------------------- 0/3 [torch]\n",
      "   ---------------------------------------- 0/3 [torch]\n",
      "   ---------------------------------------- 0/3 [torch]\n",
      "   ---------------------------------------- 0/3 [torch]\n",
      "   ---------------------------------------- 0/3 [torch]\n",
      "   ---------------------------------------- 0/3 [torch]\n",
      "   ---------------------------------------- 0/3 [torch]\n",
      "   ---------------------------------------- 0/3 [torch]\n",
      "   ---------------------------------------- 0/3 [torch]\n",
      "   ---------------------------------------- 0/3 [torch]\n",
      "   ---------------------------------------- 0/3 [torch]\n",
      "   ---------------------------------------- 0/3 [torch]\n",
      "   ---------------------------------------- 0/3 [torch]\n",
      "   ---------------------------------------- 0/3 [torch]\n",
      "   ---------------------------------------- 0/3 [torch]\n",
      "   ---------------------------------------- 0/3 [torch]\n",
      "   ---------------------------------------- 0/3 [torch]\n",
      "   ---------------------------------------- 0/3 [torch]\n",
      "   ---------------------------------------- 0/3 [torch]\n",
      "   ---------------------------------------- 0/3 [torch]\n",
      "   ---------------------------------------- 0/3 [torch]\n",
      "   ---------------------------------------- 0/3 [torch]\n",
      "   ---------------------------------------- 0/3 [torch]\n",
      "   ---------------------------------------- 0/3 [torch]\n",
      "   ---------------------------------------- 0/3 [torch]\n",
      "   ---------------------------------------- 0/3 [torch]\n",
      "   ---------------------------------------- 0/3 [torch]\n",
      "   ---------------------------------------- 0/3 [torch]\n",
      "   ---------------------------------------- 0/3 [torch]\n",
      "   ---------------------------------------- 0/3 [torch]\n",
      "   ---------------------------------------- 0/3 [torch]\n",
      "   ---------------------------------------- 0/3 [torch]\n",
      "   ---------------------------------------- 0/3 [torch]\n",
      "   ---------------------------------------- 0/3 [torch]\n",
      "   ---------------------------------------- 0/3 [torch]\n",
      "   ---------------------------------------- 0/3 [torch]\n",
      "   ---------------------------------------- 0/3 [torch]\n",
      "   ---------------------------------------- 0/3 [torch]\n",
      "   ---------------------------------------- 0/3 [torch]\n",
      "   ---------------------------------------- 0/3 [torch]\n",
      "   ---------------------------------------- 0/3 [torch]\n",
      "   ---------------------------------------- 0/3 [torch]\n",
      "   ---------------------------------------- 0/3 [torch]\n",
      "   ---------------------------------------- 0/3 [torch]\n",
      "   ---------------------------------------- 0/3 [torch]\n",
      "   ---------------------------------------- 0/3 [torch]\n",
      "   ---------------------------------------- 0/3 [torch]\n",
      "   ---------------------------------------- 0/3 [torch]\n",
      "   ---------------------------------------- 0/3 [torch]\n",
      "   ---------------------------------------- 0/3 [torch]\n",
      "   ---------------------------------------- 0/3 [torch]\n",
      "   ---------------------------------------- 0/3 [torch]\n",
      "   ---------------------------------------- 0/3 [torch]\n",
      "   ---------------------------------------- 0/3 [torch]\n",
      "   ---------------------------------------- 0/3 [torch]\n",
      "   ---------------------------------------- 0/3 [torch]\n",
      "   ---------------------------------------- 0/3 [torch]\n",
      "   ---------------------------------------- 0/3 [torch]\n",
      "   ---------------------------------------- 0/3 [torch]\n",
      "   ---------------------------------------- 0/3 [torch]\n",
      "   ---------------------------------------- 0/3 [torch]\n",
      "   ---------------------------------------- 0/3 [torch]\n",
      "   ---------------------------------------- 0/3 [torch]\n",
      "   ---------------------------------------- 0/3 [torch]\n",
      "   ---------------------------------------- 0/3 [torch]\n",
      "   ---------------------------------------- 0/3 [torch]\n",
      "   ---------------------------------------- 0/3 [torch]\n",
      "   ---------------------------------------- 0/3 [torch]\n",
      "   ---------------------------------------- 0/3 [torch]\n",
      "   ---------------------------------------- 0/3 [torch]\n",
      "   ---------------------------------------- 0/3 [torch]\n",
      "   ---------------------------------------- 0/3 [torch]\n",
      "   ---------------------------------------- 0/3 [torch]\n",
      "   ---------------------------------------- 0/3 [torch]\n",
      "   ---------------------------------------- 0/3 [torch]\n",
      "   ---------------------------------------- 0/3 [torch]\n",
      "   ---------------------------------------- 0/3 [torch]\n",
      "   ---------------------------------------- 0/3 [torch]\n",
      "   ---------------------------------------- 0/3 [torch]\n",
      "   ---------------------------------------- 0/3 [torch]\n",
      "   ---------------------------------------- 0/3 [torch]\n",
      "   ---------------------------------------- 0/3 [torch]\n",
      "   ---------------------------------------- 0/3 [torch]\n",
      "   ---------------------------------------- 0/3 [torch]\n",
      "   ---------------------------------------- 0/3 [torch]\n",
      "   ---------------------------------------- 0/3 [torch]\n",
      "   ---------------------------------------- 0/3 [torch]\n",
      "   ---------------------------------------- 0/3 [torch]\n",
      "   ---------------------------------------- 0/3 [torch]\n",
      "   ---------------------------------------- 0/3 [torch]\n",
      "   ---------------------------------------- 0/3 [torch]\n",
      "   ---------------------------------------- 0/3 [torch]\n",
      "   ---------------------------------------- 0/3 [torch]\n",
      "   ---------------------------------------- 0/3 [torch]\n",
      "   ---------------------------------------- 0/3 [torch]\n",
      "   ---------------------------------------- 0/3 [torch]\n",
      "   ---------------------------------------- 0/3 [torch]\n",
      "   ---------------------------------------- 0/3 [torch]\n",
      "   ---------------------------------------- 0/3 [torch]\n",
      "   ---------------------------------------- 0/3 [torch]\n",
      "   ---------------------------------------- 0/3 [torch]\n",
      "   ---------------------------------------- 0/3 [torch]\n",
      "   ---------------------------------------- 0/3 [torch]\n",
      "   ---------------------------------------- 0/3 [torch]\n",
      "   ---------------------------------------- 0/3 [torch]\n",
      "   ---------------------------------------- 0/3 [torch]\n",
      "   ---------------------------------------- 0/3 [torch]\n",
      "   ---------------------------------------- 0/3 [torch]\n",
      "   ---------------------------------------- 0/3 [torch]\n",
      "   ---------------------------------------- 0/3 [torch]\n",
      "   ---------------------------------------- 0/3 [torch]\n",
      "   ---------------------------------------- 0/3 [torch]\n",
      "   ---------------------------------------- 0/3 [torch]\n",
      "   ---------------------------------------- 0/3 [torch]\n",
      "   ---------------------------------------- 0/3 [torch]\n",
      "   ---------------------------------------- 0/3 [torch]\n",
      "   ---------------------------------------- 0/3 [torch]\n",
      "   ---------------------------------------- 0/3 [torch]\n",
      "   ---------------------------------------- 0/3 [torch]\n",
      "   ---------------------------------------- 0/3 [torch]\n",
      "   ---------------------------------------- 0/3 [torch]\n",
      "   ---------------------------------------- 0/3 [torch]\n",
      "   ---------------------------------------- 0/3 [torch]\n",
      "   ---------------------------------------- 0/3 [torch]\n",
      "   ---------------------------------------- 0/3 [torch]\n",
      "   ---------------------------------------- 0/3 [torch]\n",
      "   ---------------------------------------- 0/3 [torch]\n",
      "   ---------------------------------------- 0/3 [torch]\n",
      "   ---------------------------------------- 0/3 [torch]\n",
      "   ---------------------------------------- 0/3 [torch]\n",
      "   ---------------------------------------- 0/3 [torch]\n",
      "   ---------------------------------------- 0/3 [torch]\n",
      "   ---------------------------------------- 0/3 [torch]\n",
      "   ---------------------------------------- 0/3 [torch]\n",
      "   ---------------------------------------- 0/3 [torch]\n",
      "   ---------------------------------------- 0/3 [torch]\n",
      "   ---------------------------------------- 0/3 [torch]\n",
      "   ---------------------------------------- 0/3 [torch]\n",
      "   ---------------------------------------- 0/3 [torch]\n",
      "   ---------------------------------------- 0/3 [torch]\n",
      "   ---------------------------------------- 0/3 [torch]\n",
      "   ------------- -------------------------- 1/3 [torchvision]\n",
      "   ------------- -------------------------- 1/3 [torchvision]\n",
      "   ------------- -------------------------- 1/3 [torchvision]\n",
      "   ------------- -------------------------- 1/3 [torchvision]\n",
      "   ------------- -------------------------- 1/3 [torchvision]\n",
      "   ------------- -------------------------- 1/3 [torchvision]\n",
      "   -------------------------- ------------- 2/3 [torchaudio]\n",
      "   -------------------------- ------------- 2/3 [torchaudio]\n",
      "   -------------------------- ------------- 2/3 [torchaudio]\n",
      "   -------------------------- ------------- 2/3 [torchaudio]\n",
      "   -------------------------- ------------- 2/3 [torchaudio]\n",
      "   -------------------------- ------------- 2/3 [torchaudio]\n",
      "   ---------------------------------------- 3/3 [torchaudio]\n",
      "\n",
      "Successfully installed torch-2.7.1+cpu torchaudio-2.7.1+cpu torchvision-0.22.1+cpu\n"
     ]
    }
   ],
   "source": [
    "!pip uninstall torch torchvision torchaudio -y\n",
    "!pip cache purge\n",
    "!pip install torch torchvision torchaudio --index-url https://download.pytorch.org/whl/cpu\n"
   ]
  },
  {
   "cell_type": "code",
   "execution_count": 32,
   "id": "73999d90-ec6d-4a48-8653-efea11a72104",
   "metadata": {},
   "outputs": [
    {
     "name": "stdout",
     "output_type": "stream",
     "text": [
      "2.7.1+cpu\n"
     ]
    }
   ],
   "source": [
    "import torch\n",
    "print(torch.__version__)\n"
   ]
  },
  {
   "cell_type": "code",
   "execution_count": 33,
   "id": "2b4b7b15-97f7-4242-9de7-69c2d7cad9c5",
   "metadata": {},
   "outputs": [
    {
     "name": "stdout",
     "output_type": "stream",
     "text": [
      "Looking in indexes: https://download.pytorch.org/whl/cpu\n",
      "Requirement already satisfied: torch in c:\\users\\patna\\anaconda3\\envs\\stocksentiment\\lib\\site-packages (2.7.1+cpu)\n",
      "Requirement already satisfied: torchvision in c:\\users\\patna\\anaconda3\\envs\\stocksentiment\\lib\\site-packages (0.22.1+cpu)\n",
      "Requirement already satisfied: torchaudio in c:\\users\\patna\\anaconda3\\envs\\stocksentiment\\lib\\site-packages (2.7.1+cpu)\n",
      "Requirement already satisfied: filelock in c:\\users\\patna\\anaconda3\\envs\\stocksentiment\\lib\\site-packages (from torch) (3.17.0)\n",
      "Requirement already satisfied: typing-extensions>=4.10.0 in c:\\users\\patna\\anaconda3\\envs\\stocksentiment\\lib\\site-packages (from torch) (4.14.1)\n",
      "Requirement already satisfied: sympy>=1.13.3 in c:\\users\\patna\\anaconda3\\envs\\stocksentiment\\lib\\site-packages (from torch) (1.14.0)\n",
      "Requirement already satisfied: networkx in c:\\users\\patna\\anaconda3\\envs\\stocksentiment\\lib\\site-packages (from torch) (3.2.1)\n",
      "Requirement already satisfied: jinja2 in c:\\users\\patna\\anaconda3\\envs\\stocksentiment\\lib\\site-packages (from torch) (3.1.6)\n",
      "Requirement already satisfied: fsspec in c:\\users\\patna\\anaconda3\\envs\\stocksentiment\\lib\\site-packages (from torch) (2025.5.1)\n",
      "Requirement already satisfied: numpy in c:\\users\\patna\\anaconda3\\envs\\stocksentiment\\lib\\site-packages (from torchvision) (2.0.1)\n",
      "Requirement already satisfied: pillow!=8.3.*,>=5.3.0 in c:\\users\\patna\\anaconda3\\envs\\stocksentiment\\lib\\site-packages (from torchvision) (11.1.0)\n",
      "Requirement already satisfied: mpmath<1.4,>=1.1.0 in c:\\users\\patna\\anaconda3\\envs\\stocksentiment\\lib\\site-packages (from sympy>=1.13.3->torch) (1.3.0)\n",
      "Requirement already satisfied: MarkupSafe>=2.0 in c:\\users\\patna\\anaconda3\\envs\\stocksentiment\\lib\\site-packages (from jinja2->torch) (3.0.2)\n"
     ]
    }
   ],
   "source": [
    "!pip install torch torchvision torchaudio --index-url https://download.pytorch.org/whl/cpu\n"
   ]
  },
  {
   "cell_type": "code",
   "execution_count": 34,
   "id": "c5661561-b24a-4f60-8a72-d310dfb62375",
   "metadata": {},
   "outputs": [
    {
     "name": "stdout",
     "output_type": "stream",
     "text": [
      "2.7.1+cpu\n"
     ]
    }
   ],
   "source": [
    "import torch\n",
    "print(torch.__version__)\n"
   ]
  },
  {
   "cell_type": "code",
   "execution_count": null,
   "id": "35d27b28-d6d6-4c5f-b4d2-5d927e883cd6",
   "metadata": {},
   "outputs": [],
   "source": [
    "from transformers import pipeline\n",
    "\n",
    "sentiment_task = pipeline(\"sentiment-analysis\", model=\"cardiffnlp/twitter-roberta-base-sentiment-latest\")\n",
    "result = sentiment_task(\"Tesla stock is going to the moon!\")\n",
    "print(result)\n"
   ]
  },
  {
   "cell_type": "code",
   "execution_count": 36,
   "id": "5b7028f4-6d70-4f15-873c-a6842621ae68",
   "metadata": {},
   "outputs": [
    {
     "name": "stdout",
     "output_type": "stream",
     "text": [
      "Requirement already satisfied: ipywidgets in c:\\users\\patna\\anaconda3\\envs\\stocksentiment\\lib\\site-packages (8.1.7)\n",
      "Requirement already satisfied: comm>=0.1.3 in c:\\users\\patna\\anaconda3\\envs\\stocksentiment\\lib\\site-packages (from ipywidgets) (0.2.2)\n",
      "Requirement already satisfied: ipython>=6.1.0 in c:\\users\\patna\\anaconda3\\envs\\stocksentiment\\lib\\site-packages (from ipywidgets) (8.18.1)\n",
      "Requirement already satisfied: traitlets>=4.3.1 in c:\\users\\patna\\anaconda3\\envs\\stocksentiment\\lib\\site-packages (from ipywidgets) (5.14.3)\n",
      "Requirement already satisfied: widgetsnbextension~=4.0.14 in c:\\users\\patna\\anaconda3\\envs\\stocksentiment\\lib\\site-packages (from ipywidgets) (4.0.14)\n",
      "Requirement already satisfied: jupyterlab_widgets~=3.0.15 in c:\\users\\patna\\anaconda3\\envs\\stocksentiment\\lib\\site-packages (from ipywidgets) (3.0.15)\n",
      "Requirement already satisfied: decorator in c:\\users\\patna\\anaconda3\\envs\\stocksentiment\\lib\\site-packages (from ipython>=6.1.0->ipywidgets) (5.2.1)\n",
      "Requirement already satisfied: jedi>=0.16 in c:\\users\\patna\\anaconda3\\envs\\stocksentiment\\lib\\site-packages (from ipython>=6.1.0->ipywidgets) (0.19.2)\n",
      "Requirement already satisfied: matplotlib-inline in c:\\users\\patna\\anaconda3\\envs\\stocksentiment\\lib\\site-packages (from ipython>=6.1.0->ipywidgets) (0.1.7)\n",
      "Requirement already satisfied: prompt-toolkit<3.1.0,>=3.0.41 in c:\\users\\patna\\anaconda3\\envs\\stocksentiment\\lib\\site-packages (from ipython>=6.1.0->ipywidgets) (3.0.51)\n",
      "Requirement already satisfied: pygments>=2.4.0 in c:\\users\\patna\\anaconda3\\envs\\stocksentiment\\lib\\site-packages (from ipython>=6.1.0->ipywidgets) (2.19.2)\n",
      "Requirement already satisfied: stack-data in c:\\users\\patna\\anaconda3\\envs\\stocksentiment\\lib\\site-packages (from ipython>=6.1.0->ipywidgets) (0.6.3)\n",
      "Requirement already satisfied: typing-extensions in c:\\users\\patna\\anaconda3\\envs\\stocksentiment\\lib\\site-packages (from ipython>=6.1.0->ipywidgets) (4.14.1)\n",
      "Requirement already satisfied: exceptiongroup in c:\\users\\patna\\anaconda3\\envs\\stocksentiment\\lib\\site-packages (from ipython>=6.1.0->ipywidgets) (1.3.0)\n",
      "Requirement already satisfied: colorama in c:\\users\\patna\\anaconda3\\envs\\stocksentiment\\lib\\site-packages (from ipython>=6.1.0->ipywidgets) (0.4.6)\n",
      "Requirement already satisfied: wcwidth in c:\\users\\patna\\anaconda3\\envs\\stocksentiment\\lib\\site-packages (from prompt-toolkit<3.1.0,>=3.0.41->ipython>=6.1.0->ipywidgets) (0.2.13)\n",
      "Requirement already satisfied: parso<0.9.0,>=0.8.4 in c:\\users\\patna\\anaconda3\\envs\\stocksentiment\\lib\\site-packages (from jedi>=0.16->ipython>=6.1.0->ipywidgets) (0.8.4)\n",
      "Requirement already satisfied: executing>=1.2.0 in c:\\users\\patna\\anaconda3\\envs\\stocksentiment\\lib\\site-packages (from stack-data->ipython>=6.1.0->ipywidgets) (2.2.0)\n",
      "Requirement already satisfied: asttokens>=2.1.0 in c:\\users\\patna\\anaconda3\\envs\\stocksentiment\\lib\\site-packages (from stack-data->ipython>=6.1.0->ipywidgets) (3.0.0)\n",
      "Requirement already satisfied: pure_eval in c:\\users\\patna\\anaconda3\\envs\\stocksentiment\\lib\\site-packages (from stack-data->ipython>=6.1.0->ipywidgets) (0.2.3)\n"
     ]
    }
   ],
   "source": [
    "!pip install ipywidgets\n"
   ]
  },
  {
   "cell_type": "code",
   "execution_count": 37,
   "id": "9f7629c8-8601-433b-9daa-80ee93b963b5",
   "metadata": {},
   "outputs": [
    {
     "name": "stdout",
     "output_type": "stream",
     "text": [
      "Requirement already satisfied: huggingface_hub[hf_xet] in c:\\users\\patna\\anaconda3\\envs\\stocksentiment\\lib\\site-packages (0.33.2)\n",
      "Requirement already satisfied: filelock in c:\\users\\patna\\anaconda3\\envs\\stocksentiment\\lib\\site-packages (from huggingface_hub[hf_xet]) (3.17.0)\n",
      "Requirement already satisfied: fsspec>=2023.5.0 in c:\\users\\patna\\anaconda3\\envs\\stocksentiment\\lib\\site-packages (from huggingface_hub[hf_xet]) (2025.5.1)\n",
      "Requirement already satisfied: packaging>=20.9 in c:\\users\\patna\\anaconda3\\envs\\stocksentiment\\lib\\site-packages (from huggingface_hub[hf_xet]) (25.0)\n",
      "Requirement already satisfied: pyyaml>=5.1 in c:\\users\\patna\\anaconda3\\envs\\stocksentiment\\lib\\site-packages (from huggingface_hub[hf_xet]) (6.0.2)\n",
      "Requirement already satisfied: requests in c:\\users\\patna\\anaconda3\\envs\\stocksentiment\\lib\\site-packages (from huggingface_hub[hf_xet]) (2.32.4)\n",
      "Requirement already satisfied: tqdm>=4.42.1 in c:\\users\\patna\\anaconda3\\envs\\stocksentiment\\lib\\site-packages (from huggingface_hub[hf_xet]) (4.67.1)\n",
      "Requirement already satisfied: typing-extensions>=3.7.4.3 in c:\\users\\patna\\anaconda3\\envs\\stocksentiment\\lib\\site-packages (from huggingface_hub[hf_xet]) (4.14.1)\n",
      "Requirement already satisfied: hf-xet<2.0.0,>=1.1.2 in c:\\users\\patna\\anaconda3\\envs\\stocksentiment\\lib\\site-packages (from huggingface_hub[hf_xet]) (1.1.5)\n",
      "Requirement already satisfied: colorama in c:\\users\\patna\\anaconda3\\envs\\stocksentiment\\lib\\site-packages (from tqdm>=4.42.1->huggingface_hub[hf_xet]) (0.4.6)\n",
      "Requirement already satisfied: charset_normalizer<4,>=2 in c:\\users\\patna\\anaconda3\\envs\\stocksentiment\\lib\\site-packages (from requests->huggingface_hub[hf_xet]) (3.4.2)\n",
      "Requirement already satisfied: idna<4,>=2.5 in c:\\users\\patna\\anaconda3\\envs\\stocksentiment\\lib\\site-packages (from requests->huggingface_hub[hf_xet]) (3.10)\n",
      "Requirement already satisfied: urllib3<3,>=1.21.1 in c:\\users\\patna\\anaconda3\\envs\\stocksentiment\\lib\\site-packages (from requests->huggingface_hub[hf_xet]) (2.5.0)\n",
      "Requirement already satisfied: certifi>=2017.4.17 in c:\\users\\patna\\anaconda3\\envs\\stocksentiment\\lib\\site-packages (from requests->huggingface_hub[hf_xet]) (2025.7.9)\n"
     ]
    }
   ],
   "source": [
    "!pip install huggingface_hub[hf_xet]\n"
   ]
  },
  {
   "cell_type": "code",
   "execution_count": null,
   "id": "71ed35e0-31dd-468b-ad9b-db0e24399520",
   "metadata": {},
   "outputs": [],
   "source": [
    "from transformers import pipeline\n",
    "\n",
    "sentiment_task = pipeline(\"sentiment-analysis\", model=\"cardiffnlp/twitter-roberta-base-sentiment-latest\")\n",
    "result = sentiment_task(\"Tesla stock is going to the moon!\")\n",
    "print(result)\n"
   ]
  },
  {
   "cell_type": "code",
   "execution_count": null,
   "id": "85a849cd-9538-4381-a36e-7dd431cfb6b1",
   "metadata": {},
   "outputs": [],
   "source": [
    "from transformers import pipeline\n",
    "from tqdm import tqdm\n",
    "\n",
    "sentiment_task = pipeline(\"sentiment-analysis\")\n",
    "tqdm.pandas()\n",
    "\n",
    "df[\"Sentiment\"] = df[\"Text\"].progress_apply(lambda x: sentiment_task(x)[0][\"label\"])"
   ]
  },
  {
   "cell_type": "code",
   "execution_count": 53,
   "id": "14ed6361-5ca9-4d6c-a5f1-760cea77ebce",
   "metadata": {},
   "outputs": [
    {
     "name": "stderr",
     "output_type": "stream",
     "text": [
      "100%|██████████████████████████████████████████████████████████████████████████████████████████████████████████████████████| 13/13 [00:01<00:00,  9.06it/s]\n"
     ]
    }
   ],
   "source": [
    "MAX_LEN = 512  # Token limit for most models\n",
    "\n",
    "def truncate_text(text, tokenizer, max_len=MAX_LEN):\n",
    "    tokens = tokenizer.tokenize(text)\n",
    "    return tokenizer.convert_tokens_to_string(tokens[:max_len])\n",
    "\n",
    "from transformers import AutoTokenizer\n",
    "\n",
    "tokenizer = AutoTokenizer.from_pretrained(\"cardiffnlp/twitter-roberta-base-sentiment-latest\")\n",
    "\n",
    "sent_results = {}\n",
    "count = 0\n",
    "\n",
    "for i, d in tqdm(df.iterrows(), total=len(df)):\n",
    "    short_text = truncate_text(d['Text'], tokenizer)\n",
    "    sent = sentiment_task(short_text)\n",
    "    sent_results[i] = sent[0]\n",
    "\n",
    "    count += 1\n",
    "    if count == 500:\n",
    "        break\n"
   ]
  },
  {
   "cell_type": "code",
   "execution_count": 54,
   "id": "3b642869-e9cf-4184-94a8-34efa48d2ea2",
   "metadata": {},
   "outputs": [
    {
     "data": {
      "text/plain": [
       "{0: {'label': 'NEGATIVE', 'score': 0.9920399188995361},\n",
       " 1: {'label': 'NEGATIVE', 'score': 0.9991078972816467},\n",
       " 2: {'label': 'NEGATIVE', 'score': 0.9474419355392456},\n",
       " 3: {'label': 'NEGATIVE', 'score': 0.9990602135658264},\n",
       " 4: {'label': 'NEGATIVE', 'score': 0.997366726398468},\n",
       " 5: {'label': 'NEGATIVE', 'score': 0.9918290972709656},\n",
       " 6: {'label': 'NEGATIVE', 'score': 0.9914538860321045},\n",
       " 7: {'label': 'POSITIVE', 'score': 0.6815885901451111},\n",
       " 8: {'label': 'NEGATIVE', 'score': 0.9961205124855042},\n",
       " 9: {'label': 'NEGATIVE', 'score': 0.9989708662033081},\n",
       " 10: {'label': 'POSITIVE', 'score': 0.9454691410064697},\n",
       " 11: {'label': 'NEGATIVE', 'score': 0.9077569246292114},\n",
       " 12: {'label': 'NEGATIVE', 'score': 0.9996558427810669}}"
      ]
     },
     "execution_count": 54,
     "metadata": {},
     "output_type": "execute_result"
    }
   ],
   "source": [
    "sent_results"
   ]
  },
  {
   "cell_type": "code",
   "execution_count": 55,
   "id": "4053f9cf-3452-41cf-9b60-ba39dbc405ca",
   "metadata": {},
   "outputs": [],
   "source": [
    "sent_df=pd.DataFrame(sent_results).T"
   ]
  },
  {
   "cell_type": "code",
   "execution_count": 57,
   "id": "d32ba450-76b3-4db5-a58b-bf7f659f6127",
   "metadata": {
    "scrolled": true
   },
   "outputs": [
    {
     "data": {
      "text/html": [
       "<div>\n",
       "<style scoped>\n",
       "    .dataframe tbody tr th:only-of-type {\n",
       "        vertical-align: middle;\n",
       "    }\n",
       "\n",
       "    .dataframe tbody tr th {\n",
       "        vertical-align: top;\n",
       "    }\n",
       "\n",
       "    .dataframe thead th {\n",
       "        text-align: right;\n",
       "    }\n",
       "</style>\n",
       "<table border=\"1\" class=\"dataframe\">\n",
       "  <thead>\n",
       "    <tr style=\"text-align: right;\">\n",
       "      <th></th>\n",
       "      <th>label</th>\n",
       "      <th>score</th>\n",
       "    </tr>\n",
       "  </thead>\n",
       "  <tbody>\n",
       "    <tr>\n",
       "      <th>0</th>\n",
       "      <td>NEGATIVE</td>\n",
       "      <td>0.99204</td>\n",
       "    </tr>\n",
       "    <tr>\n",
       "      <th>1</th>\n",
       "      <td>NEGATIVE</td>\n",
       "      <td>0.999108</td>\n",
       "    </tr>\n",
       "    <tr>\n",
       "      <th>2</th>\n",
       "      <td>NEGATIVE</td>\n",
       "      <td>0.947442</td>\n",
       "    </tr>\n",
       "    <tr>\n",
       "      <th>3</th>\n",
       "      <td>NEGATIVE</td>\n",
       "      <td>0.99906</td>\n",
       "    </tr>\n",
       "    <tr>\n",
       "      <th>4</th>\n",
       "      <td>NEGATIVE</td>\n",
       "      <td>0.997367</td>\n",
       "    </tr>\n",
       "    <tr>\n",
       "      <th>5</th>\n",
       "      <td>NEGATIVE</td>\n",
       "      <td>0.991829</td>\n",
       "    </tr>\n",
       "    <tr>\n",
       "      <th>6</th>\n",
       "      <td>NEGATIVE</td>\n",
       "      <td>0.991454</td>\n",
       "    </tr>\n",
       "    <tr>\n",
       "      <th>7</th>\n",
       "      <td>POSITIVE</td>\n",
       "      <td>0.681589</td>\n",
       "    </tr>\n",
       "    <tr>\n",
       "      <th>8</th>\n",
       "      <td>NEGATIVE</td>\n",
       "      <td>0.996121</td>\n",
       "    </tr>\n",
       "    <tr>\n",
       "      <th>9</th>\n",
       "      <td>NEGATIVE</td>\n",
       "      <td>0.998971</td>\n",
       "    </tr>\n",
       "    <tr>\n",
       "      <th>10</th>\n",
       "      <td>POSITIVE</td>\n",
       "      <td>0.945469</td>\n",
       "    </tr>\n",
       "    <tr>\n",
       "      <th>11</th>\n",
       "      <td>NEGATIVE</td>\n",
       "      <td>0.907757</td>\n",
       "    </tr>\n",
       "    <tr>\n",
       "      <th>12</th>\n",
       "      <td>NEGATIVE</td>\n",
       "      <td>0.999656</td>\n",
       "    </tr>\n",
       "  </tbody>\n",
       "</table>\n",
       "</div>"
      ],
      "text/plain": [
       "       label     score\n",
       "0   NEGATIVE   0.99204\n",
       "1   NEGATIVE  0.999108\n",
       "2   NEGATIVE  0.947442\n",
       "3   NEGATIVE   0.99906\n",
       "4   NEGATIVE  0.997367\n",
       "5   NEGATIVE  0.991829\n",
       "6   NEGATIVE  0.991454\n",
       "7   POSITIVE  0.681589\n",
       "8   NEGATIVE  0.996121\n",
       "9   NEGATIVE  0.998971\n",
       "10  POSITIVE  0.945469\n",
       "11  NEGATIVE  0.907757\n",
       "12  NEGATIVE  0.999656"
      ]
     },
     "execution_count": 57,
     "metadata": {},
     "output_type": "execute_result"
    }
   ],
   "source": [
    "sent_df"
   ]
  },
  {
   "cell_type": "code",
   "execution_count": 61,
   "id": "6f689dd2-41dd-4e96-a703-b7fbc39f0336",
   "metadata": {},
   "outputs": [
    {
     "name": "stdout",
     "output_type": "stream",
     "text": [
      "      label     score                                              Title  \\\n",
      "0  NEGATIVE  0.992040  Trump Just Dropped The 50% ‘Copper Tariff Bomb...   \n",
      "1  NEGATIVE  0.999108  Replace one company from the mag 7 with anothe...   \n",
      "2  NEGATIVE  0.947442                                   Best short ideas   \n",
      "3  NEGATIVE  0.999060                                      “Ai” Bullshit   \n",
      "4  NEGATIVE  0.997367  A list of stocks(in drawdown) affected by the ...   \n",
      "\n",
      "                                                Body  Score  \\\n",
      "0  That's right ...Trump just announced that he w...    435   \n",
      "1  If I had to replace a mag 7 company, my vote w...      0   \n",
      "2  Currently markets are quite optimistic and ric...      6   \n",
      "3  Is anyone else getting annoyed by the term “Ai...     88   \n",
      "4  1. $DELL - Dell Technologies Inc. \\n2. $HPQ - ...     20   \n",
      "\n",
      "                 Date                                               Text  \n",
      "0 2025-07-10 18:43:28  Trump Just Dropped The 50% ‘Copper Tariff Bomb...  \n",
      "1 2025-07-10 12:11:59  Replace one company from the mag 7 with anothe...  \n",
      "2 2025-07-10 10:53:13  Best short ideas Currently markets are quite o...  \n",
      "3 2025-07-10 02:08:31  “Ai” Bullshit Is anyone else getting annoyed b...  \n",
      "4 2025-07-09 22:00:19  A list of stocks(in drawdown) affected by the ...  \n"
     ]
    }
   ],
   "source": [
    "# Convert the sentiment results dictionary to a DataFrame\n",
    "sent_df = pd.DataFrame(sent_results).T\n",
    "\n",
    "# Extract 'label' and 'score' from the results\n",
    "sent_df[\"label\"] = sent_df.apply(lambda x: x[\"label\"], axis=1)\n",
    "sent_df[\"score\"] = sent_df.apply(lambda x: x[\"score\"], axis=1)\n",
    "\n",
    "# Merge with original Reddit DataFrame using the index\n",
    "merged_df = sent_df.merge(df, left_index=True, right_index=True)\n",
    "\n",
    "# Preview result\n",
    "print(merged_df.head())\n"
   ]
  },
  {
   "cell_type": "code",
   "execution_count": 60,
   "id": "3d2f68c1-d400-4c78-88f4-2191247abd97",
   "metadata": {},
   "outputs": [
    {
     "name": "stdout",
     "output_type": "stream",
     "text": [
      "Index(['Title', 'Body', 'Score', 'Date', 'Text'], dtype='object')\n"
     ]
    }
   ],
   "source": [
    "print(df.columns)\n"
   ]
  },
  {
   "cell_type": "code",
   "execution_count": 62,
   "id": "b1c0a16b-dd29-49fd-a29e-62fcb7c5eec9",
   "metadata": {},
   "outputs": [
    {
     "data": {
      "text/html": [
       "<div>\n",
       "<style scoped>\n",
       "    .dataframe tbody tr th:only-of-type {\n",
       "        vertical-align: middle;\n",
       "    }\n",
       "\n",
       "    .dataframe tbody tr th {\n",
       "        vertical-align: top;\n",
       "    }\n",
       "\n",
       "    .dataframe thead th {\n",
       "        text-align: right;\n",
       "    }\n",
       "</style>\n",
       "<table border=\"1\" class=\"dataframe\">\n",
       "  <thead>\n",
       "    <tr style=\"text-align: right;\">\n",
       "      <th></th>\n",
       "      <th>label</th>\n",
       "      <th>score</th>\n",
       "      <th>Title</th>\n",
       "      <th>Body</th>\n",
       "      <th>Score</th>\n",
       "      <th>Date</th>\n",
       "      <th>Text</th>\n",
       "    </tr>\n",
       "  </thead>\n",
       "  <tbody>\n",
       "    <tr>\n",
       "      <th>0</th>\n",
       "      <td>NEGATIVE</td>\n",
       "      <td>0.992040</td>\n",
       "      <td>Trump Just Dropped The 50% ‘Copper Tariff Bomb...</td>\n",
       "      <td>That's right ...Trump just announced that he w...</td>\n",
       "      <td>435</td>\n",
       "      <td>2025-07-10 18:43:28</td>\n",
       "      <td>Trump Just Dropped The 50% ‘Copper Tariff Bomb...</td>\n",
       "    </tr>\n",
       "    <tr>\n",
       "      <th>1</th>\n",
       "      <td>NEGATIVE</td>\n",
       "      <td>0.999108</td>\n",
       "      <td>Replace one company from the mag 7 with anothe...</td>\n",
       "      <td>If I had to replace a mag 7 company, my vote w...</td>\n",
       "      <td>0</td>\n",
       "      <td>2025-07-10 12:11:59</td>\n",
       "      <td>Replace one company from the mag 7 with anothe...</td>\n",
       "    </tr>\n",
       "    <tr>\n",
       "      <th>2</th>\n",
       "      <td>NEGATIVE</td>\n",
       "      <td>0.947442</td>\n",
       "      <td>Best short ideas</td>\n",
       "      <td>Currently markets are quite optimistic and ric...</td>\n",
       "      <td>6</td>\n",
       "      <td>2025-07-10 10:53:13</td>\n",
       "      <td>Best short ideas Currently markets are quite o...</td>\n",
       "    </tr>\n",
       "    <tr>\n",
       "      <th>3</th>\n",
       "      <td>NEGATIVE</td>\n",
       "      <td>0.999060</td>\n",
       "      <td>“Ai” Bullshit</td>\n",
       "      <td>Is anyone else getting annoyed by the term “Ai...</td>\n",
       "      <td>88</td>\n",
       "      <td>2025-07-10 02:08:31</td>\n",
       "      <td>“Ai” Bullshit Is anyone else getting annoyed b...</td>\n",
       "    </tr>\n",
       "    <tr>\n",
       "      <th>4</th>\n",
       "      <td>NEGATIVE</td>\n",
       "      <td>0.997367</td>\n",
       "      <td>A list of stocks(in drawdown) affected by the ...</td>\n",
       "      <td>1. $DELL - Dell Technologies Inc. \\n2. $HPQ - ...</td>\n",
       "      <td>20</td>\n",
       "      <td>2025-07-09 22:00:19</td>\n",
       "      <td>A list of stocks(in drawdown) affected by the ...</td>\n",
       "    </tr>\n",
       "    <tr>\n",
       "      <th>5</th>\n",
       "      <td>NEGATIVE</td>\n",
       "      <td>0.991829</td>\n",
       "      <td>Elon Musk Called LiDAR “Lame” as Tesla Robotax...</td>\n",
       "      <td>To what extent are Elon Musk's decisions regar...</td>\n",
       "      <td>276</td>\n",
       "      <td>2025-07-09 18:36:35</td>\n",
       "      <td>Elon Musk Called LiDAR “Lame” as Tesla Robotax...</td>\n",
       "    </tr>\n",
       "    <tr>\n",
       "      <th>6</th>\n",
       "      <td>NEGATIVE</td>\n",
       "      <td>0.991454</td>\n",
       "      <td>Tesla self driving urged to be banned - Tesla ...</td>\n",
       "      <td>I guess that reduces death liability.\\n\\nThe D...</td>\n",
       "      <td>288</td>\n",
       "      <td>2025-07-08 23:08:59</td>\n",
       "      <td>Tesla self driving urged to be banned - Tesla ...</td>\n",
       "    </tr>\n",
       "    <tr>\n",
       "      <th>7</th>\n",
       "      <td>POSITIVE</td>\n",
       "      <td>0.681589</td>\n",
       "      <td>Investing In Something You Believe In Rather T...</td>\n",
       "      <td>Prefix, my buddy has been right on a couple of...</td>\n",
       "      <td>0</td>\n",
       "      <td>2025-07-08 17:54:27</td>\n",
       "      <td>Investing In Something You Believe In Rather T...</td>\n",
       "    </tr>\n",
       "    <tr>\n",
       "      <th>8</th>\n",
       "      <td>NEGATIVE</td>\n",
       "      <td>0.996121</td>\n",
       "      <td>This week is going to be interesting for Tesla...</td>\n",
       "      <td>https://www.politico.com/news/2025/07/06/musk-...</td>\n",
       "      <td>247</td>\n",
       "      <td>2025-07-07 05:41:00</td>\n",
       "      <td>This week is going to be interesting for Tesla...</td>\n",
       "    </tr>\n",
       "    <tr>\n",
       "      <th>9</th>\n",
       "      <td>NEGATIVE</td>\n",
       "      <td>0.998971</td>\n",
       "      <td>Well, the real economy will end up tagging the...</td>\n",
       "      <td>Despite the recent resilience, the US stock ma...</td>\n",
       "      <td>66</td>\n",
       "      <td>2025-07-06 07:03:43</td>\n",
       "      <td>Well, the real economy will end up tagging the...</td>\n",
       "    </tr>\n",
       "  </tbody>\n",
       "</table>\n",
       "</div>"
      ],
      "text/plain": [
       "      label     score                                              Title  \\\n",
       "0  NEGATIVE  0.992040  Trump Just Dropped The 50% ‘Copper Tariff Bomb...   \n",
       "1  NEGATIVE  0.999108  Replace one company from the mag 7 with anothe...   \n",
       "2  NEGATIVE  0.947442                                   Best short ideas   \n",
       "3  NEGATIVE  0.999060                                      “Ai” Bullshit   \n",
       "4  NEGATIVE  0.997367  A list of stocks(in drawdown) affected by the ...   \n",
       "5  NEGATIVE  0.991829  Elon Musk Called LiDAR “Lame” as Tesla Robotax...   \n",
       "6  NEGATIVE  0.991454  Tesla self driving urged to be banned - Tesla ...   \n",
       "7  POSITIVE  0.681589  Investing In Something You Believe In Rather T...   \n",
       "8  NEGATIVE  0.996121  This week is going to be interesting for Tesla...   \n",
       "9  NEGATIVE  0.998971  Well, the real economy will end up tagging the...   \n",
       "\n",
       "                                                Body  Score  \\\n",
       "0  That's right ...Trump just announced that he w...    435   \n",
       "1  If I had to replace a mag 7 company, my vote w...      0   \n",
       "2  Currently markets are quite optimistic and ric...      6   \n",
       "3  Is anyone else getting annoyed by the term “Ai...     88   \n",
       "4  1. $DELL - Dell Technologies Inc. \\n2. $HPQ - ...     20   \n",
       "5  To what extent are Elon Musk's decisions regar...    276   \n",
       "6  I guess that reduces death liability.\\n\\nThe D...    288   \n",
       "7  Prefix, my buddy has been right on a couple of...      0   \n",
       "8  https://www.politico.com/news/2025/07/06/musk-...    247   \n",
       "9  Despite the recent resilience, the US stock ma...     66   \n",
       "\n",
       "                 Date                                               Text  \n",
       "0 2025-07-10 18:43:28  Trump Just Dropped The 50% ‘Copper Tariff Bomb...  \n",
       "1 2025-07-10 12:11:59  Replace one company from the mag 7 with anothe...  \n",
       "2 2025-07-10 10:53:13  Best short ideas Currently markets are quite o...  \n",
       "3 2025-07-10 02:08:31  “Ai” Bullshit Is anyone else getting annoyed b...  \n",
       "4 2025-07-09 22:00:19  A list of stocks(in drawdown) affected by the ...  \n",
       "5 2025-07-09 18:36:35  Elon Musk Called LiDAR “Lame” as Tesla Robotax...  \n",
       "6 2025-07-08 23:08:59  Tesla self driving urged to be banned - Tesla ...  \n",
       "7 2025-07-08 17:54:27  Investing In Something You Believe In Rather T...  \n",
       "8 2025-07-07 05:41:00  This week is going to be interesting for Tesla...  \n",
       "9 2025-07-06 07:03:43  Well, the real economy will end up tagging the...  "
      ]
     },
     "execution_count": 62,
     "metadata": {},
     "output_type": "execute_result"
    }
   ],
   "source": [
    "merged_df.head(10)\n"
   ]
  },
  {
   "cell_type": "code",
   "execution_count": 64,
   "id": "fb1ae393-93d9-4395-a39d-25a3bcd96b7f",
   "metadata": {},
   "outputs": [
    {
     "data": {
      "image/png": "[encoded data removed]",
      "text/plain": [
       "<Figure size 640x480 with 1 Axes>"
      ]
     },
     "metadata": {},
     "output_type": "display_data"
    }
   ],
   "source": [
    "sent_df.groupby(\"label\")['score'].plot(kind='hist', bins=50)\n",
    "plt.legend()\n",
    "plt.show()"
   ]
  },
  {
   "cell_type": "code",
   "execution_count": null,
   "id": "13a5c625-5bf9-4f96-9b8e-579e9d2f68bb",
   "metadata": {},
   "outputs": [],
   "source": []
  }
 ],
 "metadata": {
  "kernelspec": {
   "display_name": "Python (stocksentiment)",
   "language": "python",
   "name": "stocksentiment"
  },
  "language_info": {
   "codemirror_mode": {
    "name": "ipython",
    "version": 3
   },
   "file_extension": ".py",
   "mimetype": "text/x-python",
   "name": "python",
   "nbconvert_exporter": "python",
   "pygments_lexer": "ipython3",
   "version": "3.9.23"
  }
 },
 "nbformat": 4,
 "nbformat_minor": 5
}
